{
  "cells": [
    {
      "cell_type": "markdown",
      "metadata": {
        "id": "y1HMD4oI7FL7"
      },
      "source": [
        "### Operators in Python:-  Operators are special symbols or keywords in Python that perform operations on variables and values\n",
        "\n",
        "- Arithmetic Operators\n",
        "- Relational Operators\n",
        "- Logical Operators\n",
        "- Bitwise Operators\n",
        "- Assignment Operators\n",
        "- Membership Operators"
      ]
    },
    {
      "cell_type": "markdown",
      "metadata": {},
      "source": [
        "### Arithnetic Operators:-Used to perform mathematical operations"
      ]
    },
    {
      "cell_type": "code",
      "execution_count": null,
      "metadata": {
        "colab": {
          "base_uri": "https://localhost:8080/"
        },
        "id": "a7cegk-f7U4-",
        "outputId": "77490d0d-316e-4611-9cd7-8c99e64fca2a"
      },
      "outputs": [
        {
          "name": "stdout",
          "output_type": "stream",
          "text": [
            "11\n",
            "-1\n",
            "30\n",
            "2.5\n",
            "2\n",
            "1\n",
            "25\n"
          ]
        }
      ],
      "source": [
        "# Arithmetric Operators\n",
        "# addittion\n",
        "print(5+6)\n",
        "# subtraction\n",
        "print(5-6)\n",
        "# multiplication\n",
        "print(5*6)\n",
        "# divison\n",
        "print(5/2)\n",
        "# floor division\n",
        "print(5//2)\n",
        "# modulus (remainder)\n",
        "print(5%2)\n",
        "# exponentiation (power of)\n",
        "print(5**2)"
      ]
    },
    {
      "cell_type": "markdown",
      "metadata": {},
      "source": [
        "### Relational Operator:- Used to compare two values and return a Boolean result  (True or False)."
      ]
    },
    {
      "cell_type": "code",
      "execution_count": 2,
      "metadata": {
        "colab": {
          "base_uri": "https://localhost:8080/"
        },
        "id": "TMIQKhFd7Y5A",
        "outputId": "573867e9-962a-45a6-a313-dcaa8b9a6406"
      },
      "outputs": [
        {
          "name": "stdout",
          "output_type": "stream",
          "text": [
            "False\n",
            "True\n",
            "True\n",
            "True\n",
            "True\n",
            "False\n"
          ]
        }
      ],
      "source": [
        "# Greater than\n",
        "print(4>5)\n",
        "# less than\n",
        "print(4<5)\n",
        "# greater than or equal to\n",
        "print(4>=4)\n",
        "# less than or equal to\n",
        "print(4<=4)\n",
        "# equal to\n",
        "print(4==4)\n",
        "# not equal to\n",
        "print(4!=4)"
      ]
    },
    {
      "cell_type": "markdown",
      "metadata": {},
      "source": [
        "### Logical operator:- Used to combine conditional statements"
      ]
    },
    {
      "cell_type": "code",
      "execution_count": 3,
      "metadata": {
        "colab": {
          "base_uri": "https://localhost:8080/"
        },
        "id": "vyxdjDbc7avq",
        "outputId": "4c6a1710-fea3-466c-f6b2-f98de20a2a0b"
      },
      "outputs": [
        {
          "name": "stdout",
          "output_type": "stream",
          "text": [
            "0\n",
            "1\n",
            "False\n"
          ]
        }
      ],
      "source": [
        "# True and False = False\n",
        "print(1 and 0)\n",
        "# True or False = True\n",
        "print(1 or 0)\n",
        "# not True = False\n",
        "print(not 1)"
      ]
    },
    {
      "cell_type": "markdown",
      "metadata": {},
      "source": [
        "### Bitwise Operator:- Operate on binary representation of numbers"
      ]
    },
    {
      "cell_type": "code",
      "execution_count": null,
      "metadata": {
        "colab": {
          "base_uri": "https://localhost:8080/"
        },
        "id": "H4KzpSke7d9l",
        "outputId": "5832a648-6430-425c-8fa7-8dbad5d8d4b3"
      },
      "outputs": [
        {
          "name": "stdout",
          "output_type": "stream",
          "text": [
            "2\n",
            "3\n",
            "1\n",
            "-4\n",
            "1\n",
            "20\n"
          ]
        }
      ],
      "source": [
        "# Bitwise Operators\n",
        "\n",
        "# bitwise and\n",
        "print(2 & 3)\n",
        "\n",
        "# bitwise or\n",
        "print(2 | 3)\n",
        "\n",
        "# bitwise xor\n",
        "print(2 ^ 3)\n",
        "\n",
        "# bitwise not\n",
        "print(~3)\n",
        "\n",
        "# Right shift\n",
        "print(4 >> 2)\n",
        "\n",
        "# Left shift\n",
        "print(5 << 2)"
      ]
    },
    {
      "cell_type": "markdown",
      "metadata": {},
      "source": [
        "### Assignment Operator:- used to assign values to variables"
      ]
    },
    {
      "cell_type": "code",
      "execution_count": 10,
      "metadata": {
        "colab": {
          "base_uri": "https://localhost:8080/"
        },
        "id": "8EEm8eHO7gD_",
        "outputId": "a421f118-2ee3-42da-91ff-3cd06de41755"
      },
      "outputs": [
        {
          "name": "stdout",
          "output_type": "stream",
          "text": [
            "7\n",
            "6\n",
            "12\n",
            "6.0\n",
            "0.0\n",
            "0.0\n"
          ]
        }
      ],
      "source": [
        "a = 5 \n",
        "a += 2\n",
        "print(a)\n",
        "a -= 1 \n",
        "print(a)\n",
        "a *= 2\n",
        "print(a)\n",
        "a /= 2\n",
        "print(a)\n",
        "a %= 2\n",
        "print(a)\n",
        "a**=2\n",
        "print(a)"
      ]
    },
    {
      "cell_type": "markdown",
      "metadata": {},
      "source": [
        "### Membership operator:- Used to check if a value is a member of a sequence (like a list, string, or tuple)."
      ]
    },
    {
      "cell_type": "code",
      "execution_count": 11,
      "metadata": {
        "colab": {
          "base_uri": "https://localhost:8080/"
        },
        "id": "LzrIz7I87h-W",
        "outputId": "d362a8a0-bbae-406f-bd33-fc6fe789e889"
      },
      "outputs": [
        {
          "name": "stdout",
          "output_type": "stream",
          "text": [
            "False\n",
            "False\n"
          ]
        }
      ],
      "source": [
        "# in - returns True if the value is found in the sequence\n",
        "print('D' not in 'Delhi')\n",
        "\n",
        "# not in - returns True if value does not exist\n",
        "\n",
        "print(1 in [2,3,4,5,6])"
      ]
    },
    {
      "cell_type": "code",
      "execution_count": 12,
      "metadata": {
        "colab": {
          "base_uri": "https://localhost:8080/"
        },
        "id": "C-LoVrYGDEuB",
        "outputId": "5842d198-7b4f-4785-cec7-5735603ab873"
      },
      "outputs": [
        {
          "name": "stdout",
          "output_type": "stream",
          "text": [
            "7\n"
          ]
        }
      ],
      "source": [
        "# Program - Find the sum of a 3 digit number entered by the user\n",
        "\n",
        "number = int(input('Enter a 3 digit number'))\n",
        "\n",
        "# 345%10 -> 5\n",
        "a = number%10\n",
        "\n",
        "number = number//10\n",
        "\n",
        "# 34%10 -> 4\n",
        "b = number % 10\n",
        "\n",
        "number = number//10\n",
        "# 3 % 10 -> 3\n",
        "c = number % 10\n",
        "\n",
        "print(a + b + c)"
      ]
    },
    {
      "cell_type": "markdown",
      "metadata": {
        "id": "Iq7CzVFs7mWT"
      },
      "source": [
        "#### If-else in Python:- The if-else condition in Python is used to execute a block of code based on whether a condition is True or False. Here's how it works\n",
        "\n",
        "- `if condition`:\n",
        "-        # Code to execute if condition is True\n",
        "\n",
        "\n",
        "- `elif another_condition`:\n",
        "\n",
        "        # Code to execute if the first condition is False and this condition is True\n",
        "\n",
        "\n",
        "\n",
        "- `else`:\n",
        "-       # Code to execute if all conditions are False"
      ]
    },
    {
      "cell_type": "code",
      "execution_count": 13,
      "metadata": {
        "colab": {
          "base_uri": "https://localhost:8080/"
        },
        "id": "dGz-83pN7oxe",
        "outputId": "01cd71cf-6af3-464a-dcc1-8c21be5e092c"
      },
      "outputs": [
        {
          "name": "stdout",
          "output_type": "stream",
          "text": [
            "Grade: B\n"
          ]
        }
      ],
      "source": [
        "marks = int(input(\"Enter your marks: \"))\n",
        "\n",
        "if marks >= 90:\n",
        "    print(\"Grade: A\")\n",
        "elif marks >= 75:\n",
        "    print(\"Grade: B\")\n",
        "elif marks >= 50:\n",
        "    print(\"Grade: C\")\n",
        "else:\n",
        "    print(\"Grade: F\")"
      ]
    },
    {
      "cell_type": "code",
      "execution_count": null,
      "metadata": {
        "colab": {
          "base_uri": "https://localhost:8080/"
        },
        "id": "gQpTJbMH3W6_",
        "outputId": "3a2ff0d1-a8d2-4b41-eb50-49612c57b612"
      },
      "outputs": [
        {
          "name": "stdout",
          "output_type": "stream",
          "text": [
            "first num4\n",
            "second num1\n",
            "third num10\n",
            "smallest is 1\n"
          ]
        }
      ],
      "source": [
        "# min of 3 number\n",
        "\n",
        "a = int(input('first num'))\n",
        "b = int(input('second num'))\n",
        "c = int(input('third num'))\n",
        "\n",
        "if a<b and a<c:\n",
        "  print('smallest is',a)\n",
        "elif b<c:\n",
        "  print('smallest is',b)\n",
        "else:\n",
        "  print('smallest is',c)"
      ]
    },
    {
      "cell_type": "markdown",
      "metadata": {
        "id": "2Ow6_gWG7ukc"
      },
      "source": [
        "#### Loops in Python:- Loops in Python are used to execute a block of code repeatedly as long as a condition is met. They help automate repetitive tasks and reduce code redundancy\n",
        "\n",
        "#### Types of Loops in Pyhton\n",
        "- while Loop: Repeats a block of code as long as the condition is True.\n",
        "- for Loop: Iterates over a sequence (like a list, tuple, string, or range)"
      ]
    },
    {
      "cell_type": "code",
      "execution_count": null,
      "metadata": {
        "colab": {
          "base_uri": "https://localhost:8080/"
        },
        "id": "brWSxgiu9rrQ",
        "outputId": "eb64e76c-ee60-4584-9d00-9fd6729d39e8"
      },
      "outputs": [
        {
          "name": "stdout",
          "output_type": "stream",
          "text": [
            "enter the number12\n",
            "12 * 1 = 12\n",
            "12 * 2 = 24\n",
            "12 * 3 = 36\n",
            "12 * 4 = 48\n",
            "12 * 5 = 60\n",
            "12 * 6 = 72\n",
            "12 * 7 = 84\n",
            "12 * 8 = 96\n",
            "12 * 9 = 108\n",
            "12 * 10 = 120\n"
          ]
        }
      ],
      "source": [
        "number = int(input('enter the number'))\n",
        "\n",
        "i = 1\n",
        "\n",
        "while i<11:\n",
        "  print(number,'*',i,'=',number * i)\n",
        "  i += 1"
      ]
    },
    {
      "cell_type": "markdown",
      "metadata": {},
      "source": [
        "### while loop with else:- else block is executed when the while loop condition becomes False\n",
        "#### if the loop is terminated prematurely using a break statement, the else block will not execute.\n",
        "\n",
        "\n",
        "- while condition:\n",
        "-     # Code to execute while the condition is True\n",
        "- else:\n",
        "-     # Code to execute when the condition becomes False"
      ]
    },
    {
      "cell_type": "code",
      "execution_count": 14,
      "metadata": {
        "colab": {
          "base_uri": "https://localhost:8080/"
        },
        "id": "Ltsr9n3H73fp",
        "outputId": "a47f2a11-bf75-4a0a-923c-49f318514900"
      },
      "outputs": [
        {
          "name": "stdout",
          "output_type": "stream",
          "text": [
            "1\n",
            "2\n",
            "limit crossed\n"
          ]
        }
      ],
      "source": [
        "# while loop with else\n",
        "\n",
        "x = 1\n",
        "\n",
        "while x < 3:\n",
        "  print(x)\n",
        "  x += 1\n",
        "\n",
        "else:\n",
        "  print('limit crossed')"
      ]
    },
    {
      "cell_type": "code",
      "execution_count": null,
      "metadata": {
        "colab": {
          "base_uri": "https://localhost:8080/"
        },
        "id": "bjjx0fMr8SWh",
        "outputId": "a3bf4676-a68c-499f-fc00-e0fe0f04285b"
      },
      "outputs": [
        {
          "name": "stdout",
          "output_type": "stream",
          "text": [
            "1\n",
            "2\n",
            "3\n",
            "4\n",
            "5\n"
          ]
        }
      ],
      "source": [
        "# For loop demo\n",
        "\n",
        "for i in {1,2,3,4,5}:\n",
        "  print(i)"
      ]
    },
    {
      "cell_type": "markdown",
      "metadata": {},
      "source": [
        "#### else block is executed after the for loop completes all its iterations.\n",
        "##### if the loop is terminated prematurely using a break statement, the else block will not execute\n",
        "- for item in iterable:\n",
        "-        # Code to execute for each item\n",
        "- else:\n",
        "-        # Code to execute after the loop finishes"
      ]
    },
    {
      "cell_type": "code",
      "execution_count": 15,
      "metadata": {},
      "outputs": [
        {
          "name": "stdout",
          "output_type": "stream",
          "text": [
            "0\n",
            "1\n",
            "2\n",
            "3\n",
            "4\n",
            "Loop completed successfully.\n"
          ]
        }
      ],
      "source": [
        "for i in range(5):\n",
        "    print(i)\n",
        "else:\n",
        "    print(\"Loop completed successfully.\")"
      ]
    },
    {
      "cell_type": "markdown",
      "metadata": {},
      "source": [
        "#### When to use Loops\n",
        "- Use a while loop when the number of iterations is not known beforehand (e.g., user input).\n",
        "- Use a for loop when iterating over a sequence or when the number of iterations is fixed."
      ]
    },
    {
      "cell_type": "markdown",
      "metadata": {
        "id": "1bdP8FTX87Du"
      },
      "source": [
        "### Nested Loops:- Nested loops are loops inside another loop. The inner loop executes completely for each iteration of the outer loop\n",
        "\n",
        "- for outer_variable in outer_sequence:\n",
        "-     for inner_variable in inner_sequence:\n",
        "-         # Code to execute for each combination of outer and inner variables"
      ]
    },
    {
      "cell_type": "code",
      "execution_count": 16,
      "metadata": {},
      "outputs": [
        {
          "name": "stdout",
          "output_type": "stream",
          "text": [
            "1 x 1 = 1\n",
            "1 x 2 = 2\n",
            "1 x 3 = 3\n",
            "\n",
            "2 x 1 = 2\n",
            "2 x 2 = 4\n",
            "2 x 3 = 6\n",
            "\n",
            "3 x 1 = 3\n",
            "3 x 2 = 6\n",
            "3 x 3 = 9\n",
            "\n"
          ]
        }
      ],
      "source": [
        "for i in range(1, 4):  # Outer loop for rows\n",
        "    for j in range(1, 4):  # Inner loop for columns\n",
        "        print(f\"{i} x {j} = {i * j}\")\n",
        "    print()  # Blank line after each row"
      ]
    },
    {
      "cell_type": "markdown",
      "metadata": {},
      "source": [
        "### Loop Control System:- Loop control statements are used to change the flow of execution in loops.\n",
        "#### Python provides three main loop control statements:\n",
        "- break:- used to terminate the loop prematurely and stops the loop execution and exits the loop immediately\n",
        "- continue:- used to skip the current iteration of the loop and move to the next iteration and does not terminate the loop but skips the remaining code in the current iteration\n",
        "- pass:- is a placeholder that does nothing and used when a statement is syntactically required but no action is needed"
      ]
    },
    {
      "cell_type": "code",
      "execution_count": 17,
      "metadata": {
        "id": "kN9s2dG89DlJ"
      },
      "outputs": [
        {
          "name": "stdout",
          "output_type": "stream",
          "text": [
            "1\n",
            "2\n",
            "1\n",
            "2\n",
            "4\n",
            "5\n",
            "1\n",
            "2\n",
            "3\n",
            "4\n",
            "5\n"
          ]
        }
      ],
      "source": [
        "for i in range(1, 6):\n",
        "    if i == 3:\n",
        "        break  # Exit the loop when i equals 3\n",
        "    print(i)\n",
        "\n",
        "\n",
        "\n",
        "\n",
        "for i in range(1, 6):\n",
        "    if i == 3:\n",
        "        continue  # Skip the iteration when i equals 3\n",
        "    print(i)\n",
        "\n",
        "\n",
        "for i in range(1, 6):\n",
        "    if i == 3:\n",
        "        pass  # Do nothing when i equals 3\n",
        "    print(i)"
      ]
    }
  ],
  "metadata": {
    "colab": {
      "provenance": []
    },
    "kernelspec": {
      "display_name": "base",
      "language": "python",
      "name": "python3"
    },
    "language_info": {
      "codemirror_mode": {
        "name": "ipython",
        "version": 3
      },
      "file_extension": ".py",
      "mimetype": "text/x-python",
      "name": "python",
      "nbconvert_exporter": "python",
      "pygments_lexer": "ipython3",
      "version": "3.12.7"
    }
  },
  "nbformat": 4,
  "nbformat_minor": 0
}
