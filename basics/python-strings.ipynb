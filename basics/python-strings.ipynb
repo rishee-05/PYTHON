{
  "cells": [
    {
      "cell_type": "markdown",
      "metadata": {
        "id": "iz0prYf-LiFB"
      },
      "source": [
        "### Strings are sequence of Characters\n",
        "### strings are a sequence of Unicode Characters\n"
      ]
    },
    {
      "cell_type": "markdown",
      "metadata": {
        "id": "i75VO5hxL_4K"
      },
      "source": [
        "#### Creating Stings\n",
        "- Quotes used :- either single ('  ') or double(\"  \")"
      ]
    },
    {
      "cell_type": "code",
      "execution_count": null,
      "metadata": {
        "colab": {
          "base_uri": "https://localhost:8080/"
        },
        "id": "FqMi90xxLotH",
        "outputId": "a4df54d5-c62e-4f3b-c012-955e8c9c6f28"
      },
      "outputs": [
        {
          "name": "stdout",
          "output_type": "stream",
          "text": [
            "hello\n"
          ]
        }
      ],
      "source": [
        "s = 'hello'\n",
        "s = \"hello\"\n",
        "\n",
        "\n",
        "# multiline strings:-  string that spans across multiple lines by using triple quotes\n",
        "\n",
        "\n",
        "s = '''hello'''\n",
        "s = \"\"\"hello\"\"\"\n",
        "s = str('hello')\n",
        "print(s)"
      ]
    },
    {
      "cell_type": "markdown",
      "metadata": {},
      "source": [
        "#### Length function of string:- To find how many characters a string has.\n"
      ]
    },
    {
      "cell_type": "code",
      "execution_count": null,
      "metadata": {},
      "outputs": [
        {
          "name": "stdout",
          "output_type": "stream",
          "text": [
            "hello everyone i am Rishi\n",
            "25\n"
          ]
        }
      ],
      "source": [
        "string = \"hello everyone i am Rishi\"\n",
        "print(string)\n",
        "print(len(string))          # Length of string - 25"
      ]
    },
    {
      "cell_type": "markdown",
      "metadata": {},
      "source": [
        "#### Indexing:- har character ka position number assign karna\n",
        "- from left end of string starts from 0 and end till len(string)-1\n",
        "- from right end of string starts with -1 to len(string) from right side\n",
        "\n",
        "\n",
        "##### Types of indexing\n",
        "- Positive Indexing :- Left to Right\n",
        "- Negative Indexing :- Right to Left"
      ]
    },
    {
      "cell_type": "code",
      "execution_count": null,
      "metadata": {},
      "outputs": [
        {
          "name": "stdout",
          "output_type": "stream",
          "text": [
            "Rishabh Joshi\n",
            "s\n",
            "i\n"
          ]
        }
      ],
      "source": [
        "char = \"Rishabh Joshi\"\n",
        "print(char)\n",
        "print(char[2])              # Positive Indexing\n",
        "print(char[-1])             # Negative Indexing"
      ]
    },
    {
      "cell_type": "markdown",
      "metadata": {},
      "source": [
        "##### Substring:- just a part of a string\n",
        "- syntax for accesssing sub-string:- text[start:end]\n",
        "- Method of getting substring called slicing \n",
        "##### types of slicing:- \n",
        "- Positive\n",
        "- Negative\n",
        "\n",
        "\n",
        "\n",
        "##### syntax of Slicing with Jump (Step):\n",
        "- string[start:end:step]"
      ]
    },
    {
      "cell_type": "code",
      "execution_count": 11,
      "metadata": {
        "colab": {
          "base_uri": "https://localhost:8080/",
          "height": 204
        },
        "id": "es8p3f7FMGP1",
        "outputId": "bb82c5df-fd38-420d-dd57-0a362aa57c67"
      },
      "outputs": [
        {
          "name": "stdout",
          "output_type": "stream",
          "text": [
            "hello\n",
            "hlo\n",
            "hello I am R\n",
            "ecneics atad g\n",
            "isRm  l\n",
            "ecneics atad gninrael ma I dna ihsiR ma I olleh\n"
          ]
        }
      ],
      "source": [
        "# Positive Slicing\n",
        "s = 'hello I am Rishi and I am learning data science'\n",
        "print(s[0:5])             # hello\n",
        "print(s[0:5:2])          # hlo\n",
        "print(s[0:12:1])          # hello\n",
        "\n",
        "# negative Slicing\n",
        "\n",
        "print(s[-1:-15:-1])         \n",
        "print(s[15:1:-2])         \n",
        "\n",
        "\n",
        "# reversing string\n",
        "print(s[::-1])            # ecnediseat gninrael ma I hsiriR"
      ]
    },
    {
      "cell_type": "markdown",
      "metadata": {},
      "source": [
        "##### String Concatenation:- Joining two or more strings using + operator\n",
        "##### Repetition:- Repeating a string multiple times using * operator"
      ]
    },
    {
      "cell_type": "code",
      "execution_count": null,
      "metadata": {},
      "outputs": [
        {
          "name": "stdout",
          "output_type": "stream",
          "text": [
            "Rishah Joshi Rishi\n",
            "Risni Risni Risni \n"
          ]
        }
      ],
      "source": [
        "name = \"Rishah Joshi\"\n",
        "additonal_name = \"Rishi\"\n",
        "full_name = name + \" \" + additonal_name         # string get concatenated\n",
        "print(full_name)          # Rishah Joshi Rishi\n",
        "\n",
        "\n",
        "print(\"Risni \" * 3)             # Repetition of string"
      ]
    },
    {
      "cell_type": "markdown",
      "metadata": {
        "id": "g2VqMYWqMJSU"
      },
      "source": [
        "##### Deleting in Strings :- It is not possible as strings are immutable data type in python"
      ]
    },
    {
      "cell_type": "markdown",
      "metadata": {
        "id": "6icAp0UvMKsh"
      },
      "source": [
        "## Operations & Operators on Strings\n",
        "\n",
        "- Arithmetic Operators:- Only two arithmetic operators works in string these are \"+\" for concatenation and '*\" for repetition\n",
        "- Relational Operators:- used to compare two values and return a boolean result (True or False). Python compare them into alpabetical(lexicographical) order using ASCII values  \n",
        "- Logical Operators:- combine two or more conditions (which return True or False). AND, OR and NOT \n",
        "- Membership Operations:- check whether a value exists in a sequence"
      ]
    },
    {
      "cell_type": "markdown",
      "metadata": {},
      "source": [
        "##### Arithmetic Operator"
      ]
    },
    {
      "cell_type": "code",
      "execution_count": null,
      "metadata": {
        "colab": {
          "base_uri": "https://localhost:8080/"
        },
        "id": "37rbhwLAMSt9",
        "outputId": "9ba3f855-375a-4355-8b94-21254da02eb0"
      },
      "outputs": [
        {
          "name": "stdout",
          "output_type": "stream",
          "text": [
            "delhi mumbai\n"
          ]
        }
      ],
      "source": [
        "print('delhi' + ' ' + 'mumbai')  # string get concatenated"
      ]
    },
    {
      "cell_type": "code",
      "execution_count": null,
      "metadata": {
        "colab": {
          "base_uri": "https://localhost:8080/"
        },
        "id": "cnTYYnv9HsIc",
        "outputId": "1bb37e5e-4328-4f3a-c7ad-5ae255fde2e1"
      },
      "outputs": [
        {
          "name": "stdout",
          "output_type": "stream",
          "text": [
            "delhidelhidelhidelhidelhi\n"
          ]
        }
      ],
      "source": [
        "print('delhi'*5)            # repeating the vlaue 5 times"
      ]
    },
    {
      "cell_type": "markdown",
      "metadata": {},
      "source": [
        "##### Relational Operators\n",
        "- returns boolean value"
      ]
    },
    {
      "cell_type": "code",
      "execution_count": null,
      "metadata": {
        "colab": {
          "base_uri": "https://localhost:8080/"
        },
        "id": "d5wx8XKeHsWP",
        "outputId": "477dc4a2-8676-46ba-cce2-2ed345fd2e5d"
      },
      "outputs": [
        {
          "data": {
            "text/plain": [
              "False"
            ]
          },
          "execution_count": 89,
          "metadata": {},
          "output_type": "execute_result"
        }
      ],
      "source": [
        "'delhi' != 'delhi'      # != implies not equal to"
      ]
    },
    {
      "cell_type": "code",
      "execution_count": null,
      "metadata": {
        "colab": {
          "base_uri": "https://localhost:8080/"
        },
        "id": "G3byoyLNHsmo",
        "outputId": "1492fd4f-4329-4290-97f5-3f5ecee7b045"
      },
      "outputs": [
        {
          "data": {
            "text/plain": [
              "False"
            ]
          },
          "execution_count": 90,
          "metadata": {},
          "output_type": "execute_result"
        }
      ],
      "source": [
        "'mumbai' > 'pune'           # comparing on the bassis of ascii value"
      ]
    },
    {
      "cell_type": "code",
      "execution_count": null,
      "metadata": {
        "colab": {
          "base_uri": "https://localhost:8080/"
        },
        "id": "qtZ0Zm-HHsry",
        "outputId": "c9d0bf38-795d-4888-8e09-7642b8a5e494"
      },
      "outputs": [
        {
          "data": {
            "text/plain": [
              "False"
            ]
          },
          "execution_count": 91,
          "metadata": {},
          "output_type": "execute_result"
        }
      ],
      "source": [
        "'Pune' > 'pune'             # in python capital letters are less than small letters"
      ]
    },
    {
      "cell_type": "markdown",
      "metadata": {},
      "source": [
        "##### Logical Operator"
      ]
    },
    {
      "cell_type": "code",
      "execution_count": 7,
      "metadata": {
        "colab": {
          "base_uri": "https://localhost:8080/",
          "height": 36
        },
        "id": "pRj_nS6kHs00",
        "outputId": "c3ba2345-e53c-41ee-f257-89dc96c78435"
      },
      "outputs": [
        {
          "name": "stdout",
          "output_type": "stream",
          "text": [
            "world\n",
            "hello\n",
            "\n",
            "\n",
            "hello\n",
            "hello\n",
            "\n",
            "False\n",
            "True\n"
          ]
        }
      ],
      "source": [
        "# important operator\n",
        "# empty string has boolean value of false and non empty string has boolean value of true\n",
        "\n",
        "print('hello' and 'world')         # true and true gives true => 'world'\n",
        "print('hello' or 'world')          # true or true gives true => 'hello'\n",
        "print('hello' and '')             # true and false gives false => ''\n",
        "print('' and 'hello')             # false and true gives false   => ''\n",
        "print('hello' or '')              # true or false gives true  => 'hello'\n",
        "print('' or 'hello')              # false or true gives true => 'hello'\n",
        "print('' and '')                 # false and false gives false => ''\n",
        "print(not 'hello')               # not true gives false => False\n",
        "print(not '')                   # not false gives true => True"
      ]
    },
    {
      "cell_type": "markdown",
      "metadata": {
        "id": "yHlmb_KxMf6f"
      },
      "source": [
        "#### Capitalize/Title/Upper/Lower/Swapcase:- These function do not take any argument in it. Gives a new string\n",
        "Function\t        Effect on \"hElLo WoRLd\"\n",
        "\n",
        "- capitalize()\t            'Hello world'\n",
        "- title()\t                'Hello World'\n",
        "- upper()\t                'HELLO WORLD'\n",
        "- lower()\t                'hello world'\n",
        "- swapcase()\t            'HeLlO wOrlD'"
      ]
    },
    {
      "cell_type": "code",
      "execution_count": 13,
      "metadata": {
        "colab": {
          "base_uri": "https://localhost:8080/"
        },
        "id": "Ycqnmb-HMgyz",
        "outputId": "0a2bacaf-1c07-47b1-86e5-d5c386d40b7d"
      },
      "outputs": [
        {
          "name": "stdout",
          "output_type": "stream",
          "text": [
            "Hello world\n",
            "hello world\n"
          ]
        }
      ],
      "source": [
        "s = 'hello world'\n",
        "print(s.capitalize())\n",
        "print(s)"
      ]
    },
    {
      "cell_type": "code",
      "execution_count": 14,
      "metadata": {
        "colab": {
          "base_uri": "https://localhost:8080/",
          "height": 36
        },
        "id": "KIBQhMj6L1iK",
        "outputId": "9ac3fa30-6744-4aea-89c0-0d1b3c986375"
      },
      "outputs": [
        {
          "data": {
            "text/plain": [
              "'Hello World'"
            ]
          },
          "execution_count": 14,
          "metadata": {},
          "output_type": "execute_result"
        }
      ],
      "source": [
        "s.title()"
      ]
    },
    {
      "cell_type": "code",
      "execution_count": 15,
      "metadata": {
        "colab": {
          "base_uri": "https://localhost:8080/",
          "height": 36
        },
        "id": "TPo-CYKWL25K",
        "outputId": "f6375733-fdf6-419f-8078-1ecb781aa9e3"
      },
      "outputs": [
        {
          "data": {
            "text/plain": [
              "'HELLO WORLD'"
            ]
          },
          "execution_count": 15,
          "metadata": {},
          "output_type": "execute_result"
        }
      ],
      "source": [
        "s.upper()"
      ]
    },
    {
      "cell_type": "code",
      "execution_count": 16,
      "metadata": {
        "colab": {
          "base_uri": "https://localhost:8080/",
          "height": 36
        },
        "id": "8ghClhVBL4Ed",
        "outputId": "bb407478-285c-4e88-ee16-093f50a6a9b3"
      },
      "outputs": [
        {
          "data": {
            "text/plain": [
              "'hello wolrd'"
            ]
          },
          "execution_count": 16,
          "metadata": {},
          "output_type": "execute_result"
        }
      ],
      "source": [
        "'Hello Wolrd'.lower()"
      ]
    },
    {
      "cell_type": "code",
      "execution_count": 17,
      "metadata": {
        "colab": {
          "base_uri": "https://localhost:8080/",
          "height": 36
        },
        "id": "Ac6I82JdL4bD",
        "outputId": "1034a753-bf8f-49aa-8139-27b11e8007b3"
      },
      "outputs": [
        {
          "data": {
            "text/plain": [
              "'hElLo wORld'"
            ]
          },
          "execution_count": 17,
          "metadata": {},
          "output_type": "execute_result"
        }
      ],
      "source": [
        "'HeLlO WorLD'.swapcase()"
      ]
    },
    {
      "cell_type": "markdown",
      "metadata": {
        "id": "3iq5s2cnMhkE"
      },
      "source": [
        "#### Count/Find/Index:- all need a argument to execute\n",
        "- Count- how many times a substring appears in the string.\n",
        "- Find - Returns the index (position) of the first occurrence of a substring\n",
        "- Index - Similar to find but raises an error if the substring is not found"
      ]
    },
    {
      "cell_type": "code",
      "execution_count": null,
      "metadata": {
        "colab": {
          "base_uri": "https://localhost:8080/"
        },
        "id": "puAH2DgBMmNd",
        "outputId": "8d4fbf2d-08f3-408c-9401-b40897e5ae2f"
      },
      "outputs": [
        {
          "data": {
            "text/plain": [
              "3"
            ]
          },
          "execution_count": 115,
          "metadata": {},
          "output_type": "execute_result"
        }
      ],
      "source": [
        "# counts\n",
        "\n",
        "'my name is rishi'.count('i')\n",
        "\n",
        "\n",
        "# returns -1 if not found\n",
        "'my name is rishi'.find('x')\n",
        "\n",
        "\n",
        "# through an error if value not find\n",
        "'my name is rishi'.index('i')\n",
        "'my name is rishi'.index('x')  # error"
      ]
    },
    {
      "cell_type": "markdown",
      "metadata": {
        "id": "MrsT5bJuMmqs"
      },
      "source": [
        "#### endswith:- Check if string ends with something\n",
        "#### startswith:-  Check if string starts with something\n",
        "\n",
        "\n",
        "##### returns boolean value"
      ]
    },
    {
      "cell_type": "code",
      "execution_count": 2,
      "metadata": {
        "colab": {
          "base_uri": "https://localhost:8080/"
        },
        "id": "TbyYTHMxMpbZ",
        "outputId": "2f76966f-8f4c-45d0-958d-979bf5d181a8"
      },
      "outputs": [
        {
          "name": "stdout",
          "output_type": "stream",
          "text": [
            "False\n",
            "False\n"
          ]
        }
      ],
      "source": [
        "print('my name is nitish'.endswith('sho'))\n",
        "\n",
        "print(\"my name is nitish\".startswith('1my'))"
      ]
    },
    {
      "cell_type": "markdown",
      "metadata": {
        "id": "0A9eNV0YMqHg"
      },
      "source": [
        "##### format:-  function lets you insert variables or values into a string. It’s a clean and flexible way to create dynamic strings."
      ]
    },
    {
      "cell_type": "code",
      "execution_count": null,
      "metadata": {
        "colab": {
          "base_uri": "https://localhost:8080/",
          "height": 36
        },
        "id": "p9zAoUNjMtAC",
        "outputId": "e25d4cd5-22eb-4dde-9cd8-d80dd26524b9"
      },
      "outputs": [
        {
          "name": "stdout",
          "output_type": "stream",
          "text": [
            "Hi my name is nitish and I am a male\n",
            "My name is Rishi and I am a male\n"
          ]
        }
      ],
      "source": [
        "# Case- 1\n",
        "name = 'nitish'\n",
        "gender = 'male'\n",
        "\n",
        "print('Hi my name is {1} and I am a {0}'.format(gender,name))\n",
        "\n",
        "# Case - 2\n",
        "name = \"Rishi\"\n",
        "gender = \"male\"\n",
        "print(f\"My name is {name} and I am a {gender}\")"
      ]
    },
    {
      "cell_type": "markdown",
      "metadata": {
        "id": "vKc81z_fMvIn"
      },
      "source": [
        "##### isalnum:- Checks if only letters (a–z, A–Z) and numbers (0–9) are in the string. No spaces or special chars allowed.\n",
        "##### isalpha:- Checks if the string has only letters (no numbers, no symbols, no spaces)\n",
        "##### isdigit:- Checks if the string has only numeric digits (0–9)\n",
        "##### isidentifier:- Checks if the string can be used as a Python variable name."
      ]
    },
    {
      "cell_type": "code",
      "execution_count": 9,
      "metadata": {
        "colab": {
          "base_uri": "https://localhost:8080/"
        },
        "id": "v2vFZEfCMv6c",
        "outputId": "72821996-f172-4dad-8ae1-d5a2d877eb4b"
      },
      "outputs": [
        {
          "name": "stdout",
          "output_type": "stream",
          "text": [
            "True\n",
            "False\n",
            "True\n",
            "True\n"
          ]
        }
      ],
      "source": [
        "# isalnum\n",
        "print('rishi123'.isalnum())            # returns always boolean value\n",
        "print(\"rishi_joshi\".isalpha())\n",
        "print(\"123\".isdigit())\n",
        "print(\"rishi\".isidentifier())"
      ]
    },
    {
      "cell_type": "markdown",
      "metadata": {
        "id": "CkR9E0ywMyPE"
      },
      "source": [
        "##### Split:-  splits a string into a list using a separator (default: space)\n",
        "##### Join:-   joins list elements into a single string with a separator of your choice"
      ]
    },
    {
      "cell_type": "code",
      "execution_count": 1,
      "metadata": {
        "colab": {
          "base_uri": "https://localhost:8080/"
        },
        "id": "82_UJMr7M0VC",
        "outputId": "f9fc2cd4-f718-4a72-fa56-24384f5a1337"
      },
      "outputs": [
        {
          "name": "stdout",
          "output_type": "stream",
          "text": [
            "['data', 'science', 'is', 'the', 'sexiest', 'job', 'of', 'the', '21st', 'century']\n",
            "10\n",
            "data - science - is - the - sexiest - job - of - the - 21st - century\n"
          ]
        }
      ],
      "source": [
        "text = \"data science is the sexiest job of the 21st century\"\n",
        "words = text.split()            # split the string into words\n",
        "print(words)                      # ['data science is the sexiest job of the 21st century']\n",
        "print(len(words))\n",
        "\n",
        "\n",
        "\n",
        "# join the words with a space in between\n",
        "joined_text = ' - '.join(words)          # join the string with a space and hypen in between\n",
        "print(joined_text)                     # data science is the sexiest job of the 21st century"
      ]
    },
    {
      "cell_type": "markdown",
      "metadata": {
        "id": "30p7nlw_M4M1"
      },
      "source": [
        "#### Replace:- Replace part of a string with something else\n",
        "##### syntax:-  string.replace(old, new[, count])\n",
        "- old: What you want to replace\n",
        "- new: What you want to replace it with\n",
        "- count (optional): How many times to replace (default = all)"
      ]
    },
    {
      "cell_type": "code",
      "execution_count": 18,
      "metadata": {
        "colab": {
          "base_uri": "https://localhost:8080/",
          "height": 36
        },
        "id": "vuobYzSTM5F-",
        "outputId": "31fc9c0a-80e1-42be-de9f-d8cb2ce800a8"
      },
      "outputs": [
        {
          "name": "stdout",
          "output_type": "stream",
          "text": [
            "My name is Rishi Joshi\n"
          ]
        }
      ],
      "source": [
        "text = \"My name is Rishabh Joshi\"\n",
        "print(text.replace(\"Rishabh\", \"Rishi\"))        # replace the string with another string "
      ]
    },
    {
      "cell_type": "markdown",
      "metadata": {
        "id": "YqdGvSgFM5hW"
      },
      "source": [
        "##### Strip:- Removes unwanted spaces or characters\n",
        "##### syntax :- string.strip([chars])\n",
        "- By default, it removes leading & trailing spaces (left + right side)\n",
        "- You can also pass specific characters to remove (optional)"
      ]
    },
    {
      "cell_type": "code",
      "execution_count": 25,
      "metadata": {
        "colab": {
          "base_uri": "https://localhost:8080/",
          "height": 36
        },
        "id": "AkWgOFpPM6wq",
        "outputId": "0d50c002-3615-44af-9a7a-74f1874d796c"
      },
      "outputs": [
        {
          "name": "stdout",
          "output_type": "stream",
          "text": [
            "           rishi                           \n",
            "rishi\n",
            "rishi                           \n",
            "           rishi\n",
            "rishi\n",
            "rishi!!!!!!!!!!!!\n",
            "!!!!!!!!!!!!!!!!!!!!rishi\n"
          ]
        }
      ],
      "source": [
        "# magic of strip\n",
        "text = \"           rishi                           \"\n",
        "print(text)\n",
        "print(text.strip())               # remove the leading and trailing spaces\n",
        "\n",
        "\n",
        "print(text.lstrip())              # remove the leading spaces from left \n",
        "print(text.rstrip())              # remove the trailing spaces from right\n",
        "\n",
        "\n",
        "text1 = \"!!!!!!!!!!!!!!!!!!!!rishi!!!!!!!!!!!!\"\n",
        "print(text1.strip('!'))             # remove the leading and trailing special characters\n",
        "print(text1.lstrip('!'))            # remove the leading special characters from left\n",
        "print(text1.rstrip('!'))            # remove the trailing special characters from right"
      ]
    },
    {
      "cell_type": "markdown",
      "metadata": {
        "id": "YvVCKvEhNhie"
      },
      "source": [
        "## Example Programs"
      ]
    },
    {
      "cell_type": "code",
      "execution_count": null,
      "metadata": {
        "colab": {
          "base_uri": "https://localhost:8080/"
        },
        "id": "KKEdMynlM-_F",
        "outputId": "f7eccfbd-c7d3-4825-df4a-215b2a338aaa"
      },
      "outputs": [
        {
          "name": "stdout",
          "output_type": "stream",
          "text": [
            "enter the stringnitish\n",
            "length of string is 6\n"
          ]
        }
      ],
      "source": [
        "# Find the length of a given string without using the len() function\n",
        "\n",
        "s = input('enter the string')\n",
        "\n",
        "counter = 0\n",
        "\n",
        "for i in s:\n",
        "  counter += 1\n",
        "\n",
        "print('length of string is',counter)"
      ]
    },
    {
      "cell_type": "code",
      "execution_count": null,
      "metadata": {
        "colab": {
          "base_uri": "https://localhost:8080/"
        },
        "id": "2Db_x3upNzFo",
        "outputId": "db63c64d-3775-46c0-fbf6-a65ea0e96d5b"
      },
      "outputs": [
        {
          "name": "stdout",
          "output_type": "stream",
          "text": [
            "enter the emailsupport@campusx.in\n",
            "support\n"
          ]
        }
      ],
      "source": [
        "# Extract username from a given email.\n",
        "# Eg if the email is nitish24singh@gmail.com\n",
        "# then the username should be nitish24singh\n",
        "# the logic  is here :-\n",
        "s = input('enter the email')\n",
        "\n",
        "pos = s.index('@')\n",
        "print(s[0:pos])\n",
        "\n"
      ]
    },
    {
      "cell_type": "code",
      "execution_count": null,
      "metadata": {
        "colab": {
          "base_uri": "https://localhost:8080/"
        },
        "id": "N7agO2bGN6ZH",
        "outputId": "744473ea-26a5-428e-dbd1-987a2c435967"
      },
      "outputs": [
        {
          "name": "stdout",
          "output_type": "stream",
          "text": [
            "enter the emailhi how are you\n",
            "what would like to search foro\n",
            "frequency 2\n"
          ]
        }
      ],
      "source": [
        "# Count the frequency of a particular character in a provided string.\n",
        "# Eg 'hello how are you' is the string, the frequency of h in this string is 2.\n",
        "\n",
        "s = input('enter the email')\n",
        "term = input('what would like to search for')\n",
        "\n",
        "counter = 0\n",
        "for i in s:\n",
        "  if i == term:\n",
        "    counter += 1\n",
        "\n",
        "print('frequency',counter)\n"
      ]
    },
    {
      "cell_type": "code",
      "execution_count": 1,
      "metadata": {
        "colab": {
          "base_uri": "https://localhost:8080/"
        },
        "id": "5nnIm08wOAhP",
        "outputId": "b9db5f10-ec01-4539-ad92-9c6a7d6ff89c"
      },
      "outputs": [
        {
          "name": "stdout",
          "output_type": "stream",
          "text": [
            "rshu\n"
          ]
        }
      ],
      "source": [
        "# Write a program which can remove a particular character from a string.\n",
        "s = input('enter the string ')\n",
        "term = input('what would like to remove')\n",
        "\n",
        "result = ''\n",
        "\n",
        "for i in s:\n",
        "  if i != term:\n",
        "    result = result + i\n",
        "\n",
        "print(result)"
      ]
    },
    {
      "cell_type": "code",
      "execution_count": null,
      "metadata": {
        "colab": {
          "base_uri": "https://localhost:8080/"
        },
        "id": "OWLbKD8yOIL8",
        "outputId": "cd490de2-7bb3-49cb-a9a6-2227bca3e815"
      },
      "outputs": [
        {
          "name": "stdout",
          "output_type": "stream",
          "text": [
            "enter the stringpython\n",
            "Not a Palindrome\n"
          ]
        }
      ],
      "source": [
        "# Write a program that can check whether a given string is palindrome or not.\n",
        "# abba\n",
        "# malayalam\n",
        "\n",
        "s = input('enter the string')\n",
        "flag = True\n",
        "for i in range(0,len(s)//2):\n",
        "  if s[i] != s[len(s) - i -1]:\n",
        "    flag = False\n",
        "    print('Not a Palindrome')\n",
        "    break\n",
        "\n",
        "if flag:\n",
        "  print('Palindrome')\n",
        "\n"
      ]
    },
    {
      "cell_type": "code",
      "execution_count": null,
      "metadata": {
        "colab": {
          "base_uri": "https://localhost:8080/"
        },
        "id": "qBHUb5taOLdC",
        "outputId": "7d771c8a-9123-488b-8f63-06435638fb2e"
      },
      "outputs": [
        {
          "name": "stdout",
          "output_type": "stream",
          "text": [
            "enter the stringhi how are you\n",
            "['hi', 'how', 'are', 'you']\n"
          ]
        }
      ],
      "source": [
        "# Write a program to count the number of words in a string without split()\n",
        "\n",
        "s = input('enter the string')\n",
        "L = []\n",
        "temp = ''\n",
        "for i in s:\n",
        "\n",
        "  if i != ' ':\n",
        "    temp = temp + i\n",
        "  else:\n",
        "    L.append(temp)\n",
        "    temp = ''\n",
        "\n",
        "L.append(temp)\n",
        "print(L)\n",
        "\n"
      ]
    },
    {
      "cell_type": "code",
      "execution_count": null,
      "metadata": {
        "colab": {
          "base_uri": "https://localhost:8080/"
        },
        "id": "tz_DbyP-OO9z",
        "outputId": "218e781e-a930-4b85-a223-5de2212e0ed0"
      },
      "outputs": [
        {
          "name": "stdout",
          "output_type": "stream",
          "text": [
            "enter the stringhi my namE iS NitiSh\n",
            "Hi My Name Is Nitish\n"
          ]
        }
      ],
      "source": [
        "# Write a python program to convert a string to title case without using the title()\n",
        "s = input('enter the string')\n",
        "\n",
        "L = []\n",
        "for i in s.split():\n",
        "  L.append(i[0].upper() + i[1:].lower())\n",
        "\n",
        "print(\" \".join(L))"
      ]
    },
    {
      "cell_type": "code",
      "execution_count": null,
      "metadata": {
        "colab": {
          "base_uri": "https://localhost:8080/"
        },
        "id": "Gj-c2HctOibM",
        "outputId": "8c1c15a6-9f20-4de1-ddba-e9801122c973"
      },
      "outputs": [
        {
          "name": "stdout",
          "output_type": "stream",
          "text": [
            "enter the number345\n",
            "345\n",
            "<class 'str'>\n"
          ]
        }
      ],
      "source": [
        "# Write a program that can convert an integer to string.\n",
        "\n",
        "number = int(input('enter the number'))\n",
        "\n",
        "digits = '0123456789'\n",
        "result = ''\n",
        "while number != 0:\n",
        "  result = digits[number % 10] + result\n",
        "  number = number//10\n",
        "\n",
        "print(result)\n",
        "print(type(result))"
      ]
    }
  ],
  "metadata": {
    "colab": {
      "provenance": []
    },
    "kernelspec": {
      "display_name": "base",
      "language": "python",
      "name": "python3"
    },
    "language_info": {
      "codemirror_mode": {
        "name": "ipython",
        "version": 3
      },
      "file_extension": ".py",
      "mimetype": "text/x-python",
      "name": "python",
      "nbconvert_exporter": "python",
      "pygments_lexer": "ipython3",
      "version": "3.12.7"
    }
  },
  "nbformat": 4,
  "nbformat_minor": 0
}
