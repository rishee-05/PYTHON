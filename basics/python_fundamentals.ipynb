{
  "cells": [
    {
      "cell_type": "markdown",
      "metadata": {
        "id": "YsLB36tWHEwz"
      },
      "source": [
        "## Python fundamentals: Data Science and ML\n",
        "- High-level, interpreted dynamic programming language known for its simplicity, readability, and versatility\n",
        "### Why Python\n",
        "- ✅ Easy to Learn – Simple syntax, readable code\n",
        "- ✅ Huge Library Support – Tons of pre-built tools for data and AI\n",
        "- ✅ Scalability – Works for small tasks & big AI projects\n",
        "- ✅ Community Support – Massive global community, lots of tutorials & resources"
      ]
    },
    {
      "cell_type": "markdown",
      "metadata": {},
      "source": [
        "##### The print() function in Python is used to display output on the screen"
      ]
    },
    {
      "cell_type": "code",
      "execution_count": 1,
      "metadata": {},
      "outputs": [
        {
          "name": "stdout",
          "output_type": "stream",
          "text": [
            "Hello Pyhton. I am here to learn you\n"
          ]
        }
      ],
      "source": [
        "# ours first program\n",
        "print(\"Hello Pyhton. I am here to learn you\")"
      ]
    },
    {
      "cell_type": "markdown",
      "metadata": {},
      "source": [
        "##### Python is a case sensitive language which means that it treats uppercase and lowercase letters differently.\n",
        "- Python keywords are always lowercase (e.g., print, def, if)."
      ]
    },
    {
      "cell_type": "markdown",
      "metadata": {},
      "source": [
        "#### sep and end are parameters of the print() function that control how the output is formatted.\n",
        "##### sep\n",
        "- Defines the separator between multiple values in print().\n",
        "- Default: A space (' ')\n",
        "- Useful for customizing output formatting.\n",
        "\n",
        "##### end\n",
        "- Defines what is printed at the end of a print() statement.\n",
        "- Default: A newline (\\n), meaning each print() statement goes to a new line.\n",
        "- Used to control output formatting"
      ]
    },
    {
      "cell_type": "code",
      "execution_count": 2,
      "metadata": {},
      "outputs": [
        {
          "name": "stdout",
          "output_type": "stream",
          "text": [
            "Python-is-awesome\n"
          ]
        }
      ],
      "source": [
        "# sep \n",
        "print(\"Python\", \"is\", \"awesome\", sep=\"-\")\n"
      ]
    },
    {
      "cell_type": "code",
      "execution_count": null,
      "metadata": {},
      "outputs": [],
      "source": [
        "# end\n",
        "print(\"Loading\", end=\"...\")\n",
        "print(\"Done!\")"
      ]
    },
    {
      "cell_type": "code",
      "execution_count": 4,
      "metadata": {},
      "outputs": [
        {
          "name": "stdout",
          "output_type": "stream",
          "text": [
            "Python - Data - Science\n",
            "Machine Learning!AI!\n"
          ]
        }
      ],
      "source": [
        "# combined sep and end\n",
        "print(\"Python\", \"Data\", \"Science\", sep=\" - \", end=\"\\n\")\n",
        "print(\"Machine Learning\", \"AI\", sep=\"!\", end=\"!\\n\")"
      ]
    },
    {
      "cell_type": "markdown",
      "metadata": {},
      "source": [
        "#### Escape Characters in Python \n",
        "- Escape characters in Python allow you to insert special characters inside strings. They start with a backslash (\\), followed by a character that has a special meaning"
      ]
    },
    {
      "cell_type": "markdown",
      "metadata": {
        "id": "BzuI6KObHLBH"
      },
      "source": [
        "### Data Types:- Python has built-in data types to store different kinds of information\n",
        "- 1️⃣ Numeric Data Types\n",
        "-      int → Whole numbers (e.g., 10, -5)\n",
        "-      float → Decimal numbers (e.g., 3.14, -2.5)\n",
        "-      complex → Complex numbers (e.g., 2 + 3j)\n",
        "\n",
        "- 2️⃣ Text Data Type\n",
        "-      str → Strings (text) (e.g., \"Hello\", 'Python')\n",
        "\n",
        "- 3️⃣ Boolean Data Type\n",
        "-      bool → True = 1 or False = 0 (e.g., True, False)\n",
        "\n",
        "- 4️⃣ Sequence Data Types\n",
        "-      list → Ordered, mutable collection (e.g., [1, 2, 3])\n",
        "-      tuple → Ordered, immutable collection (e.g., (1, 2, 3))\n",
        "-      range → Sequence of numbers (e.g., range(5) → 0,1,2,3,4)\n",
        "\n",
        "- 5️⃣ Set Data Types\n",
        "-      set → Unordered, unique values (e.g., {1, 2, 3})\n",
        "-      frozenset → Immutable set (e.g., frozenset({1, 2, 3}))\n",
        "\n",
        "- 6️⃣ Mapping Data Type\n",
        "-      dict → Key-value pairs (e.g., {\"name\": \"Rishabh\", \"age\": 22})\n",
        "\n",
        "- 7️⃣ Binary Data Types\n",
        "-      bytes → Immutable byte sequence (e.g., b\"hello\")\n",
        "\n"
      ]
    },
    {
      "cell_type": "code",
      "execution_count": null,
      "metadata": {
        "colab": {
          "base_uri": "https://localhost:8080/"
        },
        "id": "0AD2yELLHOD5",
        "outputId": "2665257f-1f5c-449c-e8fc-0dc3f5b2905c"
      },
      "outputs": [
        {
          "name": "stdout",
          "output_type": "stream",
          "text": [
            "8\n",
            "inf\n"
          ]
        }
      ],
      "source": [
        "# Integer\n",
        "print(8)\n",
        "# 1*10^308\n",
        "print(1e309)"
      ]
    },
    {
      "cell_type": "code",
      "execution_count": null,
      "metadata": {
        "colab": {
          "base_uri": "https://localhost:8080/"
        },
        "id": "6zf6tCPNoZqc",
        "outputId": "c358cb7b-c447-4f56-9eae-149c52d88a70"
      },
      "outputs": [
        {
          "name": "stdout",
          "output_type": "stream",
          "text": [
            "8.55\n",
            "inf\n"
          ]
        }
      ],
      "source": [
        "# Decimal/Float\n",
        "print(8.55)\n",
        "print(1.7e309)"
      ]
    },
    {
      "cell_type": "code",
      "execution_count": null,
      "metadata": {
        "colab": {
          "base_uri": "https://localhost:8080/"
        },
        "id": "VN8v8HEQoZ3X",
        "outputId": "cec48661-7877-4bda-d53c-db172af05046"
      },
      "outputs": [
        {
          "name": "stdout",
          "output_type": "stream",
          "text": [
            "True\n",
            "False\n"
          ]
        }
      ],
      "source": [
        "# Boolean\n",
        "print(True)\n",
        "print(False)"
      ]
    },
    {
      "cell_type": "code",
      "execution_count": null,
      "metadata": {
        "colab": {
          "base_uri": "https://localhost:8080/"
        },
        "id": "NEwaubEvpJen",
        "outputId": "4a350868-2948-400c-aeb5-5b3dc6929f86"
      },
      "outputs": [
        {
          "name": "stdout",
          "output_type": "stream",
          "text": [
            "Hello World\n"
          ]
        }
      ],
      "source": [
        "# Text/String\n",
        "print('Hello World')"
      ]
    },
    {
      "cell_type": "code",
      "execution_count": null,
      "metadata": {
        "colab": {
          "base_uri": "https://localhost:8080/"
        },
        "id": "L60DWHUVpQzj",
        "outputId": "3e19c8fc-a950-4b86-ee30-ae442cb783f0"
      },
      "outputs": [
        {
          "name": "stdout",
          "output_type": "stream",
          "text": [
            "(5+6j)\n"
          ]
        }
      ],
      "source": [
        "# complex\n",
        "print(5+6j)"
      ]
    },
    {
      "cell_type": "code",
      "execution_count": null,
      "metadata": {
        "colab": {
          "base_uri": "https://localhost:8080/"
        },
        "id": "u0qI-mUZpWRh",
        "outputId": "18739a04-bc7e-4ea2-f6f8-8f240013ffd6"
      },
      "outputs": [
        {
          "name": "stdout",
          "output_type": "stream",
          "text": [
            "[1, 2, 3, 4, 5]\n"
          ]
        }
      ],
      "source": [
        "# List-> C-> Array\n",
        "print([1,2,3,4,5])"
      ]
    },
    {
      "cell_type": "code",
      "execution_count": null,
      "metadata": {
        "colab": {
          "base_uri": "https://localhost:8080/"
        },
        "id": "Futbt8RJpefw",
        "outputId": "17b6d674-d6b7-4f20-93a5-065764833d0d"
      },
      "outputs": [
        {
          "name": "stdout",
          "output_type": "stream",
          "text": [
            "(1, 2, 3, 4, 5)\n"
          ]
        }
      ],
      "source": [
        "# Tuple\n",
        "print((1,2,3,4,5))"
      ]
    },
    {
      "cell_type": "code",
      "execution_count": null,
      "metadata": {
        "colab": {
          "base_uri": "https://localhost:8080/"
        },
        "id": "WW-etE4BplMR",
        "outputId": "fd796fce-76a2-4d0e-c611-5592277f657a"
      },
      "outputs": [
        {
          "name": "stdout",
          "output_type": "stream",
          "text": [
            "{1, 2, 3, 4, 5}\n"
          ]
        }
      ],
      "source": [
        "# Sets\n",
        "print({1,2,3,4,5})"
      ]
    },
    {
      "cell_type": "code",
      "execution_count": 1,
      "metadata": {
        "colab": {
          "base_uri": "https://localhost:8080/"
        },
        "id": "ssWbznaaprT6",
        "outputId": "f441104a-be19-44e6-df20-02e65b61ad4e"
      },
      "outputs": [
        {
          "name": "stdout",
          "output_type": "stream",
          "text": [
            "{'name': 'Rishi', 'gender': 'Male', 'weight': 70}\n"
          ]
        }
      ],
      "source": [
        "# Dictionary\n",
        "print({'name':\"Rishi\",'gender':'Male','weight':70})"
      ]
    },
    {
      "cell_type": "markdown",
      "metadata": {},
      "source": [
        "### Type function:-  determine the type of a variable or object\n",
        "-  take either one or three arguments\n",
        "-       With One Argument (Checking Type)\n",
        "-       With Three Arguments (Creating a Class)"
      ]
    },
    {
      "cell_type": "code",
      "execution_count": 3,
      "metadata": {
        "colab": {
          "base_uri": "https://localhost:8080/"
        },
        "id": "NAJzbOAsq3bG",
        "outputId": "c6dafb00-02e4-46db-fdae-41f567d420bc"
      },
      "outputs": [
        {
          "data": {
            "text/plain": [
              "tuple"
            ]
          },
          "execution_count": 3,
          "metadata": {},
          "output_type": "execute_result"
        }
      ],
      "source": [
        "# type\n",
        "type([1,2,3])\n",
        "t = (\"rishi\",12,96, True)\n",
        "type(t)"
      ]
    },
    {
      "cell_type": "code",
      "execution_count": null,
      "metadata": {},
      "outputs": [
        {
          "name": "stdout",
          "output_type": "stream",
          "text": [
            "1\n"
          ]
        }
      ],
      "source": [
        "# creating class\n",
        "newclass = type (\"newclass\",(object,),{\"attribute\":1})\n",
        "obj = newclass()\n",
        "print(obj.attribute)"
      ]
    },
    {
      "cell_type": "markdown",
      "metadata": {
        "id": "kYD63MF7HOyJ"
      },
      "source": [
        "### Variables:- Name that stores a value in memory\n",
        "\n",
        "#### Variable Naming Rules ✅\n",
        "- Must start with a letter (a-z, A-Z) or an underscore _\n",
        "\n",
        "- Can contain letters, numbers (0-9), and underscores _\n",
        "\n",
        "- Case-sensitive (myVar and myvar are different)\n",
        "\n",
        "- Cannot use Python keywords (e.g., def, class, if)\n",
        "\n",
        "\n",
        "##### Static Typing:- variable types are declared explicitly and checked at compile time.\n",
        "##### Dynamic Typing:-  variable types are determined at runtime, and you don’t need to declare types explicitly."
      ]
    },
    {
      "cell_type": "code",
      "execution_count": 5,
      "metadata": {
        "colab": {
          "base_uri": "https://localhost:8080/"
        },
        "id": "gcaARQh6tUtP",
        "outputId": "62f43b5b-aff2-4313-cb2c-c6285493b712"
      },
      "outputs": [
        {
          "name": "stdout",
          "output_type": "stream",
          "text": [
            "1 2 3\n",
            "(1, 2, 3) (1, 2, 3) (1, 2, 3)\n"
          ]
        }
      ],
      "source": [
        "# creating varaible\n",
        "x = 10 \n",
        "name = \"rishi\" \n",
        "pi = 3.14\n",
        "\n",
        "# python automatically detects the type of variable\n",
        "\n",
        "\n",
        "\n",
        "\n",
        "# multiple varaiable assignment\n",
        "a, b, c = 1, 2, 3\n",
        "print(a, b, c)\n",
        "\n",
        "\n",
        "a=b=c=1,2,3\n",
        "print(a, b, c)"
      ]
    },
    {
      "cell_type": "markdown",
      "metadata": {
        "id": "yFj92Q4FubDk"
      },
      "source": [
        "#### Comments:- used to explain code and make it more readable, ignored by the Python interpreter and do not affect the program's execution.\n",
        "-  Single-line Comments (#)\n",
        "-  Multi-line Comments (''' or \"\"\")\n",
        "-  Docstrings (Documentation Strings):- used inside functions, classes, and modules to describe their purpose"
      ]
    },
    {
      "cell_type": "markdown",
      "metadata": {
        "id": "jMHr-5raHRpW"
      },
      "source": [
        "#### Keywords:-  special words reserved by Python that have predefined meanings,  cannot use them as variable names, function names, or identifiers.\n",
        "- total_keywords = 35\n",
        "\n",
        "#### Identifiers:- names used for variables, functions, classes, and objects in Python.\n",
        "- Can only contain letters (A-Z, a-z), numbers (0-9), and underscores (_) ✔ Cannot start with a number\n",
        "- Case-sensitive (Age and age are different)\n",
        "- Cannot be a keyword"
      ]
    },
    {
      "cell_type": "code",
      "execution_count": null,
      "metadata": {
        "colab": {
          "base_uri": "https://localhost:8080/"
        },
        "id": "5EFqNEfpwwS5",
        "outputId": "18b3f0d1-3442-4d73-8456-b60f51b43b81"
      },
      "outputs": [
        {
          "name": "stdout",
          "output_type": "stream",
          "text": [
            "Nitish\n",
            "ntiish\n"
          ]
        }
      ],
      "source": [
        "# Identifiers\n",
        "\n",
        "name1 = 'rishi'\n",
        "print(name1)\n"
      ]
    },
    {
      "cell_type": "markdown",
      "metadata": {
        "id": "EsWPc3AvHYTJ"
      },
      "source": [
        "#### User Input:- Taking input from the user"
      ]
    },
    {
      "cell_type": "code",
      "execution_count": null,
      "metadata": {
        "colab": {
          "base_uri": "https://localhost:8080/"
        },
        "id": "HDIZMv91zbXY",
        "outputId": "1be9a559-7407-4eb2-b45f-dd2360d113d2"
      },
      "outputs": [
        {
          "name": "stdout",
          "output_type": "stream",
          "text": [
            "enter first number56\n",
            "enter second number67\n",
            "123\n",
            "<class 'int'>\n"
          ]
        }
      ],
      "source": [
        "# take input from users and store them in a variable\n",
        "fnum = int(input('enter first number'))\n",
        "snum = int(input('enter second number'))\n",
        "#print(type(fnum),type(snum))\n",
        "# add the 2 variables\n",
        "result = fnum + snum\n",
        "# print the result\n",
        "print(result)\n",
        "print(type(fnum))"
      ]
    },
    {
      "cell_type": "markdown",
      "metadata": {
        "id": "TKQ78geyHhz7"
      },
      "source": [
        "#### Type Conversion:- allows to change the data type of a variable\n",
        "- types of conversion\n",
        "\n",
        "#### Implicit Type Conversion (Automatic)\n",
        "- Python automatically converts one data type to another during operations (if compatible).\n",
        "\n",
        "#### Explicit Type Conversion (Manual)\n",
        "- explicitly convert a variable from one type to another using built-in functions."
      ]
    },
    {
      "cell_type": "markdown",
      "metadata": {
        "id": "7skMGSSFHoWw"
      },
      "source": [
        "#### Literals:- fixed values assigned to variables,"
      ]
    },
    {
      "cell_type": "code",
      "execution_count": null,
      "metadata": {
        "id": "4Q6wfNw1Huao"
      },
      "outputs": [],
      "source": [
        "a = 0b1010 #Binary Literals\n",
        "b = 100 #Decimal Literal\n",
        "c = 0o310 #Octal Literal\n",
        "d = 0x12c #Hexadecimal Literal\n",
        "\n",
        "#Float Literal\n",
        "float_1 = 10.5\n",
        "float_2 = 1.5e2 # 1.5 * 10^2\n",
        "float_3 = 1.5e-3 # 1.5 * 10^-3\n",
        "\n",
        "#Complex Literal\n",
        "x = 3.14j\n",
        "\n",
        "print(a, b, c, d)\n",
        "print(float_1, float_2,float_3)\n",
        "print(x, x.imag, x.real)"
      ]
    },
    {
      "cell_type": "code",
      "execution_count": null,
      "metadata": {
        "colab": {
          "base_uri": "https://localhost:8080/"
        },
        "id": "8UhbuqqD4X4x",
        "outputId": "2d04193f-9a26-48d8-bc1a-58590402b3bf"
      },
      "outputs": [
        {
          "name": "stdout",
          "output_type": "stream",
          "text": [
            "3.14\n"
          ]
        }
      ],
      "source": [
        "# binary\n",
        "x = 3.14j\n",
        "print(x.imag)"
      ]
    },
    {
      "cell_type": "code",
      "execution_count": null,
      "metadata": {
        "colab": {
          "base_uri": "https://localhost:8080/"
        },
        "id": "gPIDz0f6bwc1",
        "outputId": "a06272b3-e416-483c-fbca-4ab6c72ed19e"
      },
      "outputs": [
        {
          "name": "stdout",
          "output_type": "stream",
          "text": [
            "This is Python\n",
            "This is Python\n",
            "C\n",
            "This is a multiline string with more than one line code.\n"
          ]
        }
      ],
      "source": [
        "string = 'This is Python'           # String literals\n",
        "strings = \"This is Python\"\n",
        "char = \"C\"\n",
        "multiline_str = \"\"\"This is a multiline string with more than one line code.\"\"\"\n",
        "\n",
        "\n",
        "print(string)\n",
        "print(strings)\n",
        "print(char)\n",
        "print(multiline_str)\n"
      ]
    }
  ],
  "metadata": {
    "colab": {
      "provenance": []
    },
    "kernelspec": {
      "display_name": "base",
      "language": "python",
      "name": "python3"
    },
    "language_info": {
      "codemirror_mode": {
        "name": "ipython",
        "version": 3
      },
      "file_extension": ".py",
      "mimetype": "text/x-python",
      "name": "python",
      "nbconvert_exporter": "python",
      "pygments_lexer": "ipython3",
      "version": "3.12.7"
    }
  },
  "nbformat": 4,
  "nbformat_minor": 0
}
