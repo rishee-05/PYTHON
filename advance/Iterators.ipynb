{
 "cells": [
  {
   "cell_type": "markdown",
   "id": "2d9e8884",
   "metadata": {},
   "source": [
    "## What is an Iteration\n",
    "\n",
    "Iteration is a general term for taking each item of something, one after another. Any time you use a loop, explicit or implicit, to go over a group of items, that is iteration."
   ]
  },
  {
   "cell_type": "code",
   "execution_count": 19,
   "id": "26fadf7e",
   "metadata": {},
   "outputs": [
    {
     "name": "stdout",
     "output_type": "stream",
     "text": [
      "1\n",
      "2\n",
      "3\n"
     ]
    }
   ],
   "source": [
    "# Example\n",
    "num = [1,2,3]\n",
    "\n",
    "for i in num:\n",
    "    print(i)"
   ]
  },
  {
   "cell_type": "markdown",
   "id": "c7ea3a1a",
   "metadata": {},
   "source": [
    "## What is Iterator\n",
    "\n",
    "- An Iterator is an object that allows the programmer to traverse through a sequence of data without having to store the entire data in the memory\n",
    "- Jo ek-ek item de sakta hai using next()"
   ]
  },
  {
   "cell_type": "code",
   "execution_count": 28,
   "id": "ff765a6c",
   "metadata": {},
   "outputs": [
    {
     "name": "stdout",
     "output_type": "stream",
     "text": [
      "1369.0\n",
      "0.75\n"
     ]
    }
   ],
   "source": [
    "# Example\n",
    "L = [x for x in range(1,10000)]\n",
    "\n",
    "#for i in L:\n",
    "    #print(i*2)\n",
    "    \n",
    "import sys\n",
    "\n",
    "print(sys.getsizeof(L)/64)\n",
    "\n",
    "x = range(1,10000000000)\n",
    "\n",
    "#for i in x:\n",
    "    #print(i*2)\n",
    "    \n",
    "print(sys.getsizeof(x)/64)\n",
    "\n"
   ]
  },
  {
   "cell_type": "markdown",
   "id": "99fff65f",
   "metadata": {},
   "source": [
    "## What is Iterable\n",
    "Iterable is an object, which one can iterate over( Koi bhi aisi cheez jise tum loop kar sako (list, tuple, string, etc.))\n",
    "\n",
    " It generates an Iterator when passed to `iter()` method and `next()`iterator ka next element deta hai"
   ]
  },
  {
   "cell_type": "code",
   "execution_count": null,
   "id": "77650fa6",
   "metadata": {},
   "outputs": [
    {
     "name": "stdout",
     "output_type": "stream",
     "text": [
      "<class 'list'>\n",
      "<class 'list_iterator'>\n",
      "1\n",
      "2\n",
      "3\n"
     ]
    }
   ],
   "source": [
    "# Example\n",
    "\n",
    "L = [1,2,3]\n",
    "print(type(L))\n",
    "\n",
    "\n",
    "# L is an iterable\n",
    "a = ((iter(L)))\n",
    "print(type(iter(L)))            # list iterator\n",
    "\n",
    "# iter(L) --> iterator\n",
    "\n",
    "print(next(a))\n",
    "print(next(a))  # for loops simultaneously works with iter and next function to iterate over obj and return elements of objects\n",
    "print(next(a))"
   ]
  },
  {
   "cell_type": "markdown",
   "id": "f9482d80",
   "metadata": {},
   "source": [
    "## Point to remember\n",
    "\n",
    "- Every **Iterator** is also and **Iterable** (iterator ke upar bhi loop chlya ja skta)\n",
    "- Not all **Iterables** are **Iterators**"
   ]
  },
  {
   "cell_type": "markdown",
   "id": "9c4c52a7",
   "metadata": {},
   "source": [
    "## Trick\n",
    "- Every Iterable has an **iter function**\n",
    "- Every Iterator has both **iter function** as well as a **next function**"
   ]
  },
  {
   "cell_type": "code",
   "execution_count": null,
   "id": "802be65a",
   "metadata": {},
   "outputs": [
    {
     "data": {
      "text/plain": [
       "['__abs__',\n",
       " '__add__',\n",
       " '__and__',\n",
       " '__bool__',\n",
       " '__ceil__',\n",
       " '__class__',\n",
       " '__delattr__',\n",
       " '__dir__',\n",
       " '__divmod__',\n",
       " '__doc__',\n",
       " '__eq__',\n",
       " '__float__',\n",
       " '__floor__',\n",
       " '__floordiv__',\n",
       " '__format__',\n",
       " '__ge__',\n",
       " '__getattribute__',\n",
       " '__getnewargs__',\n",
       " '__gt__',\n",
       " '__hash__',\n",
       " '__index__',\n",
       " '__init__',\n",
       " '__init_subclass__',\n",
       " '__int__',\n",
       " '__invert__',\n",
       " '__le__',\n",
       " '__lshift__',\n",
       " '__lt__',\n",
       " '__mod__',\n",
       " '__mul__',\n",
       " '__ne__',\n",
       " '__neg__',\n",
       " '__new__',\n",
       " '__or__',\n",
       " '__pos__',\n",
       " '__pow__',\n",
       " '__radd__',\n",
       " '__rand__',\n",
       " '__rdivmod__',\n",
       " '__reduce__',\n",
       " '__reduce_ex__',\n",
       " '__repr__',\n",
       " '__rfloordiv__',\n",
       " '__rlshift__',\n",
       " '__rmod__',\n",
       " '__rmul__',\n",
       " '__ror__',\n",
       " '__round__',\n",
       " '__rpow__',\n",
       " '__rrshift__',\n",
       " '__rshift__',\n",
       " '__rsub__',\n",
       " '__rtruediv__',\n",
       " '__rxor__',\n",
       " '__setattr__',\n",
       " '__sizeof__',\n",
       " '__str__',\n",
       " '__sub__',\n",
       " '__subclasshook__',\n",
       " '__truediv__',\n",
       " '__trunc__',\n",
       " '__xor__',\n",
       " 'as_integer_ratio',\n",
       " 'bit_length',\n",
       " 'conjugate',\n",
       " 'denominator',\n",
       " 'from_bytes',\n",
       " 'imag',\n",
       " 'numerator',\n",
       " 'real',\n",
       " 'to_bytes']"
      ]
     },
     "execution_count": 35,
     "metadata": {},
     "output_type": "execute_result"
    }
   ],
   "source": [
    "# there are two methods for checking either a obj is iterable\n",
    "# either check by using loop or by dir(object) if __iter__ exist then iterable else not\n",
    "a = 2\n",
    "a\n",
    "\n",
    "#for i in a:\n",
    "    #print(i)\n",
    "    \n",
    "dir(a)"
   ]
  },
  {
   "cell_type": "code",
   "execution_count": 16,
   "id": "2daf8b0a",
   "metadata": {},
   "outputs": [
    {
     "name": "stdout",
     "output_type": "stream",
     "text": [
      "{1: 2, 3: 4}\n",
      "{1: 2, 3: 4}\n",
      "<dict_keyiterator object at 0x000001A1A1A997B0>\n"
     ]
    },
    {
     "data": {
      "text/plain": [
       "['__class__',\n",
       " '__delattr__',\n",
       " '__dir__',\n",
       " '__doc__',\n",
       " '__eq__',\n",
       " '__format__',\n",
       " '__ge__',\n",
       " '__getattribute__',\n",
       " '__getstate__',\n",
       " '__gt__',\n",
       " '__hash__',\n",
       " '__init__',\n",
       " '__init_subclass__',\n",
       " '__iter__',\n",
       " '__le__',\n",
       " '__length_hint__',\n",
       " '__lt__',\n",
       " '__ne__',\n",
       " '__new__',\n",
       " '__next__',\n",
       " '__reduce__',\n",
       " '__reduce_ex__',\n",
       " '__repr__',\n",
       " '__setattr__',\n",
       " '__sizeof__',\n",
       " '__str__',\n",
       " '__subclasshook__']"
      ]
     },
     "execution_count": 16,
     "metadata": {},
     "output_type": "execute_result"
    }
   ],
   "source": [
    "# to get whether a object is iterator or not is that use dir(object)\n",
    "# if in the list of dir(obj) consist both __iter__ and __next__ then it is a iterator\n",
    "T = {1:2,3:4}           # it is dict datatype it is iterable\n",
    "for i in T:\n",
    "    print(T)\n",
    "# now\n",
    "print(iter(T))      # now it become iterator\n",
    "dir(iter(T))           # now it consist both __iter__ and __next__\n",
    "# dir(T)"
   ]
  },
  {
   "cell_type": "code",
   "execution_count": 17,
   "id": "7468f8bf",
   "metadata": {},
   "outputs": [],
   "source": [
    "L = [1,2,3]\n",
    "\n",
    "# L is not an iterator\n",
    "iter_L = iter(L)            # it become an iterator \n",
    "\n",
    "# iter_L is an iterator"
   ]
  },
  {
   "cell_type": "markdown",
   "id": "5f02c4b7",
   "metadata": {},
   "source": [
    "## Understanding how for loop works"
   ]
  },
  {
   "cell_type": "code",
   "execution_count": 42,
   "id": "8b518b08",
   "metadata": {},
   "outputs": [
    {
     "name": "stdout",
     "output_type": "stream",
     "text": [
      "1\n",
      "2\n",
      "3\n"
     ]
    }
   ],
   "source": [
    "num = [1,2,3]\n",
    "\n",
    "for i in num:\n",
    "    print(i)"
   ]
  },
  {
   "cell_type": "code",
   "execution_count": 22,
   "id": "bfb4f98d",
   "metadata": {},
   "outputs": [
    {
     "data": {
      "text/plain": [
       "3"
      ]
     },
     "execution_count": 22,
     "metadata": {},
     "output_type": "execute_result"
    }
   ],
   "source": [
    "num = [1,2,3]\n",
    "\n",
    "# fetch the iterator\n",
    "iter_num = iter(num)\n",
    "\n",
    "# step2 --> next\n",
    "next(iter_num)\n",
    "next(iter_num)\n",
    "next(iter_num)\n",
    "# next(iter_num)        # here python will throw an error because there are no items to iterate"
   ]
  },
  {
   "cell_type": "markdown",
   "id": "e35d6e87",
   "metadata": {},
   "source": [
    "## Making our own for loop"
   ]
  },
  {
   "cell_type": "code",
   "execution_count": null,
   "id": "7822da8e",
   "metadata": {},
   "outputs": [],
   "source": [
    "def mera_khudka_for_loop(iterable):\n",
    "    \n",
    "    iterator = iter(iterable)\n",
    "    \n",
    "    while True:     # infinite loop banata hai — matlab loop kabhi khatam nahi hota jab tak tum khud usse break nahi karte.\n",
    "        \n",
    "        try:\n",
    "            print(next(iterator))\n",
    "        except StopIteration:\n",
    "            break           \n",
    "\n",
    "\n",
    "\n",
    "# while false:- Start hi mat kar bhai, main toh already thak gaya hoon"
   ]
  },
  {
   "cell_type": "code",
   "execution_count": 30,
   "id": "2e8e880b",
   "metadata": {},
   "outputs": [],
   "source": [
    "def mera_khudka_for_loop(iterable):\n",
    "    \n",
    "    iterator = iter(iterable)\n",
    "    \n",
    "    while True:  \n",
    "        try:\n",
    "            print(next(iterator))\n",
    "        except StopIteration:\n",
    "            break  "
   ]
  },
  {
   "cell_type": "code",
   "execution_count": 31,
   "id": "68a428be",
   "metadata": {},
   "outputs": [
    {
     "name": "stdout",
     "output_type": "stream",
     "text": [
      "1\n",
      "2\n",
      "3\n"
     ]
    }
   ],
   "source": [
    "a = [1,2,3]\n",
    "b = range(1,11)\n",
    "c = (1,2,3)\n",
    "d = {1,2,3}\n",
    "e = {0:1,1:1}\n",
    "\n",
    "mera_khudka_for_loop(a)"
   ]
  },
  {
   "cell_type": "markdown",
   "id": "81a3e616",
   "metadata": {},
   "source": [
    "## A confusing point"
   ]
  },
  {
   "cell_type": "code",
   "execution_count": 64,
   "id": "269d3c83",
   "metadata": {},
   "outputs": [
    {
     "name": "stdout",
     "output_type": "stream",
     "text": [
      "2280889893936 Address of iterator 1\n",
      "2280889893936 Address of iterator 2\n"
     ]
    }
   ],
   "source": [
    "num = [1,2,3]\n",
    "iter_obj = iter(num)\n",
    "\n",
    "print(id(iter_obj),'Address of iterator 1')\n",
    "\n",
    "iter_obj2 = iter(iter_obj)\n",
    "print(id(iter_obj2),'Address of iterator 2')"
   ]
  },
  {
   "cell_type": "markdown",
   "id": "051af6bc",
   "metadata": {},
   "source": [
    "## Let's create our own range() function"
   ]
  },
  {
   "cell_type": "code",
   "execution_count": 67,
   "id": "7eaf1228",
   "metadata": {},
   "outputs": [],
   "source": [
    "class mera_range:\n",
    "    \n",
    "    def __init__(self,start,end):\n",
    "        self.start = start\n",
    "        self.end = end\n",
    "        \n",
    "    def __iter__(self):\n",
    "        return mera_range_iterator(self)"
   ]
  },
  {
   "cell_type": "code",
   "execution_count": 68,
   "id": "28118f2d",
   "metadata": {},
   "outputs": [],
   "source": [
    "class mera_range_iterator:\n",
    "    \n",
    "    def __init__(self,iterable_obj):\n",
    "        self.iterable = iterable_obj\n",
    "    \n",
    "    def __iter__(self):\n",
    "        return self\n",
    "    \n",
    "    def __next__(self):\n",
    "        \n",
    "        if self.iterable.start >= self.iterable.end:\n",
    "            raise StopIteration\n",
    "            \n",
    "        current = self.iterable.start\n",
    "        self.iterable.start+=1\n",
    "        return current"
   ]
  },
  {
   "cell_type": "code",
   "execution_count": 70,
   "id": "142c0b98",
   "metadata": {},
   "outputs": [],
   "source": [
    "x = mera_range(1,11)"
   ]
  },
  {
   "cell_type": "code",
   "execution_count": 71,
   "id": "5aaaeeb3",
   "metadata": {},
   "outputs": [
    {
     "data": {
      "text/plain": [
       "__main__.mera_range"
      ]
     },
     "execution_count": 71,
     "metadata": {},
     "output_type": "execute_result"
    }
   ],
   "source": [
    "type(x)"
   ]
  },
  {
   "cell_type": "code",
   "execution_count": 72,
   "id": "8e742864",
   "metadata": {},
   "outputs": [
    {
     "data": {
      "text/plain": [
       "<__main__.mera_range_iterator at 0x2130fd362b0>"
      ]
     },
     "execution_count": 72,
     "metadata": {},
     "output_type": "execute_result"
    }
   ],
   "source": [
    "iter(x)"
   ]
  },
  {
   "cell_type": "code",
   "execution_count": null,
   "id": "95380d0b",
   "metadata": {},
   "outputs": [],
   "source": []
  }
 ],
 "metadata": {
  "kernelspec": {
   "display_name": "base",
   "language": "python",
   "name": "python3"
  },
  "language_info": {
   "codemirror_mode": {
    "name": "ipython",
    "version": 3
   },
   "file_extension": ".py",
   "mimetype": "text/x-python",
   "name": "python",
   "nbconvert_exporter": "python",
   "pygments_lexer": "ipython3",
   "version": "3.12.7"
  }
 },
 "nbformat": 4,
 "nbformat_minor": 5
}
