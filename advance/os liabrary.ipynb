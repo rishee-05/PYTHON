{
 "cells": [
  {
   "cell_type": "markdown",
   "id": "00204bf4",
   "metadata": {},
   "source": [
    "### OS library:-  built-in module hai jo tumhe files, folders, aur system-level operations karne deta hai\n",
    "Jaise ki:\n",
    "- 📂 Folder banana\n",
    "- 🧹 File delete karna\n",
    "- 🛣️ Directory navigate karna\n",
    "- 📄 Files list karna\n",
    "- 🛠️ System commands run karna"
   ]
  },
  {
   "cell_type": "code",
   "execution_count": 40,
   "id": "e3417d3a",
   "metadata": {},
   "outputs": [
    {
     "name": "stdout",
     "output_type": "stream",
     "text": [
      "d:\\py\n"
     ]
    }
   ],
   "source": [
    "# Get Current Working Directory\n",
    "import os\n",
    "print(os.getcwd())"
   ]
  },
  {
   "cell_type": "code",
   "execution_count": 41,
   "id": "2f6113e2",
   "metadata": {},
   "outputs": [
    {
     "name": "stdout",
     "output_type": "stream",
     "text": [
      "d:\\py\n",
      "d:\\\n"
     ]
    }
   ],
   "source": [
    "# Change Directory\n",
    "os.chdir(\"d:/py\")       # here we use backward slash to navigate folder and directories\n",
    "print(os.getcwd())\n",
    "\n",
    "parent_dir = os.path.dirname(os.getcwd())  # get parent directory\n",
    "print(parent_dir)"
   ]
  },
  {
   "cell_type": "code",
   "execution_count": 42,
   "id": "d1ea5791",
   "metadata": {},
   "outputs": [
    {
     "name": "stdout",
     "output_type": "stream",
     "text": [
      "['rishijoshi0', 'rishijoshi1', 'rishijoshi10', 'rishijoshi11', 'rishijoshi12', 'rishijoshi13', 'rishijoshi14', 'rishijoshi15', 'rishijoshi16', 'rishijoshi17', 'rishijoshi18', 'rishijoshi19', 'rishijoshi2', 'rishijoshi20', 'rishijoshi21', 'rishijoshi22', 'rishijoshi23', 'rishijoshi24', 'rishijoshi25', 'rishijoshi26', 'rishijoshi27', 'rishijoshi28', 'rishijoshi29', 'rishijoshi3', 'rishijoshi30', 'rishijoshi31', 'rishijoshi32', 'rishijoshi33', 'rishijoshi34', 'rishijoshi35', 'rishijoshi36', 'rishijoshi37', 'rishijoshi38', 'rishijoshi39', 'rishijoshi4', 'rishijoshi40', 'rishijoshi41', 'rishijoshi42', 'rishijoshi43', 'rishijoshi44', 'rishijoshi45', 'rishijoshi46', 'rishijoshi47', 'rishijoshi48', 'rishijoshi49', 'rishijoshi5', 'rishijoshi50', 'rishijoshi51', 'rishijoshi52', 'rishijoshi53', 'rishijoshi54', 'rishijoshi55', 'rishijoshi56', 'rishijoshi57', 'rishijoshi58', 'rishijoshi59', 'rishijoshi6', 'rishijoshi60', 'rishijoshi61', 'rishijoshi62', 'rishijoshi63', 'rishijoshi64', 'rishijoshi65', 'rishijoshi66', 'rishijoshi67', 'rishijoshi68', 'rishijoshi69', 'rishijoshi7', 'rishijoshi70', 'rishijoshi71', 'rishijoshi72', 'rishijoshi73', 'rishijoshi74', 'rishijoshi75', 'rishijoshi76', 'rishijoshi77', 'rishijoshi78', 'rishijoshi79', 'rishijoshi8', 'rishijoshi80', 'rishijoshi81', 'rishijoshi82', 'rishijoshi83', 'rishijoshi84', 'rishijoshi85', 'rishijoshi86', 'rishijoshi87', 'rishijoshi88', 'rishijoshi89', 'rishijoshi9', 'rishijoshi90', 'rishijoshi91', 'rishijoshi92', 'rishijoshi93', 'rishijoshi94', 'rishijoshi95', 'rishijoshi96', 'rishijoshi97', 'rishijoshi98', 'rishijoshi99']\n",
      "['$RECYCLE.BIN', 'book', 'data', 'DOWNLOADS', 'elevoc_dnn_kernel.log', 'git', 'Notepad', 'powerpoint', 'py', 'PYTHON', 'R', 'screenshot pic', 'screenshot video', 'System Volume Information']\n"
     ]
    }
   ],
   "source": [
    "# List Files and Folders\n",
    "# Useful for file explorers, automation scripts, etc\n",
    "print(os.listdir())             # shows files/folders in current directory\n",
    "# empty directory = []\n",
    "print(os.listdir(parent_dir))    # shows files/folders in parent directory\n",
    "# returns the value or folders in form of lsit"
   ]
  },
  {
   "cell_type": "code",
   "execution_count": 43,
   "id": "eea28a95",
   "metadata": {},
   "outputs": [
    {
     "name": "stdout",
     "output_type": "stream",
     "text": [
      "d:\\py\n",
      "['rishijoshi0', 'rishijoshi1', 'rishijoshi10', 'rishijoshi11', 'rishijoshi12', 'rishijoshi13', 'rishijoshi14', 'rishijoshi15', 'rishijoshi16', 'rishijoshi17', 'rishijoshi18', 'rishijoshi19', 'rishijoshi2', 'rishijoshi20', 'rishijoshi21', 'rishijoshi22', 'rishijoshi23', 'rishijoshi24', 'rishijoshi25', 'rishijoshi26', 'rishijoshi27', 'rishijoshi28', 'rishijoshi29', 'rishijoshi3', 'rishijoshi30', 'rishijoshi31', 'rishijoshi32', 'rishijoshi33', 'rishijoshi34', 'rishijoshi35', 'rishijoshi36', 'rishijoshi37', 'rishijoshi38', 'rishijoshi39', 'rishijoshi4', 'rishijoshi40', 'rishijoshi41', 'rishijoshi42', 'rishijoshi43', 'rishijoshi44', 'rishijoshi45', 'rishijoshi46', 'rishijoshi47', 'rishijoshi48', 'rishijoshi49', 'rishijoshi5', 'rishijoshi50', 'rishijoshi51', 'rishijoshi52', 'rishijoshi53', 'rishijoshi54', 'rishijoshi55', 'rishijoshi56', 'rishijoshi57', 'rishijoshi58', 'rishijoshi59', 'rishijoshi6', 'rishijoshi60', 'rishijoshi61', 'rishijoshi62', 'rishijoshi63', 'rishijoshi64', 'rishijoshi65', 'rishijoshi66', 'rishijoshi67', 'rishijoshi68', 'rishijoshi69', 'rishijoshi7', 'rishijoshi70', 'rishijoshi71', 'rishijoshi72', 'rishijoshi73', 'rishijoshi74', 'rishijoshi75', 'rishijoshi76', 'rishijoshi77', 'rishijoshi78', 'rishijoshi79', 'rishijoshi8', 'rishijoshi80', 'rishijoshi81', 'rishijoshi82', 'rishijoshi83', 'rishijoshi84', 'rishijoshi85', 'rishijoshi86', 'rishijoshi87', 'rishijoshi88', 'rishijoshi89', 'rishijoshi9', 'rishijoshi90', 'rishijoshi91', 'rishijoshi92', 'rishijoshi93', 'rishijoshi94', 'rishijoshi95', 'rishijoshi96', 'rishijoshi97', 'rishijoshi98', 'rishijoshi99']\n",
      "['rishijoshi0', 'rishijoshi1', 'rishijoshi10', 'rishijoshi11', 'rishijoshi12', 'rishijoshi13', 'rishijoshi14', 'rishijoshi15', 'rishijoshi16', 'rishijoshi17', 'rishijoshi18', 'rishijoshi19', 'rishijoshi2', 'rishijoshi20', 'rishijoshi21', 'rishijoshi22', 'rishijoshi23', 'rishijoshi24', 'rishijoshi25', 'rishijoshi26', 'rishijoshi27', 'rishijoshi28', 'rishijoshi29', 'rishijoshi3', 'rishijoshi30', 'rishijoshi31', 'rishijoshi32', 'rishijoshi33', 'rishijoshi34', 'rishijoshi35', 'rishijoshi36', 'rishijoshi37', 'rishijoshi38', 'rishijoshi39', 'rishijoshi4', 'rishijoshi40', 'rishijoshi41', 'rishijoshi42', 'rishijoshi43', 'rishijoshi44', 'rishijoshi45', 'rishijoshi46', 'rishijoshi47', 'rishijoshi48', 'rishijoshi49', 'rishijoshi5', 'rishijoshi50', 'rishijoshi51', 'rishijoshi52', 'rishijoshi53', 'rishijoshi54', 'rishijoshi55', 'rishijoshi56', 'rishijoshi57', 'rishijoshi58', 'rishijoshi59', 'rishijoshi6', 'rishijoshi60', 'rishijoshi61', 'rishijoshi62', 'rishijoshi63', 'rishijoshi64', 'rishijoshi65', 'rishijoshi66', 'rishijoshi67', 'rishijoshi68', 'rishijoshi69', 'rishijoshi7', 'rishijoshi70', 'rishijoshi71', 'rishijoshi72', 'rishijoshi73', 'rishijoshi74', 'rishijoshi75', 'rishijoshi76', 'rishijoshi77', 'rishijoshi78', 'rishijoshi79', 'rishijoshi8', 'rishijoshi80', 'rishijoshi81', 'rishijoshi82', 'rishijoshi83', 'rishijoshi84', 'rishijoshi85', 'rishijoshi86', 'rishijoshi87', 'rishijoshi88', 'rishijoshi89', 'rishijoshi9', 'rishijoshi90', 'rishijoshi91', 'rishijoshi92', 'rishijoshi93', 'rishijoshi94', 'rishijoshi95', 'rishijoshi96', 'rishijoshi97', 'rishijoshi98', 'rishijoshi99']\n"
     ]
    }
   ],
   "source": [
    "# Making New Folder\n",
    "print(os.getcwd())\n",
    "# print(os.mkdir(\"new_folder\"))       #  Cannot create a file when that file already exists\n",
    "print(os.listdir())\n",
    "\n",
    "\n",
    "\n",
    "# creating nested folders one inside of another \n",
    "# os.makedirs(\"level1/level2/level3/level4\")\n",
    "\n",
    "print(os.listdir())"
   ]
  },
  {
   "cell_type": "code",
   "execution_count": 44,
   "id": "a48e902c",
   "metadata": {},
   "outputs": [
    {
     "name": "stdout",
     "output_type": "stream",
     "text": [
      "d:\\py\n",
      "['rishijoshi0', 'rishijoshi1', 'rishijoshi10', 'rishijoshi11', 'rishijoshi12', 'rishijoshi13', 'rishijoshi14', 'rishijoshi15', 'rishijoshi16', 'rishijoshi17', 'rishijoshi18', 'rishijoshi19', 'rishijoshi2', 'rishijoshi20', 'rishijoshi21', 'rishijoshi22', 'rishijoshi23', 'rishijoshi24', 'rishijoshi25', 'rishijoshi26', 'rishijoshi27', 'rishijoshi28', 'rishijoshi29', 'rishijoshi3', 'rishijoshi30', 'rishijoshi31', 'rishijoshi32', 'rishijoshi33', 'rishijoshi34', 'rishijoshi35', 'rishijoshi36', 'rishijoshi37', 'rishijoshi38', 'rishijoshi39', 'rishijoshi4', 'rishijoshi40', 'rishijoshi41', 'rishijoshi42', 'rishijoshi43', 'rishijoshi44', 'rishijoshi45', 'rishijoshi46', 'rishijoshi47', 'rishijoshi48', 'rishijoshi49', 'rishijoshi5', 'rishijoshi50', 'rishijoshi51', 'rishijoshi52', 'rishijoshi53', 'rishijoshi54', 'rishijoshi55', 'rishijoshi56', 'rishijoshi57', 'rishijoshi58', 'rishijoshi59', 'rishijoshi6', 'rishijoshi60', 'rishijoshi61', 'rishijoshi62', 'rishijoshi63', 'rishijoshi64', 'rishijoshi65', 'rishijoshi66', 'rishijoshi67', 'rishijoshi68', 'rishijoshi69', 'rishijoshi7', 'rishijoshi70', 'rishijoshi71', 'rishijoshi72', 'rishijoshi73', 'rishijoshi74', 'rishijoshi75', 'rishijoshi76', 'rishijoshi77', 'rishijoshi78', 'rishijoshi79', 'rishijoshi8', 'rishijoshi80', 'rishijoshi81', 'rishijoshi82', 'rishijoshi83', 'rishijoshi84', 'rishijoshi85', 'rishijoshi86', 'rishijoshi87', 'rishijoshi88', 'rishijoshi89', 'rishijoshi9', 'rishijoshi90', 'rishijoshi91', 'rishijoshi92', 'rishijoshi93', 'rishijoshi94', 'rishijoshi95', 'rishijoshi96', 'rishijoshi97', 'rishijoshi98', 'rishijoshi99']\n"
     ]
    }
   ],
   "source": [
    "# removes files or folders\n",
    "# os.remove(\"file.txt\")             # delete a file\n",
    "print(os.getcwd())\n",
    "# os.rmdir(\"new_folder\")              # remove the folder\n",
    "print(os.listdir())"
   ]
  },
  {
   "cell_type": "code",
   "execution_count": 55,
   "id": "36849451",
   "metadata": {},
   "outputs": [
    {
     "name": "stdout",
     "output_type": "stream",
     "text": [
      "['New', 'new_folder', 'rishijoshi0', 'rishijoshi1', 'rishijoshi10', 'rishijoshi11', 'rishijoshi12', 'rishijoshi13', 'rishijoshi14', 'rishijoshi15', 'rishijoshi16', 'rishijoshi17', 'rishijoshi18', 'rishijoshi19', 'rishijoshi2', 'rishijoshi20', 'rishijoshi21', 'rishijoshi22', 'rishijoshi23', 'rishijoshi24', 'rishijoshi25', 'rishijoshi26', 'rishijoshi27', 'rishijoshi28', 'rishijoshi29', 'rishijoshi3', 'rishijoshi30', 'rishijoshi31', 'rishijoshi32', 'rishijoshi33', 'rishijoshi34', 'rishijoshi35', 'rishijoshi36', 'rishijoshi37', 'rishijoshi38', 'rishijoshi39', 'rishijoshi4', 'rishijoshi40', 'rishijoshi41', 'rishijoshi42', 'rishijoshi43', 'rishijoshi44', 'rishijoshi45', 'rishijoshi46', 'rishijoshi47', 'rishijoshi48', 'rishijoshi49', 'rishijoshi5', 'rishijoshi50', 'rishijoshi51', 'rishijoshi52', 'rishijoshi53', 'rishijoshi54', 'rishijoshi55', 'rishijoshi56', 'rishijoshi57', 'rishijoshi58', 'rishijoshi59', 'rishijoshi6', 'rishijoshi60', 'rishijoshi61', 'rishijoshi62', 'rishijoshi63', 'rishijoshi64', 'rishijoshi65', 'rishijoshi66', 'rishijoshi67', 'rishijoshi68', 'rishijoshi69', 'rishijoshi7', 'rishijoshi70', 'rishijoshi71', 'rishijoshi72', 'rishijoshi73', 'rishijoshi74', 'rishijoshi75', 'rishijoshi76', 'rishijoshi77', 'rishijoshi78', 'rishijoshi79', 'rishijoshi8', 'rishijoshi80', 'rishijoshi81', 'rishijoshi82', 'rishijoshi83', 'rishijoshi84', 'rishijoshi85', 'rishijoshi86', 'rishijoshi87', 'rishijoshi88', 'rishijoshi89', 'rishijoshi9', 'rishijoshi90', 'rishijoshi91', 'rishijoshi92', 'rishijoshi93', 'rishijoshi94', 'rishijoshi95', 'rishijoshi96', 'rishijoshi97', 'rishijoshi98', 'rishijoshi99']\n"
     ]
    },
    {
     "ename": "FileExistsError",
     "evalue": "[WinError 183] Cannot create a file when that file already exists: 'new_folder' -> 'New'",
     "output_type": "error",
     "traceback": [
      "\u001b[1;31m---------------------------------------------------------------------------\u001b[0m",
      "\u001b[1;31mFileExistsError\u001b[0m                           Traceback (most recent call last)",
      "Cell \u001b[1;32mIn[55], line 4\u001b[0m\n\u001b[0;32m      2\u001b[0m os\u001b[38;5;241m.\u001b[39mmkdir(\u001b[38;5;124m\"\u001b[39m\u001b[38;5;124mnew_folder\u001b[39m\u001b[38;5;124m\"\u001b[39m)  \u001b[38;5;66;03m# create a new folder\u001b[39;00m\n\u001b[0;32m      3\u001b[0m \u001b[38;5;28mprint\u001b[39m(os\u001b[38;5;241m.\u001b[39mlistdir())\n\u001b[1;32m----> 4\u001b[0m os\u001b[38;5;241m.\u001b[39mrename(\u001b[38;5;124m\"\u001b[39m\u001b[38;5;124mnew_folder\u001b[39m\u001b[38;5;124m\"\u001b[39m,\u001b[38;5;124m\"\u001b[39m\u001b[38;5;124mNew\u001b[39m\u001b[38;5;124m\"\u001b[39m)\n\u001b[0;32m      5\u001b[0m \u001b[38;5;28mprint\u001b[39m(os\u001b[38;5;241m.\u001b[39mlistdir())\n",
      "\u001b[1;31mFileExistsError\u001b[0m: [WinError 183] Cannot create a file when that file already exists: 'new_folder' -> 'New'"
     ]
    }
   ],
   "source": [
    "# renaming files and folders\n",
    "os.mkdir(\"new_folder\")  # create a new folder\n",
    "print(os.listdir())\n",
    "os.rename(\"new_folder\",\"New\")\n",
    "print(os.listdir())"
   ]
  },
  {
   "cell_type": "code",
   "execution_count": 54,
   "id": "fbb36996",
   "metadata": {},
   "outputs": [
    {
     "name": "stdout",
     "output_type": "stream",
     "text": [
      "False\n",
      "False\n",
      "False\n"
     ]
    }
   ],
   "source": [
    "# checks files and folder does exists\n",
    "# return boolean value\n",
    "# checks for file in txt form \n",
    "print(os.path.exists(\"D:/py/sample.txt\"))\n",
    "\n",
    "# checks for directory\n",
    "print(os.path.isdir(\"new_folder\"))\n",
    "\n",
    "\n",
    "# checks for csv files\n",
    "print(os.path.isfile(\"D:/py/amazon_sales_data 2025.csv\"))"
   ]
  },
  {
   "cell_type": "code",
   "execution_count": 53,
   "id": "7f61a363",
   "metadata": {},
   "outputs": [
    {
     "name": "stdout",
     "output_type": "stream",
     "text": [
      "d:\\py\\New\n"
     ]
    }
   ],
   "source": [
    "# get full path\n",
    "path = os.path.abspath(\"New\")\n",
    "print(path)"
   ]
  },
  {
   "cell_type": "code",
   "execution_count": 52,
   "id": "067ef9f4",
   "metadata": {},
   "outputs": [
    {
     "name": "stdout",
     "output_type": "stream",
     "text": [
      "D:/py/sample.txt\n"
     ]
    }
   ],
   "source": [
    "# Join paths(works on both linux and window)\n",
    "file_path = os .path.join (\"New\",\"D:/py/sample.txt\")\n",
    "print(file_path)"
   ]
  },
  {
   "cell_type": "code",
   "execution_count": 51,
   "id": "65e118c0",
   "metadata": {},
   "outputs": [
    {
     "ename": "FileNotFoundError",
     "evalue": "[WinError 2] The system cannot find the file specified: 'new_folder'",
     "output_type": "error",
     "traceback": [
      "\u001b[1;31m---------------------------------------------------------------------------\u001b[0m",
      "\u001b[1;31mFileNotFoundError\u001b[0m                         Traceback (most recent call last)",
      "Cell \u001b[1;32mIn[51], line 2\u001b[0m\n\u001b[0;32m      1\u001b[0m \u001b[38;5;66;03m## removing the directory\u001b[39;00m\n\u001b[1;32m----> 2\u001b[0m os\u001b[38;5;241m.\u001b[39mrmdir(\u001b[38;5;124m\"\u001b[39m\u001b[38;5;124mnew_folder\u001b[39m\u001b[38;5;124m\"\u001b[39m) \u001b[38;5;66;03m# remove the folder\u001b[39;00m\n\u001b[0;32m      3\u001b[0m \u001b[38;5;28mprint\u001b[39m(os\u001b[38;5;241m.\u001b[39mlistdir())\n",
      "\u001b[1;31mFileNotFoundError\u001b[0m: [WinError 2] The system cannot find the file specified: 'new_folder'"
     ]
    }
   ],
   "source": [
    "## removing the directory\n",
    "os.rmdir(\"new_folder\") # remove the folder\n",
    "print(os.listdir())"
   ]
  },
  {
   "cell_type": "code",
   "execution_count": 50,
   "id": "cf049817",
   "metadata": {},
   "outputs": [
    {
     "name": "stdout",
     "output_type": "stream",
     "text": [
      "New\n",
      "rishijoshi0\n",
      "rishijoshi1\n",
      "rishijoshi10\n",
      "rishijoshi11\n",
      "rishijoshi12\n",
      "rishijoshi13\n",
      "rishijoshi14\n",
      "rishijoshi15\n",
      "rishijoshi16\n",
      "rishijoshi17\n",
      "rishijoshi18\n",
      "rishijoshi19\n",
      "rishijoshi2\n",
      "rishijoshi20\n",
      "rishijoshi21\n",
      "rishijoshi22\n",
      "rishijoshi23\n",
      "rishijoshi24\n",
      "rishijoshi25\n",
      "rishijoshi26\n",
      "rishijoshi27\n",
      "rishijoshi28\n",
      "rishijoshi29\n",
      "rishijoshi3\n",
      "rishijoshi30\n",
      "rishijoshi31\n",
      "rishijoshi32\n",
      "rishijoshi33\n",
      "rishijoshi34\n",
      "rishijoshi35\n",
      "rishijoshi36\n",
      "rishijoshi37\n",
      "rishijoshi38\n",
      "rishijoshi39\n",
      "rishijoshi4\n",
      "rishijoshi40\n",
      "rishijoshi41\n",
      "rishijoshi42\n",
      "rishijoshi43\n",
      "rishijoshi44\n",
      "rishijoshi45\n",
      "rishijoshi46\n",
      "rishijoshi47\n",
      "rishijoshi48\n",
      "rishijoshi49\n",
      "rishijoshi5\n",
      "rishijoshi50\n",
      "rishijoshi51\n",
      "rishijoshi52\n",
      "rishijoshi53\n",
      "rishijoshi54\n",
      "rishijoshi55\n",
      "rishijoshi56\n",
      "rishijoshi57\n",
      "rishijoshi58\n",
      "rishijoshi59\n",
      "rishijoshi6\n",
      "rishijoshi60\n",
      "rishijoshi61\n",
      "rishijoshi62\n",
      "rishijoshi63\n",
      "rishijoshi64\n",
      "rishijoshi65\n",
      "rishijoshi66\n",
      "rishijoshi67\n",
      "rishijoshi68\n",
      "rishijoshi69\n",
      "rishijoshi7\n",
      "rishijoshi70\n",
      "rishijoshi71\n",
      "rishijoshi72\n",
      "rishijoshi73\n",
      "rishijoshi74\n",
      "rishijoshi75\n",
      "rishijoshi76\n",
      "rishijoshi77\n",
      "rishijoshi78\n",
      "rishijoshi79\n",
      "rishijoshi8\n",
      "rishijoshi80\n",
      "rishijoshi81\n",
      "rishijoshi82\n",
      "rishijoshi83\n",
      "rishijoshi84\n",
      "rishijoshi85\n",
      "rishijoshi86\n",
      "rishijoshi87\n",
      "rishijoshi88\n",
      "rishijoshi89\n",
      "rishijoshi9\n",
      "rishijoshi90\n",
      "rishijoshi91\n",
      "rishijoshi92\n",
      "rishijoshi93\n",
      "rishijoshi94\n",
      "rishijoshi95\n",
      "rishijoshi96\n",
      "rishijoshi97\n",
      "rishijoshi98\n",
      "rishijoshi99\n",
      "d:\\py\n"
     ]
    }
   ],
   "source": [
    "for i in os.listdir(\"D:/py\"):\n",
    "    print(i)\n",
    "print(os.getcwd())"
   ]
  },
  {
   "cell_type": "markdown",
   "id": "0108f166",
   "metadata": {},
   "source": [
    "##### Bulk Directory Creation"
   ]
  },
  {
   "cell_type": "code",
   "execution_count": null,
   "id": "7c40af25",
   "metadata": {},
   "outputs": [
    {
     "data": {
      "text/plain": [
       "[]"
      ]
     },
     "execution_count": 36,
     "metadata": {},
     "output_type": "execute_result"
    }
   ],
   "source": [
    "import os\n",
    "print(os.getcwd())\n",
    "# os.mkdir(\"test\")              # first create a folder\n",
    "os.listdir()"
   ]
  },
  {
   "cell_type": "code",
   "execution_count": null,
   "id": "b3e8ab03",
   "metadata": {},
   "outputs": [],
   "source": [
    "# # creating bulk directory using automation\n",
    "# for i in range (10):\n",
    "#     os.mkdir(\"test_folder\" + str(i))  # create 10 folders\n",
    "# print(os.listdir())\n",
    "\n",
    "# os.mkdir(\"fail\")\n",
    "# for i in range (100):\n",
    "#     os.mkdir(\"fail\" + str(i))\n",
    "\n",
    "\n",
    "\n",
    "\n",
    "n = \"rishi\"             # master directory\n",
    "for i in range (100):\n",
    "    name = n + \"joshi\" + str(i)\n",
    "    os.mkdir(name)  # create 100 folders"
   ]
  },
  {
   "cell_type": "code",
   "execution_count": null,
   "id": "644ddb60",
   "metadata": {},
   "outputs": [
    {
     "name": "stdout",
     "output_type": "stream",
     "text": [
      "d:\\py\n",
      "master1\n",
      "master1/subfolder1\n"
     ]
    },
    {
     "ename": "FileNotFoundError",
     "evalue": "[WinError 3] The system cannot find the path specified: 'master1/subfolder1'",
     "output_type": "error",
     "traceback": [
      "\u001b[1;31m---------------------------------------------------------------------------\u001b[0m",
      "\u001b[1;31mFileNotFoundError\u001b[0m                         Traceback (most recent call last)",
      "Cell \u001b[1;32mIn[39], line 12\u001b[0m\n\u001b[0;32m     10\u001b[0m       o \u001b[38;5;241m=\u001b[39m (name \u001b[38;5;241m+\u001b[39m \u001b[38;5;124m\"\u001b[39m\u001b[38;5;124m/\u001b[39m\u001b[38;5;124m\"\u001b[39m \u001b[38;5;241m+\u001b[39m \u001b[38;5;124m\"\u001b[39m\u001b[38;5;124msubfolder\u001b[39m\u001b[38;5;124m\"\u001b[39m \u001b[38;5;241m+\u001b[39m \u001b[38;5;28mstr\u001b[39m(j\u001b[38;5;241m+\u001b[39m\u001b[38;5;241m1\u001b[39m))\n\u001b[0;32m     11\u001b[0m       \u001b[38;5;28mprint\u001b[39m(o)  \u001b[38;5;66;03m# create 10 folders inside each folder\u001b[39;00m\n\u001b[1;32m---> 12\u001b[0m       os\u001b[38;5;241m.\u001b[39mmkdir(o)\n\u001b[0;32m     14\u001b[0m os\u001b[38;5;241m.\u001b[39mrmdir(\u001b[38;5;124m\"\u001b[39m\u001b[38;5;124mmasterfol\u001b[39m\u001b[38;5;124m\"\u001b[39m)\n",
      "\u001b[1;31mFileNotFoundError\u001b[0m: [WinError 3] The system cannot find the path specified: 'master1/subfolder1'"
     ]
    }
   ],
   "source": [
    "# creating directory inside direcctory\n",
    "master = \"masterfol\"\n",
    "print(os.getcwd())\n",
    "\n",
    "for i in range (10):\n",
    "   name = (\"master\" + str(i+1))  # create 10 folders\n",
    "   print(name)\n",
    "#    os.mkdir(name)\n",
    "   for j in range(10):\n",
    "      o = (name + \"/\" + \"subfolder\" + str(j+1))\n",
    "      print(o)  # create 10 folders inside each folder\n",
    "      os.mkdir(o)\n",
    "\n",
    "os.rmdir(\"masterfol\")  # remove the folder\n"
   ]
  }
 ],
 "metadata": {
  "kernelspec": {
   "display_name": "base",
   "language": "python",
   "name": "python3"
  },
  "language_info": {
   "codemirror_mode": {
    "name": "ipython",
    "version": 3
   },
   "file_extension": ".py",
   "mimetype": "text/x-python",
   "name": "python",
   "nbconvert_exporter": "python",
   "pygments_lexer": "ipython3",
   "version": "3.12.7"
  }
 },
 "nbformat": 4,
 "nbformat_minor": 5
}
