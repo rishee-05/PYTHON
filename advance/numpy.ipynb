{
 "cells": [
  {
   "cell_type": "code",
   "execution_count": 42,
   "id": "bb466584",
   "metadata": {},
   "outputs": [
    {
     "name": "stdout",
     "output_type": "stream",
     "text": [
      "*************************\n",
      "[1 2 3]\n",
      "<class 'numpy.ndarray'>\n",
      "*************************\n",
      "[[1 2 3]\n",
      " [4 5 6]]\n",
      "<class 'numpy.ndarray'>\n",
      "*************************\n",
      "[[1 2 3]\n",
      " [4 5 6]\n",
      " [7 8 9]]\n",
      "*************************\n",
      "[[[1 2]\n",
      "  [3 4]]\n",
      "\n",
      " [[5 6]\n",
      "  [7 8]]]\n",
      "*************************\n",
      "[1, 2, 3]\n",
      "<class 'list'>\n",
      "[1 2 3]\n",
      "[ True  True  True]\n",
      "*************************\n",
      "[1, 2, 3]\n"
     ]
    }
   ],
   "source": [
    "import numpy as np\n",
    "print(\"*\"*25)\n",
    "a = np.array([1,2,3])\n",
    "print(a)\n",
    "print(type(a))\n",
    "print(\"*\"*25)\n",
    "two_D = np.array([[1,2,3],[4,5,6]],)\n",
    "print(two_D)\n",
    "print(type(two_D))\n",
    "print(\"*\"*25)\n",
    "three_D = np.array([[1,2,3],[4,5,6],[7,8,9]])\n",
    "print(three_D)\n",
    "print(\"*\"*25)\n",
    "tensor = np.array([[[1,2],[3,4]],[[5,6],[7,8]]])\n",
    "print(tensor)\n",
    "\n",
    "print(\"*\"*25)\n",
    "\n",
    "# array to list\n",
    "lst = (a.tolist())\n",
    "lst_ = np.array(lst)\n",
    "print(lst)\n",
    "print(type(lst))\n",
    "print(lst_)\n",
    "\n",
    "print(a==lst)\n",
    "print(\"*\"*25)\n",
    "print(sorted(a))\n",
    "\n",
    "\n",
    "\n",
    "\n",
    "\n"
   ]
  },
  {
   "cell_type": "code",
   "execution_count": 43,
   "id": "3371ade1",
   "metadata": {},
   "outputs": [
    {
     "name": "stdout",
     "output_type": "stream",
     "text": [
      "*************************\n",
      "[ 1 24  3]\n",
      "[ 1 24  3  6  7  8]\n",
      "*************************\n",
      "[24  3  6  7  8]\n",
      "*************************\n",
      "[100  24   3   6   7   8]\n",
      "[100  24   3   6 200   8]\n",
      "*************************\n"
     ]
    }
   ],
   "source": [
    "print(\"*\"*25)\n",
    "# adding elements to the array\n",
    "a = np.array([1,24])\n",
    "a = np.append(a,3)\n",
    "print(a)\n",
    "a = np.append(a,[6,7,8])\n",
    "print(a)\n",
    "\n",
    "print(\"*\"*25)\n",
    "# deleting the elements from the array\n",
    "a = np.delete(a,0)          # zeroth index element will get deleteted\n",
    "print(a)\n",
    "\n",
    "print(\"*\"*25)\n",
    "# inserting the elements to the array\n",
    "a = np.insert(a,0,100)              # zeroth elemet will replaced by 100\n",
    "print(a)\n",
    "\n",
    "# another way to update the elements\n",
    "a[-2] = 200         # by using index we can update the elements\n",
    "print(a)\n",
    "\n",
    "print(\"*\"*25)"
   ]
  },
  {
   "cell_type": "code",
   "execution_count": 44,
   "id": "2bb15ea3",
   "metadata": {},
   "outputs": [
    {
     "name": "stdout",
     "output_type": "stream",
     "text": [
      "[1 2 3]\n",
      "[4 5 6]\n",
      "[7 8 9]\n",
      "*************************\n",
      "[1 2 3]\n",
      "[4 5 6]\n",
      "[7 8 9]\n"
     ]
    }
   ],
   "source": [
    "# for loop in numpy array\n",
    "three_D = np.array([[1,2,3],[4,5,6],[7,8,9]])\n",
    "for i in three_D:\n",
    "    print(i)\n",
    "\n",
    "print(\"*\"*25)\n",
    "i = 0           # intialize the index is mandatory\n",
    "while i<len(three_D):\n",
    "    print(three_D[i])\n",
    "    i+=1"
   ]
  },
  {
   "cell_type": "code",
   "execution_count": 52,
   "id": "208c0279",
   "metadata": {},
   "outputs": [
    {
     "name": "stdout",
     "output_type": "stream",
     "text": [
      "Time taken by list: 21.507202625274658 seconds\n",
      "*************************\n",
      "Time taken by array: 0.17965364456176758 seconds\n"
     ]
    }
   ],
   "source": [
    "### time complexity of the array vs list.\n",
    "# del list\n",
    "my_list = list(range(1000000))\n",
    "array = np.arange(1000000)\n",
    "# executing list first\n",
    "import time \n",
    "start = time.time()\n",
    "for i in range(1000):\n",
    "    if 50000000 in my_list:\n",
    "        pass\n",
    "end = time.time()\n",
    "print(f\"Time taken by list: {end-start} seconds\")\n",
    "print(\"*\"*25)\n",
    "# executing array first\n",
    "start = time.time()\n",
    "for i in range(1000):\n",
    "    if 50000000 in array:\n",
    "        pass\n",
    "end = time.time()\n",
    "print(f\"Time taken by array: {end-start} seconds\")\n",
    "# to much faster are array than list.\n",
    "\n",
    "\n",
    "\n"
   ]
  },
  {
   "cell_type": "code",
   "execution_count": 46,
   "id": "5b52192e",
   "metadata": {},
   "outputs": [
    {
     "name": "stdout",
     "output_type": "stream",
     "text": [
      "*************************\n",
      "[1. 2. 3.]\n",
      "*************************\n",
      "[ True  True False]\n",
      "*************************\n",
      "[1.+0.j 2.+0.j 0.+0.j]\n",
      "*************************\n"
     ]
    }
   ],
   "source": [
    "## own datatype numpy arrray\n",
    "print(\"*\"*25)\n",
    "data = np.array([1,2,3],dtype=float)\n",
    "print(data)\n",
    "print(\"*\"*25)\n",
    "data = np.array([1,2,0],dtype=bool)\n",
    "print(data)\n",
    "print(\"*\"*25)\n",
    "\n",
    "data = np.array([1,2,0],dtype=complex)\n",
    "print(data)\n",
    "print(\"*\"*25)\n"
   ]
  },
  {
   "cell_type": "code",
   "execution_count": 45,
   "id": "31851ac8",
   "metadata": {},
   "outputs": [
    {
     "name": "stdout",
     "output_type": "stream",
     "text": [
      "*************************\n",
      "[ 1  2  3  4  5  6  7  8  9 10 11 12 13 14 15 16 17 18 19]\n",
      "*************************\n",
      "[ 1  3  5  7  9 11 13 15 17 19]\n"
     ]
    }
   ],
   "source": [
    "# np.arange:- create list of numbers between two similar to range function\n",
    "print(\"*\"*25)\n",
    "array = np.arange(1,20)\n",
    "print(array)\n",
    "\n",
    "print(\"*\"*25)\n",
    "array = np.arange(1,20,2)\n",
    "print(array)"
   ]
  },
  {
   "cell_type": "code",
   "execution_count": 47,
   "id": "f64681a3",
   "metadata": {},
   "outputs": [
    {
     "name": "stdout",
     "output_type": "stream",
     "text": [
      "*************************\n",
      "[[ 1  2  3  4  5]\n",
      " [ 6  7  8  9 10]\n",
      " [11 12 13 14 15]\n",
      " [16 17 18 19 20]]\n",
      "*************************\n",
      "[[ 1  2  3  4  5]\n",
      " [ 6  7  8  9 10]\n",
      " [11 12 13 14 15]\n",
      " [16 17 18 19 20]\n",
      " [21 22 23 24 25]]\n"
     ]
    }
   ],
   "source": [
    "# reshape:- changes the dimension of the list which must be equal to product of max range\n",
    "print(\"*\"*25)\n",
    "array = np.arange(1,21).reshape(4,5)\n",
    "print(array)\n",
    "\n",
    "print(\"*\"*25)\n",
    "array = np.arange(1,26).reshape(5,5)\n",
    "print(array)"
   ]
  },
  {
   "cell_type": "code",
   "execution_count": 49,
   "id": "9dc5245a",
   "metadata": {},
   "outputs": [
    {
     "name": "stdout",
     "output_type": "stream",
     "text": [
      "*************************\n",
      "[[1. 1. 1. 1.]\n",
      " [1. 1. 1. 1.]\n",
      " [1. 1. 1. 1.]]\n",
      "*************************\n",
      "[[0. 0. 0. 0.]\n",
      " [0. 0. 0. 0.]\n",
      " [0. 0. 0. 0.]]\n",
      "*************************\n",
      "[[0.29294526 0.54197414 0.51568172 0.90420834]\n",
      " [0.73721043 0.77750125 0.57033539 0.60777782]\n",
      " [0.02557279 0.72979201 0.12091221 0.39450973]]\n"
     ]
    }
   ],
   "source": [
    "# ways to intialize arrays\n",
    "print(\"*\"*25)\n",
    "# np.ones\n",
    "ones = np.ones((3,4))\n",
    "print(ones)\n",
    "print(\"*\"*25)\n",
    "#np.zeros\n",
    "zeroes = np.zeros((3,4))\n",
    "print(zeroes)\n",
    "print(\"*\"*25)\n",
    "# np.random.random\n",
    "random = np.random.random((3,4))        # it will create 3X4 matrix\n",
    "print(random)"
   ]
  },
  {
   "cell_type": "code",
   "execution_count": 50,
   "id": "13da28da",
   "metadata": {},
   "outputs": [
    {
     "data": {
      "text/plain": [
       "array([-10.,  -5.,   0.,   5.,  10.])"
      ]
     },
     "execution_count": 50,
     "metadata": {},
     "output_type": "execute_result"
    }
   ],
   "source": [
    "# np.linespace:- create array of number between given two number and third gap implies the gap\n",
    "np.linspace(-10,10,5)       # create array between two number(-10,10) with gap of 5 \n"
   ]
  },
  {
   "cell_type": "code",
   "execution_count": 10,
   "id": "f5e8a29c",
   "metadata": {},
   "outputs": [
    {
     "name": "stdout",
     "output_type": "stream",
     "text": [
      "*************************\n",
      "[[1. 0. 0.]\n",
      " [0. 1. 0.]\n",
      " [0. 0. 1.]]\n",
      "*************************\n",
      "[[1. 0. 0. 0.]\n",
      " [0. 1. 0. 0.]\n",
      " [0. 0. 1. 0.]\n",
      " [0. 0. 0. 1.]]\n"
     ]
    }
   ],
   "source": [
    "# np.identity\n",
    "print(\"*\"*25)\n",
    "print(np.identity(3))\n",
    "print(\"*\"*25)\n",
    "print(np.identity(4))"
   ]
  },
  {
   "cell_type": "markdown",
   "id": "ecd1f60a",
   "metadata": {},
   "source": [
    "#### numpy attributes"
   ]
  },
  {
   "cell_type": "code",
   "execution_count": 11,
   "id": "a6891012",
   "metadata": {},
   "outputs": [
    {
     "name": "stdout",
     "output_type": "stream",
     "text": [
      "[0 1 2 3 4 5 6 7 8 9]\n",
      "[[ 1  2  3  4  5]\n",
      " [ 6  7  8  9 10]\n",
      " [11 12 13 14 15]\n",
      " [16 17 18 19 20]]\n",
      "[[[0 1]\n",
      "  [2 3]]\n",
      "\n",
      " [[4 5]\n",
      "  [6 7]]]\n"
     ]
    }
   ],
   "source": [
    "a1 = np.arange(10)\n",
    "a2 = np.arange(1,21).reshape(4,5)\n",
    "a3 = np.arange(8).reshape(2,2,2)\n",
    "print(a1)\n",
    "print(a2)\n",
    "print(a3)"
   ]
  },
  {
   "cell_type": "code",
   "execution_count": 12,
   "id": "633dfc01",
   "metadata": {},
   "outputs": [
    {
     "name": "stdout",
     "output_type": "stream",
     "text": [
      "1\n",
      "2\n",
      "3\n"
     ]
    }
   ],
   "source": [
    "#n.dim:- written the dimesnion of the arrray either 1D, 2D or etc\n",
    "print(a1.ndim)\n",
    "print(a2.ndim)\n",
    "print(a3.ndim)"
   ]
  },
  {
   "cell_type": "code",
   "execution_count": 58,
   "id": "33953777",
   "metadata": {},
   "outputs": [
    {
     "name": "stdout",
     "output_type": "stream",
     "text": [
      "(10,)\n",
      "(4, 5)\n",
      "(2, 2, 2)\n"
     ]
    }
   ],
   "source": [
    "# shape returns the rows and columns\n",
    "print(a1.shape)\n",
    "print(a2.shape)\n",
    "print(a3.shape)"
   ]
  },
  {
   "cell_type": "code",
   "execution_count": 13,
   "id": "27991123",
   "metadata": {},
   "outputs": [
    {
     "name": "stdout",
     "output_type": "stream",
     "text": [
      "10\n",
      "20\n",
      "8\n"
     ]
    }
   ],
   "source": [
    "# size:- returns the number of the elements\n",
    "print(a1.size)\n",
    "print(a2.size)\n",
    "print(a3.size)"
   ]
  },
  {
   "cell_type": "code",
   "execution_count": 14,
   "id": "043d6316",
   "metadata": {},
   "outputs": [
    {
     "name": "stdout",
     "output_type": "stream",
     "text": [
      "4\n",
      "4\n",
      "4\n"
     ]
    }
   ],
   "source": [
    "# item size\n",
    "print(a1.itemsize)\n",
    "print(a2.itemsize)\n",
    "print(a3.itemsize)"
   ]
  },
  {
   "cell_type": "code",
   "execution_count": 31,
   "id": "0290293b",
   "metadata": {},
   "outputs": [
    {
     "name": "stdout",
     "output_type": "stream",
     "text": [
      "int32\n",
      "int32\n",
      "int32\n"
     ]
    }
   ],
   "source": [
    "# dtype:- written the amount of memory it is taking\n",
    "print(a1.dtype)\n",
    "print(a2.dtype)\n",
    "print(a3.dtype)"
   ]
  },
  {
   "cell_type": "markdown",
   "id": "704ea3a6",
   "metadata": {},
   "source": [
    "### changing datatypes"
   ]
  },
  {
   "cell_type": "code",
   "execution_count": 38,
   "id": "e08cc579",
   "metadata": {},
   "outputs": [
    {
     "name": "stdout",
     "output_type": "stream",
     "text": [
      "[[[0 1]\n",
      "  [2 3]]\n",
      "\n",
      " [[4 5]\n",
      "  [6 7]]]\n",
      "[[['0' '1']\n",
      "  ['2' '3']]\n",
      "\n",
      " [['4' '5']\n",
      "  ['6' '7']]]\n"
     ]
    }
   ],
   "source": [
    "# power of astype\n",
    "print(a3.astype(np.int8))\n",
    "print(a3.astype(\"str\"))"
   ]
  },
  {
   "cell_type": "markdown",
   "id": "f164b127",
   "metadata": {},
   "source": []
  },
  {
   "cell_type": "markdown",
   "id": "9d9d6cd5",
   "metadata": {},
   "source": [
    "### Array operations"
   ]
  },
  {
   "cell_type": "code",
   "execution_count": 17,
   "id": "7288176f",
   "metadata": {},
   "outputs": [
    {
     "name": "stdout",
     "output_type": "stream",
     "text": [
      "[[ 0  1  2  3]\n",
      " [ 4  5  6  7]\n",
      " [ 8  9 10 11]]\n",
      "[[12 13 14 15]\n",
      " [16 17 18 19]\n",
      " [20 21 22 23]]\n"
     ]
    }
   ],
   "source": [
    "a1 = np.arange(12).reshape(3,4)\n",
    "a2 = np.arange(12,24).reshape(3,4)\n",
    "\n",
    "print(a1)\n",
    "print(a2)"
   ]
  },
  {
   "cell_type": "code",
   "execution_count": 53,
   "id": "7aaead47",
   "metadata": {},
   "outputs": [
    {
     "name": "stdout",
     "output_type": "stream",
     "text": [
      "[[ 0  2  4  6]\n",
      " [ 8 10 12 14]\n",
      " [16 18 20 22]]\n",
      "[[ 2  3  4  5]\n",
      " [ 6  7  8  9]\n",
      " [10 11 12 13]]\n",
      "[[-2 -1  0  1]\n",
      " [ 2  3  4  5]\n",
      " [ 6  7  8  9]]\n",
      "[[  0   1   4   9]\n",
      " [ 16  25  36  49]\n",
      " [ 64  81 100 121]]\n",
      "[[0 0 1 1]\n",
      " [2 2 3 3]\n",
      " [4 4 5 5]]\n",
      "[[0 1 0 1]\n",
      " [0 1 0 1]\n",
      " [0 1 0 1]]\n"
     ]
    }
   ],
   "source": [
    "# scalar operations\n",
    "print(a1*2)\n",
    "print(a1+2)\n",
    "print(a1-2)\n",
    "print(a1**2)\n",
    "print(a1//2)\n",
    "print(a1%2)"
   ]
  },
  {
   "cell_type": "markdown",
   "id": "f29d59af",
   "metadata": {},
   "source": [
    "### Converting Data Structure to Numpy array\n"
   ]
  },
  {
   "cell_type": "code",
   "execution_count": 54,
   "id": "28c4676e",
   "metadata": {},
   "outputs": [],
   "source": [
    "import numpy as np"
   ]
  },
  {
   "cell_type": "code",
   "execution_count": 27,
   "id": "c2e4c4da",
   "metadata": {},
   "outputs": [
    {
     "name": "stdout",
     "output_type": "stream",
     "text": [
      "[1 2 3 4 5]\n",
      "<class 'numpy.ndarray'>\n",
      "*************************\n",
      "[1, 2, 3, 4, 5]\n",
      "<class 'list'>\n",
      "*************************\n",
      "[1 2 3 4 5]\n",
      "<class 'numpy.ndarray'>\n",
      "*************************\n",
      "[1 2 3 4 5]\n",
      "<class 'numpy.ndarray'>\n",
      "*************************\n",
      "[1 2 3 4 5]\n",
      "['H' 'e' 'l' 'l' 'o' ',' ' ' 'W' 'o' 'r' 'l' 'd' '!']\n",
      "<class 'numpy.ndarray'>\n",
      "*************************\n",
      "{'a': 1, 'b': 2, 'c': 3}\n",
      "<class 'numpy.ndarray'>\n",
      "*************************\n",
      "dict_items([('a', 1), ('b', 2), ('c', 3)])\n"
     ]
    }
   ],
   "source": [
    "# converting list to numpy array\n",
    "lst = [1,2,3,4,5]\n",
    "array = np.array(lst)\n",
    "print(array)\n",
    "print(type(array))\n",
    "print(\"*\"*25)\n",
    "\n",
    "lst_ = array.tolist()\n",
    "print(lst_)\n",
    "print(type(lst_))\n",
    "print(\"*\"*25)\n",
    "# converting tuple to numpy array\n",
    "tple = (1,2,3,4,5)\n",
    "array = np.array(tple)\n",
    "print(array)\n",
    "print(type(array))\n",
    "print(\"*\"*25)\n",
    "\n",
    "\n",
    "\n",
    "# converting set to numpy array\n",
    "st = {1,2,3,4,5}\n",
    "array = np.array(list(st))\n",
    "print(array)\n",
    "print(type(array))\n",
    "print(\"*\"*25)\n",
    "print(str(array))\n",
    "# converting string to numpy array\n",
    "string = \"Hello, World!\"\n",
    "array = np.array(list(string))\n",
    "print(array)\n",
    "print(type(array))\n",
    "print(\"*\"*25)\n",
    "\n",
    "# converting dictionary to numpy array\n",
    "dictionary = {\"a\":1, \"b\":2, \"c\":3}\n",
    "array = np.array(dictionary)\n",
    "print(array)\n",
    "print(type(array))\n",
    "print(\"*\"*25)\n",
    "\n",
    "print(np.array(dictionary.items()))\n"
   ]
  },
  {
   "cell_type": "markdown",
   "id": "e5cb1b91",
   "metadata": {},
   "source": [
    "### Converting the Datatype to Numpy array"
   ]
  },
  {
   "cell_type": "code",
   "execution_count": 26,
   "id": "a85233a9",
   "metadata": {},
   "outputs": [
    {
     "name": "stdout",
     "output_type": "stream",
     "text": [
      "[1 2 3 3 4]\n",
      "int32\n",
      "[1. 2. 3. 3. 4.]\n",
      "float16\n",
      "['1.0' '2.0' '3.0' '3.0' '4.0']\n",
      "[ True  True  True  True  True]\n"
     ]
    }
   ],
   "source": [
    "arr = np.array([1,2,3,3,4])\n",
    "print(arr)\n",
    "print(arr.dtype)\n",
    "print(arr.astype(\"float\"))\n",
    "arr_ = arr.astype(np.float16)\n",
    "print(arr_.dtype)\n",
    "print(arr_.astype(\"str\"))\n",
    "print(arr_.astype(\"bool\"))\n"
   ]
  },
  {
   "cell_type": "code",
   "execution_count": 58,
   "id": "bb9e0672",
   "metadata": {},
   "outputs": [
    {
     "name": "stdout",
     "output_type": "stream",
     "text": [
      "<class 'str'>\n",
      "[1, 2, 3, 4, 5]\n",
      "{1, 2, 3, 4, 5}\n"
     ]
    }
   ],
   "source": [
    "arr1 = np.array([1,2,3,4,5])\n",
    "a = (str(arr1))\n",
    "print(type(a))\n",
    "\n",
    "\n",
    "# print(tuple(arr1))\n",
    "print(list(arr1))\n",
    "# del set\n",
    "print(set(arr1))\n"
   ]
  }
 ],
 "metadata": {
  "kernelspec": {
   "display_name": "base",
   "language": "python",
   "name": "python3"
  },
  "language_info": {
   "codemirror_mode": {
    "name": "ipython",
    "version": 3
   },
   "file_extension": ".py",
   "mimetype": "text/x-python",
   "name": "python",
   "nbconvert_exporter": "python",
   "pygments_lexer": "ipython3",
   "version": "3.12.7"
  }
 },
 "nbformat": 4,
 "nbformat_minor": 5
}
