{
 "cells": [
  {
   "cell_type": "markdown",
   "id": "3f42c0de",
   "metadata": {},
   "source": [
    "#### Recursion:- A function that calls itself until it reaches a stopping condition (called base case)."
   ]
  },
  {
   "cell_type": "code",
   "execution_count": 1,
   "id": "9ecb5b90",
   "metadata": {},
   "outputs": [
    {
     "name": "stdout",
     "output_type": "stream",
     "text": [
      "Hello 5\n",
      "Hello 4\n",
      "Hello 3\n",
      "Hello 2\n",
      "Hello 1\n"
     ]
    }
   ],
   "source": [
    "def say_hello(n):\n",
    "    if n == 0:\n",
    "        return\n",
    "    print(\"Hello\", n)\n",
    "    say_hello(n - 1)\n",
    "\n",
    "say_hello(5)\n"
   ]
  },
  {
   "cell_type": "markdown",
   "id": "804e6e45",
   "metadata": {},
   "source": [
    "##### Base Case (stop Condition) Ye batata hai recursion ko kab rukna hai. Agar ye nahi diya toh function infinite times chalega (and crash karega = stack overflow)"
   ]
  },
  {
   "cell_type": "code",
   "execution_count": 2,
   "id": "3fa40624",
   "metadata": {},
   "outputs": [
    {
     "name": "stdout",
     "output_type": "stream",
     "text": [
      "120\n"
     ]
    }
   ],
   "source": [
    "def factorial(n):\n",
    "    if n == 1:\n",
    "        return 1\n",
    "    return n * factorial(n - 1)\n",
    "\n",
    "print(factorial(5))  # Output: 120\n"
   ]
  },
  {
   "cell_type": "code",
   "execution_count": 3,
   "id": "a6476c57",
   "metadata": {},
   "outputs": [
    {
     "name": "stdout",
     "output_type": "stream",
     "text": [
      "0 1 1 2 3 5 8 13 21 34 \n"
     ]
    }
   ],
   "source": [
    "def fibonacci(n):\n",
    "    if n <= 1:\n",
    "        return n\n",
    "    return fibonacci(n-1) + fibonacci(n-2)\n",
    "\n",
    "for i in range(10):\n",
    "    print(fibonacci(i), end=\" \")\n",
    "print()"
   ]
  },
  {
   "cell_type": "code",
   "execution_count": 4,
   "id": "ffea5d54",
   "metadata": {},
   "outputs": [
    {
     "name": "stdout",
     "output_type": "stream",
     "text": [
      "55\n"
     ]
    }
   ],
   "source": [
    "def sum_n(n):\n",
    "    if n == 1:\n",
    "        return 1\n",
    "    return n + sum_n(n - 1)\n",
    "\n",
    "print(sum_n(10))  # Output: 55\n"
   ]
  },
  {
   "cell_type": "code",
   "execution_count": 5,
   "id": "ace65a9b",
   "metadata": {},
   "outputs": [
    {
     "name": "stdout",
     "output_type": "stream",
     "text": [
      "16\n"
     ]
    }
   ],
   "source": [
    "def power(x, n):\n",
    "    if n == 0:\n",
    "        return 1\n",
    "    return x * power(x, n - 1)\n",
    "\n",
    "print(power(2, 4))  # Output: 16\n"
   ]
  },
  {
   "cell_type": "code",
   "execution_count": 6,
   "id": "19989695",
   "metadata": {},
   "outputs": [
    {
     "name": "stdout",
     "output_type": "stream",
     "text": [
      "olleh\n"
     ]
    }
   ],
   "source": [
    "def reverse_string(s):\n",
    "    if len(s) == 0:\n",
    "        return \"\"\n",
    "    return reverse_string(s[1:]) + s[0]\n",
    "\n",
    "print(reverse_string(\"hello\"))  # Output: \"olleh\"\n"
   ]
  }
 ],
 "metadata": {
  "kernelspec": {
   "display_name": "base",
   "language": "python",
   "name": "python3"
  },
  "language_info": {
   "codemirror_mode": {
    "name": "ipython",
    "version": 3
   },
   "file_extension": ".py",
   "mimetype": "text/x-python",
   "name": "python",
   "nbconvert_exporter": "python",
   "pygments_lexer": "ipython3",
   "version": "3.12.7"
  }
 },
 "nbformat": 4,
 "nbformat_minor": 5
}
