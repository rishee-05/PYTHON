{
 "cells": [
  {
   "cell_type": "markdown",
   "id": "114a6895",
   "metadata": {},
   "source": [
    "#### `Numpy` = Numerical Python\n",
    " - provides fast, flexible tools to do mathematical operations, statistics, and data manipulation on large sets of numbers\n",
    "\n",
    "\n",
    " ##### Main Feature:-\n",
    "- Powerful N-dimensional array object (ndarray)\n",
    "- Tools for mathematical operations (sum, mean, std, etc.)\n",
    "- Supports linear algebra, Fourier transform, and random number generation\n",
    "- Super fast compared to vanilla Python"
   ]
  },
  {
   "cell_type": "code",
   "execution_count": 3,
   "id": "c9a46c8c",
   "metadata": {},
   "outputs": [
    {
     "name": "stdout",
     "output_type": "stream",
     "text": [
      "*************************\n",
      "[1 2 3]\n",
      "<class 'numpy.ndarray'>\n",
      "*************************\n",
      "[[1 2 3]\n",
      " [4 5 6]]\n",
      "<class 'numpy.ndarray'>\n",
      "*************************\n",
      "[[[1 2 3]\n",
      "  [4 5 6]\n",
      "  [7 8 9]]\n",
      "\n",
      " [[1 2 3]\n",
      "  [4 5 6]\n",
      "  [7 8 9]]\n",
      "\n",
      " [[1 2 3]\n",
      "  [4 5 6]\n",
      "  [7 8 9]]]\n",
      "3\n",
      "*************************\n",
      "[[[1 2]\n",
      "  [3 4]]\n",
      "\n",
      " [[5 6]\n",
      "  [7 8]]]\n",
      "*************************\n",
      "[1, 2, 3]\n",
      "<class 'list'>\n",
      "[1 2 3]\n",
      "[ True  True  True]\n",
      "*************************\n",
      "[1, 2, 3]\n"
     ]
    }
   ],
   "source": [
    "import numpy as np\n",
    "print(\"*\"*25)\n",
    "a = np.array([1,2,3])\n",
    "print(a)\n",
    "print(type(a))\n",
    "print(\"*\"*25)\n",
    "two_D = np.array([[1,2,3],[4,5,6]],)\n",
    "print(two_D)\n",
    "print(type(two_D))\n",
    "print(\"*\"*25)\n",
    "three_D = np.array([[[1,2,3],[4,5,6],[7,8,9]],\n",
    "                    [[1,2,3],[4,5,6],[7,8,9]],\n",
    "                    [[1,2,3],[4,5,6],[7,8,9]]])\n",
    "print(three_D)\n",
    "print(three_D.ndim)\n",
    "print(\"*\"*25)\n",
    "tensor = np.array([[[1,2],[3,4]],[[5,6],[7,8]]])\n",
    "print(tensor)\n",
    "\n",
    "print(\"*\"*25)\n",
    "\n",
    "# array to list\n",
    "lst = (a.tolist())\n",
    "print(lst)\n",
    "print(type(lst))\n",
    "print(lst_)\n",
    "\n",
    "print(a==lst)\n",
    "print(\"*\"*25)\n",
    "print(sorted(a))\n",
    "\n",
    "\n",
    "\n",
    "\n",
    "\n"
   ]
  },
  {
   "cell_type": "code",
   "execution_count": 4,
   "id": "3371ade1",
   "metadata": {},
   "outputs": [
    {
     "name": "stdout",
     "output_type": "stream",
     "text": [
      "*************************\n",
      "[ 1 24  3]\n",
      "[ 1 24  3  6  7  8]\n",
      "*************************\n",
      "[24  3  6  7  8]\n",
      "*************************\n",
      "[100  24   3   6   7   8]\n",
      "[100  24   3   6 200   8]\n",
      "*************************\n"
     ]
    }
   ],
   "source": [
    "print(\"*\"*25)\n",
    "# adding elements to the array\n",
    "a = np.array([1,24])\n",
    "a = np.append(a,3)\n",
    "print(a)\n",
    "a = np.append(a,[6,7,8])\n",
    "print(a)\n",
    "\n",
    "print(\"*\"*25)\n",
    "# deleting the elements from the array\n",
    "a = np.delete(a,0)          # zeroth index element will get deleteted\n",
    "print(a)\n",
    "\n",
    "print(\"*\"*25)\n",
    "# inserting the elements to the array\n",
    "a = np.insert(a,0,100)              # zeroth elemet will replaced by 100\n",
    "print(a)\n",
    "\n",
    "# another way to update the elements\n",
    "a[-2] = 200         # by using index we can update the elements\n",
    "print(a)\n",
    "\n",
    "print(\"*\"*25)"
   ]
  },
  {
   "cell_type": "code",
   "execution_count": 5,
   "id": "2bb15ea3",
   "metadata": {},
   "outputs": [
    {
     "name": "stdout",
     "output_type": "stream",
     "text": [
      "[1 2 3]\n",
      "[4 5 6]\n",
      "[7 8 9]\n",
      "*************************\n",
      "[1 2 3]\n",
      "[4 5 6]\n",
      "[7 8 9]\n"
     ]
    }
   ],
   "source": [
    "# for loop in numpy array\n",
    "three_D = np.array([[1,2,3],[4,5,6],[7,8,9]])\n",
    "for i in three_D:\n",
    "    print(i)\n",
    "\n",
    "print(\"*\"*25)\n",
    "i = 0           # intialize the index is mandatory\n",
    "while i<len(three_D):\n",
    "    print(three_D[i])\n",
    "    i+=1"
   ]
  },
  {
   "cell_type": "code",
   "execution_count": 6,
   "id": "208c0279",
   "metadata": {},
   "outputs": [
    {
     "name": "stdout",
     "output_type": "stream",
     "text": [
      "Time taken by list: 21.754305839538574 seconds\n",
      "*************************\n",
      "Time taken by array: 0.21347737312316895 seconds\n"
     ]
    }
   ],
   "source": [
    "import numpy as np\n",
    "### time complexity of the array vs list.\n",
    "# del list\n",
    "my_list = list(range(1000000))\n",
    "array = np.arange(1000000)\n",
    "# executing list first\n",
    "import time \n",
    "start = time.time()\n",
    "for i in range(1000):\n",
    "    if 50000000 in my_list:\n",
    "        pass\n",
    "end = time.time()\n",
    "print(f\"Time taken by list: {end-start} seconds\")\n",
    "print(\"*\"*25)\n",
    "# executing array first\n",
    "start = time.time()\n",
    "for i in range(1000):\n",
    "    if 50000000 in array:\n",
    "        pass\n",
    "end = time.time()\n",
    "print(f\"Time taken by array: {end-start} seconds\")\n",
    "# to much faster are array than list.\n",
    "\n",
    "\n",
    "\n"
   ]
  },
  {
   "cell_type": "code",
   "execution_count": 12,
   "id": "5b52192e",
   "metadata": {},
   "outputs": [
    {
     "name": "stdout",
     "output_type": "stream",
     "text": [
      "*************************\n",
      "<class 'numpy.ndarray'>\n",
      "*************************\n",
      "<class 'numpy.ndarray'>\n",
      "*************************\n",
      "<class 'numpy.ndarray'>\n",
      "*************************\n",
      "<class 'numpy.ndarray'>\n",
      "*************************\n"
     ]
    }
   ],
   "source": [
    "## own datatype numpy arrray\n",
    "print(\"*\"*25)\n",
    "data = np.array([1,2,3],dtype=float)\n",
    "print(type(data))\n",
    "print(\"*\"*25)\n",
    "data = np.array([1,2,0],dtype=\"b\")\n",
    "print(type(data))\n",
    "print(\"*\"*25)\n",
    "\n",
    "data = np.array([1,2,0],dtype=complex)\n",
    "print(type(data))\n",
    "print(\"*\"*25)\n",
    "\n",
    "\n",
    "data = np.array([1,2,0],dtype=\"O\")\n",
    "print(type(data))\n",
    "print(\"*\"*25)\n",
    "\n",
    "# i= intger\n",
    "# f = flaot\n",
    "# u = unsigned chara\n",
    "# c - complex flaoting\n",
    "# a = ASCiI \n",
    "# b = boolean\n",
    "# \"O\" = object\n",
    "# \"S\" = string"
   ]
  },
  {
   "cell_type": "code",
   "execution_count": 45,
   "id": "31851ac8",
   "metadata": {},
   "outputs": [
    {
     "name": "stdout",
     "output_type": "stream",
     "text": [
      "*************************\n",
      "[ 1  2  3  4  5  6  7  8  9 10 11 12 13 14 15 16 17 18 19]\n",
      "*************************\n",
      "[ 1  3  5  7  9 11 13 15 17 19]\n"
     ]
    }
   ],
   "source": [
    "# np.arange:- create list of numbers between two similar to range function\n",
    "print(\"*\"*25)\n",
    "array = np.arange(1,20)\n",
    "print(array)\n",
    "\n",
    "print(\"*\"*25)\n",
    "array = np.arange(1,20,2)\n",
    "print(array)"
   ]
  },
  {
   "cell_type": "code",
   "execution_count": 16,
   "id": "f64681a3",
   "metadata": {},
   "outputs": [
    {
     "name": "stdout",
     "output_type": "stream",
     "text": [
      "*************************\n",
      "[[ 0  1  2  3  4]\n",
      " [ 5  6  7  8  9]\n",
      " [10 11 12 13 14]\n",
      " [15 16 17 18 19]]\n",
      "*************************\n",
      "[[ 1  2  3  4  5]\n",
      " [ 6  7  8  9 10]\n",
      " [11 12 13 14 15]\n",
      " [16 17 18 19 20]\n",
      " [21 22 23 24 25]]\n"
     ]
    }
   ],
   "source": [
    "# reshape:- changes the dimension of the list which must be equal to product of max range\n",
    "print(\"*\"*25)\n",
    "array = np.arange(0,20).reshape(4,5)\n",
    "print(array)\n",
    "\n",
    "print(\"*\"*25)\n",
    "array = np.arange(1,26).reshape(5,5)\n",
    "print(array)"
   ]
  },
  {
   "cell_type": "code",
   "execution_count": 8,
   "id": "9dc5245a",
   "metadata": {},
   "outputs": [
    {
     "name": "stdout",
     "output_type": "stream",
     "text": [
      "*************************\n",
      "[[1. 1. 1. 1.]\n",
      " [1. 1. 1. 1.]\n",
      " [1. 1. 1. 1.]]\n",
      "*************************\n",
      "[[0. 0. 0. 0.]\n",
      " [0. 0. 0. 0.]\n",
      " [0. 0. 0. 0.]]\n",
      "*************************\n",
      "[[0.61959008 0.6157335  0.38519735 0.33486746]\n",
      " [0.23210617 0.27851606 0.70469662 0.41257754]\n",
      " [0.10088209 0.19957493 0.86576586 0.86840068]]\n",
      "*************************\n",
      "[[2.12199579e-314 1.15012172e-311]\n",
      " [4.90113121e-321 3.79442416e-321]]\n"
     ]
    }
   ],
   "source": [
    "import numpy as np\n",
    "# ways to intialize arrays\n",
    "print(\"*\"*25)\n",
    "# np.ones\n",
    "ones = np.ones((3,4))\n",
    "print(ones)\n",
    "print(\"*\"*25)\n",
    "#np.zeros\n",
    "zeroes = np.zeros((3,4))\n",
    "print(zeroes)\n",
    "print(\"*\"*25)\n",
    "# np.random.random\n",
    "random = np.random.random((3,4))        # it will create 3X4 matrix\n",
    "print(random)\n",
    "print(\"*\"*25)\n",
    "em = np.empty((2,2)) \n",
    "print(em)         # it will create empty array of 2 elements"
   ]
  },
  {
   "cell_type": "code",
   "execution_count": 4,
   "id": "13da28da",
   "metadata": {},
   "outputs": [
    {
     "name": "stdout",
     "output_type": "stream",
     "text": [
      "(array([ 1.,  2.,  3.,  4.,  5.,  6.,  7.,  8.,  9., 10.]), 1.0)\n",
      "(array([ 1.  ,  3.25,  5.5 ,  7.75, 10.  ]), 2.25)\n",
      "[ 1.  2.  3.  4.  5.  6.  7.  8.  9. 10.]\n"
     ]
    }
   ],
   "source": [
    "import numpy as np\n",
    "\n",
    "array = np.linspace(1,10,num = 10,retstep=True)       \n",
    "print(array)\n",
    "\n",
    "array_ = np.linspace(1,10,num = 5,retstep=True)         # retstep = True, it will return the step size as well in tuple form\n",
    "print(array_)\n",
    "\n",
    "\n",
    "arra = np.linspace(1,10,num = 10,retstep=False)      \n",
    "print(arra)"
   ]
  },
  {
   "cell_type": "code",
   "execution_count": 17,
   "id": "5ace53e1",
   "metadata": {},
   "outputs": [
    {
     "name": "stdout",
     "output_type": "stream",
     "text": [
      "[   2.            9.51365692   45.254834    215.2694823  1024.        ]\n",
      "[1.00000000e+01 6.30957344e+02 3.98107171e+04 2.51188643e+06\n",
      " 1.58489319e+08]\n"
     ]
    }
   ],
   "source": [
    "## logspace\n",
    "print(np.logspace(1,10,5,base=2))       # it will create array between 10^1 to 10^10 with gap of 5\n",
    "l = np.logspace(1,10,5,endpoint=False)     # it will create array between 10^1 to 10^10 with gap of 5   \n",
    "print(l)"
   ]
  },
  {
   "cell_type": "code",
   "execution_count": 17,
   "id": "f5e8a29c",
   "metadata": {},
   "outputs": [
    {
     "name": "stdout",
     "output_type": "stream",
     "text": [
      "*************************\n",
      "[[1 0 0]\n",
      " [0 1 0]\n",
      " [0 0 1]]\n",
      "*************************\n",
      "[[1. 0. 0. 0.]\n",
      " [0. 1. 0. 0.]\n",
      " [0. 0. 1. 0.]\n",
      " [0. 0. 0. 1.]]\n",
      "[[1 0 0]\n",
      " [0 1 0]\n",
      " [0 0 1]]\n"
     ]
    }
   ],
   "source": [
    "# np.identity\n",
    "print(\"*\"*25)\n",
    "print(np.identity(3,dtype = np.int32))\n",
    "print(\"*\"*25)\n",
    "print(np.identity(4))\n",
    "\n",
    "# eye\n",
    "print(np.eye(3,dtype=(np.int8)))\n"
   ]
  },
  {
   "cell_type": "markdown",
   "id": "ecd1f60a",
   "metadata": {},
   "source": [
    "#### numpy attributes"
   ]
  },
  {
   "cell_type": "code",
   "execution_count": 18,
   "id": "a6891012",
   "metadata": {},
   "outputs": [
    {
     "name": "stdout",
     "output_type": "stream",
     "text": [
      "[0 1 2 3 4 5 6 7 8 9]\n",
      "[[ 1  2  3  4  5]\n",
      " [ 6  7  8  9 10]\n",
      " [11 12 13 14 15]\n",
      " [16 17 18 19 20]]\n",
      "[[[0 1]\n",
      "  [2 3]]\n",
      "\n",
      " [[4 5]\n",
      "  [6 7]]]\n"
     ]
    }
   ],
   "source": [
    "a1 = np.arange(10)          # it will create single number list \n",
    "a2 = np.arange(1,21).reshape(4,5)\n",
    "a3 = np.arange(8).reshape(2,2,2)\n",
    "print(a1)\n",
    "print(a2)\n",
    "print(a3)"
   ]
  },
  {
   "cell_type": "code",
   "execution_count": 19,
   "id": "633dfc01",
   "metadata": {},
   "outputs": [
    {
     "name": "stdout",
     "output_type": "stream",
     "text": [
      "1\n",
      "2\n",
      "3\n"
     ]
    }
   ],
   "source": [
    "#n.dim:- written the dimesnion of the arrray either 1D, 2D or etc\n",
    "print(a1.ndim)\n",
    "print(a2.ndim)\n",
    "print(a3.ndim)"
   ]
  },
  {
   "cell_type": "code",
   "execution_count": 20,
   "id": "33953777",
   "metadata": {},
   "outputs": [
    {
     "name": "stdout",
     "output_type": "stream",
     "text": [
      "(10,)\n",
      "(4, 5)\n",
      "(2, 2, 2)\n"
     ]
    }
   ],
   "source": [
    "# shape returns the rows and columns\n",
    "print(a1.shape)\n",
    "print(a2.shape)\n",
    "print(a3.shape)"
   ]
  },
  {
   "cell_type": "code",
   "execution_count": 21,
   "id": "27991123",
   "metadata": {},
   "outputs": [
    {
     "name": "stdout",
     "output_type": "stream",
     "text": [
      "10\n",
      "20\n",
      "8\n"
     ]
    }
   ],
   "source": [
    "# size:- returns the number of the elements\n",
    "print(a1.size)\n",
    "print(a2.size)\n",
    "print(a3.size)"
   ]
  },
  {
   "cell_type": "code",
   "execution_count": 22,
   "id": "043d6316",
   "metadata": {},
   "outputs": [
    {
     "name": "stdout",
     "output_type": "stream",
     "text": [
      "4\n",
      "4\n",
      "4\n"
     ]
    }
   ],
   "source": [
    "# item size:- tells you how much memory (in bytes) each item of a NumPy array is taking.\n",
    "print(a1.itemsize)\n",
    "print(a2.itemsize)\n",
    "print(a3.itemsize)"
   ]
  },
  {
   "cell_type": "code",
   "execution_count": 23,
   "id": "0290293b",
   "metadata": {},
   "outputs": [
    {
     "name": "stdout",
     "output_type": "stream",
     "text": [
      "int32\n",
      "int32\n",
      "int32\n"
     ]
    }
   ],
   "source": [
    "# dtype:- written the amount of memory it is taking\n",
    "print(a1.dtype)\n",
    "print(a2.dtype)\n",
    "print(a3.dtype)"
   ]
  },
  {
   "cell_type": "markdown",
   "id": "704ea3a6",
   "metadata": {},
   "source": [
    "### changing datatypes"
   ]
  },
  {
   "cell_type": "code",
   "execution_count": 24,
   "id": "e08cc579",
   "metadata": {},
   "outputs": [
    {
     "name": "stdout",
     "output_type": "stream",
     "text": [
      "[[[0 1]\n",
      "  [2 3]]\n",
      "\n",
      " [[4 5]\n",
      "  [6 7]]]\n",
      "[[['0' '1']\n",
      "  ['2' '3']]\n",
      "\n",
      " [['4' '5']\n",
      "  ['6' '7']]]\n",
      "[[[0. 1.]\n",
      "  [2. 3.]]\n",
      "\n",
      " [[4. 5.]\n",
      "  [6. 7.]]]\n",
      "[1 2 3 4]\n",
      "['1' '2' '3' '4']\n",
      "['1' '2' '3' '4']\n",
      "<U1\n"
     ]
    }
   ],
   "source": [
    "# power of astype\n",
    "print(a3.astype(np.int8))           # convert the array into int8\n",
    "print(a3.astype(\"str\"))             # convert the array into string\n",
    "print(a3.astype(\"float\"))\n",
    "arr = np.array([1, 2, 3, 4])\n",
    "print(arr)\n",
    "print(arr.astype(\"str\"))\n",
    "\n",
    "\n",
    "arr = np.array([1, 2, 3, 4], dtype=str)\n",
    "print(arr)        # ['1' '2' '3' '4']\n",
    "print(arr.dtype)  # <U1 (Unicode string of length 1)\n"
   ]
  },
  {
   "cell_type": "markdown",
   "id": "9d9d6cd5",
   "metadata": {},
   "source": [
    "### Array operations"
   ]
  },
  {
   "cell_type": "code",
   "execution_count": 25,
   "id": "7288176f",
   "metadata": {},
   "outputs": [
    {
     "name": "stdout",
     "output_type": "stream",
     "text": [
      "[[ 0  1  2  3]\n",
      " [ 4  5  6  7]\n",
      " [ 8  9 10 11]]\n",
      "[[12 13 14 15]\n",
      " [16 17 18 19]\n",
      " [20 21 22 23]]\n"
     ]
    }
   ],
   "source": [
    "a1 = np.arange(12).reshape(3,4)\n",
    "a2 = np.arange(12,24).reshape(3,4)\n",
    "\n",
    "print(a1)\n",
    "print(a2)"
   ]
  },
  {
   "cell_type": "code",
   "execution_count": 26,
   "id": "7aaead47",
   "metadata": {},
   "outputs": [
    {
     "name": "stdout",
     "output_type": "stream",
     "text": [
      "[[ 0  2  4  6]\n",
      " [ 8 10 12 14]\n",
      " [16 18 20 22]]\n",
      "[[ 2  3  4  5]\n",
      " [ 6  7  8  9]\n",
      " [10 11 12 13]]\n",
      "[[-2 -1  0  1]\n",
      " [ 2  3  4  5]\n",
      " [ 6  7  8  9]]\n",
      "[[  0   1   4   9]\n",
      " [ 16  25  36  49]\n",
      " [ 64  81 100 121]]\n",
      "[[0 0 1 1]\n",
      " [2 2 3 3]\n",
      " [4 4 5 5]]\n",
      "[[0 1 0 1]\n",
      " [0 1 0 1]\n",
      " [0 1 0 1]]\n"
     ]
    }
   ],
   "source": [
    "# scalar operations\n",
    "print(a1*2)\n",
    "print(a1+2)\n",
    "print(a1-2)\n",
    "print(a1**2)\n",
    "print(a1//2)\n",
    "print(a1%2)"
   ]
  },
  {
   "cell_type": "markdown",
   "id": "f29d59af",
   "metadata": {},
   "source": [
    "### Converting Data Structure to Numpy array\n"
   ]
  },
  {
   "cell_type": "code",
   "execution_count": 6,
   "id": "28c4676e",
   "metadata": {},
   "outputs": [],
   "source": [
    "import numpy as np"
   ]
  },
  {
   "cell_type": "code",
   "execution_count": 29,
   "id": "c2e4c4da",
   "metadata": {},
   "outputs": [
    {
     "name": "stdout",
     "output_type": "stream",
     "text": [
      "[1 2 3 4 5]\n",
      "<class 'numpy.ndarray'>\n",
      "*************************\n",
      "[1, 2, 3, 4, 5]\n",
      "<class 'list'>\n",
      "*************************\n",
      "[1 2 3 4 5]\n",
      "<class 'numpy.ndarray'>\n",
      "*************************\n",
      "[1 2 3 4 5]\n",
      "<class 'numpy.ndarray'>\n",
      "*************************\n",
      "[1 2 3 4 5]\n",
      "['H' 'e' 'l' 'l' 'o' ',' ' ' 'W' 'o' 'r' 'l' 'd' '!']\n",
      "<class 'numpy.ndarray'>\n",
      "*************************\n",
      "{'a': 1, 'b': 2, 'c': 3}\n",
      "<class 'numpy.ndarray'>\n",
      "*************************\n",
      "dict_items([('a', 1), ('b', 2), ('c', 3)])\n"
     ]
    }
   ],
   "source": [
    "# converting list to numpy array\n",
    "lst = [1,2,3,4,5]\n",
    "array = np.array(lst)\n",
    "print(array)\n",
    "print(type(array))\n",
    "print(\"*\"*25)\n",
    "\n",
    "lst_ = array.tolist()\n",
    "print(lst_)\n",
    "print(type(lst_))\n",
    "print(\"*\"*25)\n",
    "# converting tuple to numpy array\n",
    "tple = (1,2,3,4,5)\n",
    "array = np.array(tple)\n",
    "print(array)\n",
    "print(type(array))\n",
    "print(\"*\"*25)\n",
    "\n",
    "\n",
    "\n",
    "# converting set to numpy array\n",
    "st = {1,2,3,4,5}\n",
    "array = np.array(list(st))\n",
    "print(array)\n",
    "print(type(array))\n",
    "print(\"*\"*25)\n",
    "print(str(array))\n",
    "# converting string to numpy array\n",
    "string = \"Hello, World!\"\n",
    "array = np.array(list(string))\n",
    "print(array)\n",
    "print(type(array))\n",
    "print(\"*\"*25)\n",
    "\n",
    "# converting dictionary to numpy array\n",
    "dictionary = {\"a\":1, \"b\":2, \"c\":3}\n",
    "array = np.array(dictionary)\n",
    "print(array)\n",
    "print(type(array))\n",
    "print(\"*\"*25)\n",
    "\n",
    "print(np.array(dictionary.items()))\n"
   ]
  },
  {
   "cell_type": "markdown",
   "id": "e5cb1b91",
   "metadata": {},
   "source": [
    "### Converting the Datatype to Numpy array"
   ]
  },
  {
   "cell_type": "code",
   "execution_count": 30,
   "id": "a85233a9",
   "metadata": {},
   "outputs": [
    {
     "name": "stdout",
     "output_type": "stream",
     "text": [
      "[1 2 3 3 4]\n",
      "[1. 2. 3. 3. 4.]\n",
      "float16\n",
      "['1.0' '2.0' '3.0' '3.0' '4.0']\n",
      "[ True  True  True  True  True]\n"
     ]
    }
   ],
   "source": [
    "arr = np.array([1,2,3,3,4])\n",
    "print(arr)\n",
    "\n",
    "print(arr.astype(\"float\"))\n",
    "\n",
    "arr_ = arr.astype(np.float16)\n",
    "print(arr_.dtype)\n",
    "print(arr_.astype(\"str\"))\n",
    "print(arr_.astype(\"bool\"))\n"
   ]
  },
  {
   "cell_type": "code",
   "execution_count": 31,
   "id": "bb9e0672",
   "metadata": {},
   "outputs": [
    {
     "name": "stdout",
     "output_type": "stream",
     "text": [
      "<class 'str'>\n",
      "[1, 2, 3, 4, 5]\n",
      "{1, 2, 3, 4, 5}\n"
     ]
    }
   ],
   "source": [
    "arr1 = np.array([1,2,3,4,5])\n",
    "a = (str(arr1))\n",
    "print(type(a))\n",
    "\n",
    "\n",
    "# print(tuple(arr1))\n",
    "print(list(arr1))\n",
    "# del set\n",
    "print(set(arr1))\n"
   ]
  },
  {
   "cell_type": "markdown",
   "id": "1507b181",
   "metadata": {},
   "source": [
    "### Copying elements in list and arrays"
   ]
  },
  {
   "cell_type": "code",
   "execution_count": 20,
   "id": "63a80946",
   "metadata": {},
   "outputs": [
    {
     "name": "stdout",
     "output_type": "stream",
     "text": [
      "[100, 2, 3, 4, 5]\n",
      "[100, 2, 3, 4, 5]\n",
      "----------\n",
      "[200, 2, 3, 4, 5]\n",
      "2020653440512\n",
      "[200, 2, 3, 4, 5]\n",
      "2020653440512\n",
      "----------\n",
      "*************************\n",
      "[100   2   3   4   5]\n",
      "[100   2   3   4   5]\n",
      "----------\n",
      "[200   2   3   4   5]\n",
      "2020652953360\n",
      "[200   2   3   4   5]\n",
      "2020652953360\n",
      "----------\n"
     ]
    }
   ],
   "source": [
    "# copy system in the list\n",
    "lst = [1,2,3,4,5]\n",
    "lst1 = lst\n",
    "# changing the value of lst\n",
    "lst[0] = 100\n",
    "print(lst)\n",
    "# changes will be reflected in lst1\n",
    "print(lst1)\n",
    "print(\"-\"*10)\n",
    "\n",
    "# now changing the value of lst1\n",
    "lst1[0] = 200\n",
    "print(lst1)\n",
    "print(id(lst1))\n",
    "print(lst)\n",
    "print(id(lst))                  # changes will reflected in both lists\n",
    "print(\"-\"*10)\n",
    "print('*'* 25)\n",
    "# copy system in the array\n",
    "arr = np.array([1,2,3,4,5])\n",
    "arr1 = arr\n",
    "# changing the value of arr\n",
    "arr[0] = 100\n",
    "print(arr)\n",
    "print(arr1)\n",
    "print(\"-\"*10)\n",
    "\n",
    "# now changing the value of arr1\n",
    "arr1[0] = 200\n",
    "print(arr1)\n",
    "print(id(arr1))\n",
    "print(arr)\n",
    "print(id(arr))\n",
    "print(\"-\"*10)                   # changes will be reflected in both arrays\n"
   ]
  },
  {
   "cell_type": "code",
   "execution_count": 32,
   "id": "ed04929b",
   "metadata": {},
   "outputs": [
    {
     "name": "stdout",
     "output_type": "stream",
     "text": [
      "[100, 2, 3, 4, 5]\n",
      "1996183644352\n",
      "[1, 2, 3, 4, 5]\n",
      "1996224864896\n",
      "----------\n",
      "[200, 2, 3, 4, 5]\n",
      "[100, 2, 3, 4, 5]\n",
      "*************************\n",
      "[100   2   3   4   5]\n",
      "[1 2 3 4 5]\n",
      "----------\n",
      "[200   2   3   4   5]\n",
      "[100   2   3   4   5]\n",
      "1996183400592\n",
      "1996183400112\n",
      "----------\n"
     ]
    }
   ],
   "source": [
    "# using copy function\n",
    "lst = [1,2,3,4,5]\n",
    "lst1 = lst.copy()       # will create a new copy of the list which is not linked to the original list\n",
    "# changing the value of lst\n",
    "lst[0] = 100\n",
    "print(lst)\n",
    "print(id(lst))\n",
    "print(lst1)\n",
    "print(id(lst1))\n",
    "print(\"-\"*10)\n",
    "\n",
    "# changing the value of lst1\n",
    "lst1[0] = 200\n",
    "print(lst1)\n",
    "print(lst)\n",
    "\n",
    "\n",
    "print(\"*\"*25)       \n",
    "# copy system in the array\n",
    "arr = np.array([1,2,3,4,5])\n",
    "arr1 = arr.copy()\n",
    "# changing the value of arr\n",
    "arr[0] = 100\n",
    "print(arr)\n",
    "print(arr1)\n",
    "print(\"-\"*10)\n",
    "\n",
    "# changing the value of arr1\n",
    "arr1[0] = 200\n",
    "print(arr1)\n",
    "print(arr)\n",
    "print(id(arr1))\n",
    "print(id(arr))\n",
    "print(\"-\"*10)\n",
    "\n",
    "\n"
   ]
  },
  {
   "cell_type": "code",
   "execution_count": 33,
   "id": "05dcdb39",
   "metadata": {},
   "outputs": [
    {
     "name": "stdout",
     "output_type": "stream",
     "text": [
      "[1, 2, 3, 4, 5]\n",
      "[100, 2, 3, 4, 5]\n",
      "[1, 2, 3, 4, 5]\n",
      "1996224863808\n",
      "1996224871808\n",
      "----------\n",
      "*************************\n",
      "[1 2 3 4 5]\n",
      "[100   2   3   4   5]\n",
      "[100   2   3   4   5]\n",
      "1996224824016\n",
      "1996183400112\n",
      "----------\n"
     ]
    }
   ],
   "source": [
    "# For simple lists: [:] works like a copy.\n",
    "lst = [1,2,3,4,5]\n",
    "lst1 = lst[:]\n",
    "print(lst1)\n",
    "lst[0] = 100\n",
    "print(lst)\n",
    "print(lst1)     # changes will not be reflected in both lists\n",
    "print(id(lst))\n",
    "print(id(lst1))\n",
    "print(\"-\"*10)\n",
    "print('*'*25)\n",
    "# arr1 = arr[:] doesn’t create a completely separate copy — it’s just a view of the same data.\n",
    "arr = np.array([1,2,3,4,5])\n",
    "arr1 = arr[:]\n",
    "print(arr1)\n",
    "arr[0] = 100\n",
    "print(arr)\n",
    "print(arr1)\n",
    "print(id(arr))\n",
    "print(id(arr1))\n",
    "print(\"-\"*10)\n",
    "\n",
    "\n",
    "\n"
   ]
  },
  {
   "cell_type": "markdown",
   "id": "a360d448",
   "metadata": {},
   "source": [
    "#### Adding, Sorting, remooving the elements "
   ]
  },
  {
   "cell_type": "code",
   "execution_count": 34,
   "id": "5bac4d50",
   "metadata": {},
   "outputs": [
    {
     "name": "stdout",
     "output_type": "stream",
     "text": [
      "[ 1  2  3  4  5  6  7  8  9 10]\n",
      "*************************\n",
      "[ 1  2  2  3  6  8  9 64 67 95]\n",
      "*************************\n"
     ]
    }
   ],
   "source": [
    "import numpy as np\n",
    "# Adding\n",
    "x = np.array([1,2,3,4,5])\n",
    "y = np.array([6,7,8,9,10])\n",
    "con = np.concatenate((x,y))\n",
    "print(con)\n",
    "print(\"*\"*25)\n",
    "\n",
    "# sorting\n",
    "z = np.array([2,3,64,8,6,95,2,67,9,1])\n",
    "zs = np.sort(z)\n",
    "print(zs)\n",
    "print(\"*\"*25)\n",
    "\n",
    "#removing"
   ]
  },
  {
   "cell_type": "markdown",
   "id": "3a80c4f0",
   "metadata": {},
   "source": [
    "#### Indexing and slicing the arrays"
   ]
  },
  {
   "cell_type": "code",
   "execution_count": 35,
   "id": "19080107",
   "metadata": {},
   "outputs": [
    {
     "name": "stdout",
     "output_type": "stream",
     "text": [
      "1\n",
      "5\n",
      "5\n",
      "__________\n",
      "[1 2 3]\n",
      "1\n",
      "2\n",
      "*************************\n",
      "[1 2]\n",
      "[1 2 3]\n",
      "[3 4 5]\n",
      "[1 2 3 4 5]\n",
      "[[1 2 3]\n",
      " [4 5 6]]\n",
      "[1 2 3]\n",
      "[4 5 6]\n",
      "[1 2 3 4 4 5 6 7 8 9]\n",
      "[ 6  7  8  9 10 11 12]\n",
      "[1 2 3 4]\n",
      "[ 5  6  7  8  9 10 11 12]\n",
      "*************************\n",
      "[ 2  4  6  8 10 12]\n",
      "*************************\n",
      "[ 3  4  5  6  7  8  9 10]\n",
      "*************************\n",
      "[[False False False False]\n",
      " [ True  True  True  True]\n",
      " [ True  True  True  True]]\n",
      "-------------------------\n",
      "[ 5  6  7  8  9 10 11 12]\n"
     ]
    }
   ],
   "source": [
    "import numpy as np\n",
    "# indexing\n",
    "arr = np.array([1,2,3,4,5])\n",
    "print(arr[0])       # positive indexng\n",
    "print(arr[-1])      # negative indexing\n",
    "print(arr[4])\n",
    "print(\"_\"*10)\n",
    "\n",
    "# 2D array\n",
    "arr = np.array([[1,2,3],[4,5,6]])\n",
    "print(arr[0])\n",
    "print(arr[0][0])\n",
    "print(arr[0][1])\n",
    "print(\"*\"*25)\n",
    "\n",
    "# slicing\n",
    "arr = np.array([1,2,3,4,5])\n",
    "print(arr[0:2])\n",
    "print(arr[:-2])         # negative slicing\n",
    "print(arr[2:])\n",
    "print(arr[:])\n",
    "\n",
    "\n",
    "# 2D array  \n",
    "arr = np.array([[1,2,3],[4,5,6]])\n",
    "print(arr[:])\n",
    "print(arr[0][:])\n",
    "print(arr[1][:])\n",
    "\n",
    "\n",
    "array = np.array([1,2,3,4,4,5,6,7,8,9])\n",
    "print(array[0:len(array)+1])          # it will print 0 to 4 index\n",
    "\n",
    "\n",
    "a = np.array([[1 , 2, 3, 4], [5, 6, 7, 8], [9, 10, 11, 12]])\n",
    "print(a[a>5])\n",
    "print(a[a<5])\n",
    "print(a[a>=5])\n",
    "print(\"*\"*25)\n",
    "# divisible by two\n",
    "print(a[a%2==0])\n",
    "print(\"*\"*25)\n",
    "c = a[(a > 2) & (a < 11)]           # and condition(&)\n",
    "print(c)\n",
    "print(\"*\"*25)\n",
    "# using logical operator to create boolean value\n",
    "five_up = (a > 5) | (a == 5)\n",
    "print(five_up)\n",
    "print(\"-\"*25)\n",
    "print(a[five_up])\n"
   ]
  },
  {
   "cell_type": "markdown",
   "id": "44ec60e7",
   "metadata": {},
   "source": [
    "#### Generating random numbers arrays"
   ]
  },
  {
   "cell_type": "code",
   "execution_count": 36,
   "id": "29493b02",
   "metadata": {},
   "outputs": [
    {
     "name": "stdout",
     "output_type": "stream",
     "text": [
      "0.8445002974525758\n",
      "[0.4391938  0.8798212  0.46760324 0.22223152 0.87941551 0.13987163\n",
      " 0.8367524  0.29212108 0.26004735 0.9853319 ]\n",
      "[[0.97289837 0.25634956 0.5212242 ]\n",
      " [0.30367269 0.42192826 0.00169285]\n",
      " [0.08910126 0.00297578 0.44962259]]\n",
      "******************************\n",
      "0\n",
      "[0 7 2 1 2]\n",
      "[[ 28 394  85]\n",
      " [ 57 954 246]\n",
      " [647 289 787]]\n",
      "[[136 193 148]\n",
      " [173 197 157]\n",
      " [142 128 150]]\n",
      "******************************\n",
      "[[0.77754916 0.11473814 0.91366061]\n",
      " [0.04250486 0.40694565 0.78788595]\n",
      " [0.10254686 0.07771493 0.04133556]]\n",
      "******************************\n",
      "[[3 5 0]\n",
      " [6 3 4]\n",
      " [5 5 5]]\n"
     ]
    }
   ],
   "source": [
    "print(np.random.rand())         # will create always random number between 0 and 1\n",
    "print(np.random.rand(10))       # will create 10 random number between 0 and 1\n",
    "print(np.random.rand(3,3))      # wll generate 3X3 random matrices between 0 and 1\n",
    "print(\"*\"*30)\n",
    "\n",
    "\n",
    "print(np.random.randint(10))       # will create random number upto 10\n",
    "print(np.random.randint(10,size= (5)))      # will create random  number with 1 row and 5 column\n",
    "print(np.random.randint(1000, size=(3, 3)))\n",
    "print(np.random.randint(low=100, high=200, size=(3, 3)))\n",
    "print(\"*\"*30)\n",
    "\n",
    "\n",
    "\n",
    "# Generate a 2D array of 3x3 random numbers from a uniform distribution between 0 and 1\n",
    "print(np.random.uniform(size=(3, 3)))\n",
    "print(\"*\"*30)\n",
    "\n",
    "# Generate a 2D array of 3x3 random numbers from a binomial distribution with n=10 and p=0.5\n",
    "print(np.random.binomial(10, 0.5, size=(3, 3)))"
   ]
  },
  {
   "cell_type": "markdown",
   "id": "4ab84d7d",
   "metadata": {},
   "source": [
    "#### Manging the randomness(seed)\n",
    "- seed() is used to initialize the random number generator.\n",
    "- Random number generators don’t generate truly random numbers — they generate pseudo-random numbers, and seed() bas unka starting point fix karta hai."
   ]
  },
  {
   "cell_type": "code",
   "execution_count": 37,
   "id": "8bc30168",
   "metadata": {},
   "outputs": [
    {
     "name": "stdout",
     "output_type": "stream",
     "text": [
      "0.40252768125933525\n",
      "[0.44762044 0.40349586 0.95641608]\n",
      "6\n",
      "[[2 4 8 4 9]\n",
      " [3 3 5 8 2]\n",
      " [0 3 8 0 8]]\n",
      "***********************************\n",
      "0.43599490214200376\n",
      "[0.02592623 0.54966248 0.43532239]\n",
      "8\n",
      "[[7 2 1 5 4]\n",
      " [4 5 7 3 6]\n",
      " [4 3 7 6 1]]\n"
     ]
    }
   ],
   "source": [
    "import numpy as np\n",
    "print(np.random.rand())\n",
    "print(np.random.rand(3))\n",
    "\n",
    "print(np.random.randint(10))\n",
    "print(np.random.randint(10, size=(3, 5)))\n",
    "# generating random numbers\n",
    "print(\"*\"*35)\n",
    "\n",
    "\n",
    "# intializing seed function\n",
    "import numpy as np\n",
    "np.random.seed(2)\n",
    "\n",
    "print(np.random.rand())\n",
    "print(np.random.rand(3))\n",
    "\n",
    "print(np.random.randint(10))\n",
    "print(np.random.randint(10, size=(3, 5)))"
   ]
  },
  {
   "cell_type": "code",
   "execution_count": 38,
   "id": "dee6a402",
   "metadata": {},
   "outputs": [
    {
     "name": "stdout",
     "output_type": "stream",
     "text": [
      "505 495\n",
      "509 491\n",
      "481 519\n",
      "508 492\n",
      "510 490\n",
      "490 510\n",
      "503 497\n",
      "475 525\n",
      "496 504\n",
      "499 501\n"
     ]
    }
   ],
   "source": [
    "import numpy as np\n",
    "\n",
    "# Set a random seed for reproducibility\n",
    "np.random.seed(5)\n",
    "\n",
    "# Run the loop 10 times\n",
    "for i in range(10):\n",
    "    # Generate an array of 1000 random integers (either 0 or 1)\n",
    "    arr = np.random.randint(2, size=1000)\n",
    "    \n",
    "    # Count and print the number of ones and zeros in the array\n",
    "    print(len(arr[arr == 1]), len(arr[arr == 0]))       #  array slicing kar raha hai → sirf un elements ko extract karega jo 1 hain\n",
    "#    Is array ka length count karega → matlab kitne 1s hain"
   ]
  },
  {
   "cell_type": "markdown",
   "id": "7884ac82",
   "metadata": {},
   "source": [
    "### Flatening and spliting the array"
   ]
  },
  {
   "cell_type": "code",
   "execution_count": 39,
   "id": "e5006772",
   "metadata": {},
   "outputs": [
    {
     "name": "stdout",
     "output_type": "stream",
     "text": [
      "[[38 13 73]\n",
      " [10 76  6]\n",
      " [80 65 17]]\n",
      "*************************\n",
      "[38 13 73 10 76  6 80 65 17]\n",
      "*************************\n",
      "[38 13 73 10 76  6 80 65 17]\n",
      "[[[ 1  2  3]\n",
      "  [ 4  5  6]]\n",
      "\n",
      " [[ 7  8  9]\n",
      "  [10 11 12]]]\n",
      "3\n",
      "[ 1  2  3  4  5  6  7  8  9 10 11 12]\n"
     ]
    }
   ],
   "source": [
    "# two popular way to flatten the array .flatten(), ravel()\n",
    "np.random.seed(1)\n",
    "num = np.random.randint(1, 100, size=(3, 3))\n",
    "print(num)\n",
    "\n",
    "print(\"*\"*25)\n",
    "flat = num.flatten()         # it will convert the 2D array into 1D array\n",
    "print(flat)\n",
    "print(\"*\"*25)\n",
    "\n",
    "ravel = num.ravel()         # it will convert the 2D array into 1D array\n",
    "print(ravel)\n",
    "\n",
    "\n",
    "array = np.array([[[1,2,3],[4,5,6]],[[7,8,9],[10,11,12]]])\n",
    "print(array)\n",
    "print(array.ndim)       # it will return the dimension of the array# 3D array hai\n",
    "\n",
    "print(array.flatten())       # it will convert the 3D array into 1D array"
   ]
  },
  {
   "cell_type": "code",
   "execution_count": 40,
   "id": "8f0a603b",
   "metadata": {},
   "outputs": [
    {
     "name": "stdout",
     "output_type": "stream",
     "text": [
      "[[ 0  1  2  3  4]\n",
      " [ 5  6  7  8  9]\n",
      " [10 11 12 13 14]\n",
      " [15 16 17 18 19]]\n",
      "*************************\n",
      "[array([[0, 1, 2, 3, 4],\n",
      "       [5, 6, 7, 8, 9]]), array([[10, 11, 12, 13, 14],\n",
      "       [15, 16, 17, 18, 19]])]\n",
      "*************************\n",
      "[[0 1 2 3 4]\n",
      " [5 6 7 8 9]]\n",
      "[[10 11 12 13 14]\n",
      " [15 16 17 18 19]]\n",
      "[array([[0, 1, 2, 3, 4],\n",
      "       [5, 6, 7, 8, 9]]), array([[10, 11, 12, 13, 14],\n",
      "       [15, 16, 17, 18, 19]])]\n",
      "*************************\n",
      "[array([[ 0],\n",
      "       [ 5],\n",
      "       [10],\n",
      "       [15]]), array([[ 1],\n",
      "       [ 6],\n",
      "       [11],\n",
      "       [16]]), array([[ 2],\n",
      "       [ 7],\n",
      "       [12],\n",
      "       [17]]), array([[ 3],\n",
      "       [ 8],\n",
      "       [13],\n",
      "       [18]]), array([[ 4],\n",
      "       [ 9],\n",
      "       [14],\n",
      "       [19]])]\n"
     ]
    }
   ],
   "source": [
    "# spllitting the arrays:- matlab big NumPy array ko chhote-chhote tukdon mein todna 💥\n",
    "# np.split\n",
    "array = np.arange(20).reshape(4,5)\n",
    "print(array)\n",
    "print(\"*\"*25)\n",
    "print(np.split(array,2))\n",
    "print(\"*\"*25)\n",
    "for i in np.split(array,2):\n",
    "    print(i)\n",
    "\n",
    "\n",
    "# np.vsplit:- vertical splitting\n",
    "print(np.vsplit(array,2))    # it will split the array into 2 parts vertically\n",
    "print(\"*\"*25)\n",
    "shape = (np.hsplit(array,5))\n",
    "print(shape) "
   ]
  },
  {
   "cell_type": "markdown",
   "id": "1637dfce",
   "metadata": {},
   "source": [
    "### Merging and stacking"
   ]
  },
  {
   "cell_type": "code",
   "execution_count": 42,
   "id": "3f5aa2a5",
   "metadata": {},
   "outputs": [
    {
     "name": "stdout",
     "output_type": "stream",
     "text": [
      "[1 2 3 4 1 5 2 9 9 2 3 5 8 2 9 4]\n",
      "[[1 2 3 4]\n",
      " [1 5 2 9]\n",
      " [9 2 3 5]\n",
      " [8 2 9 4]]\n",
      "*************************\n",
      "[1 2 3 4 1 5 2 9 9 2 3 5 8 2 9 4]\n",
      "*************************\n",
      "[[1 2 3 4]\n",
      " [1 5 2 9]\n",
      " [9 2 3 5]\n",
      " [8 2 9 4]]\n"
     ]
    }
   ],
   "source": [
    "# merging the arrays\n",
    "import numpy as np\n",
    "arr1 = np.array([1,2,3,4])\n",
    "arr2 = np.array([1,5,2,9])\n",
    "arr3 = np.array([9,2,3,5])\n",
    "arr4 = np.array([8,2,9,4])\n",
    "\n",
    "concat_arr = np.concatenate((arr1,arr2,arr3, arr4))\n",
    "\n",
    "print(concat_arr)       # merged into one and make 1d of all\n",
    "\n",
    "stacked = np.stack((arr1,arr2,arr3,arr4),axis = 0)       # it will create 2D array with 4 rows and 1 column\n",
    "print(stacked)         # it will create 2D array with 4 rows and 1 column\n",
    "\n",
    "\n",
    "print(\"*\"*25)\n",
    "# hstack\n",
    "\n",
    "import numpy as np\n",
    "arr1 = np.array([1,2,3,4])\n",
    "arr2 = np.array([1,5,2,9])\n",
    "arr3 = np.array([9,2,3,5])\n",
    "arr4 = np.array([8,2,9,4])\n",
    "\n",
    "concat_arr = np.hstack((arr1,arr2,arr3,arr4))\n",
    "\n",
    "print(concat_arr)\n",
    "\n",
    "print(\"*\"*25)\n",
    "\n",
    "# vstack\n",
    "import numpy as np\n",
    "arr1 = np.array([1,2,3,4])\n",
    "arr2 = np.array([1,5,2,9])\n",
    "arr3 = np.array([9,2,3,5])\n",
    "arr4 = np.array([8,2,9,4])\n",
    "\n",
    "concat_arr = np.vstack((arr1,arr2,arr3,arr4))\n",
    "\n",
    "print(concat_arr)           # it will create 2D array with 4 rows and 1 column"
   ]
  },
  {
   "cell_type": "code",
   "execution_count": 4,
   "id": "81d8d06d",
   "metadata": {},
   "outputs": [
    {
     "name": "stdout",
     "output_type": "stream",
     "text": [
      "[[1 2 3 4]\n",
      " [1 5 2 9]\n",
      " [9 2 3 5]\n",
      " [8 2 9 4]]\n",
      "[[1 1 9 8]\n",
      " [2 5 2 2]\n",
      " [3 2 3 9]\n",
      " [4 9 5 4]]\n"
     ]
    }
   ],
   "source": [
    "import numpy as np\n",
    "arr1 = np.array([1,2,3,4])\n",
    "arr2 = np.array([1,5,2,9])\n",
    "arr3 = np.array([9,2,3,5])\n",
    "arr4 = np.array([8,2,9,4])\n",
    "\n",
    "concat_arr = np.stack((arr1,arr2,arr3,arr4), axis = 0)\n",
    "\n",
    "concat_arr_ = np.stack((arr1,arr2,arr3,arr4), axis = 1)\n",
    "print(concat_arr)       # creating transpose of of the arrays\n",
    "print(concat_arr_)"
   ]
  },
  {
   "cell_type": "markdown",
   "id": "fd7a37be",
   "metadata": {},
   "source": [
    "#### basic array operations :- addition , subtraction, multiplication , division"
   ]
  },
  {
   "cell_type": "code",
   "execution_count": 34,
   "id": "f64afe66",
   "metadata": {},
   "outputs": [
    {
     "name": "stdout",
     "output_type": "stream",
     "text": [
      "[2 3]\n",
      "*************************\n",
      "[0 1]\n",
      "*************************\n",
      "[1 4]\n",
      "*************************\n",
      "[1. 1.]\n",
      "*************************\n",
      "[3 3]\n",
      "*************************\n",
      "[2 4]\n"
     ]
    },
    {
     "data": {
      "text/plain": [
       "array([1.6, 3.2])"
      ]
     },
     "execution_count": 34,
     "metadata": {},
     "output_type": "execute_result"
    }
   ],
   "source": [
    "# adding the elements\n",
    "data = np.array([1, 2])\n",
    "ones = np.ones(2,dtype = int)\n",
    "print(data + ones)\n",
    "print(\"*\"*25)\n",
    "print(data- ones)\n",
    "print(\"*\"*25)\n",
    "print(data*data)\n",
    "print(\"*\"*25)\n",
    "print(data/data)\n",
    "\n",
    "\n",
    "a = np.array([1, 2, 3, 4])\n",
    "a.sum()\n",
    "print(\"*\"*25)\n",
    "b = np.array([[1, 1], [2, 2]])\n",
    "print(b.sum(axis = 0))      # sum column wise implies sum over axis of rows\n",
    "print(\"*\"*25)\n",
    "print(b.sum(axis = 1))      # sum row wise implies sum over axis of columns\n",
    "\n",
    "\n",
    "# operation between a vector and a scalar or between arrays of two different sizes\n",
    "data = np.array([1.0, 2.0])\n",
    "data * 1.6"
   ]
  },
  {
   "cell_type": "markdown",
   "id": "c9bb3134",
   "metadata": {},
   "source": [
    "### unique items and counts"
   ]
  },
  {
   "cell_type": "code",
   "execution_count": 45,
   "id": "9bea9f17",
   "metadata": {},
   "outputs": [
    {
     "name": "stdout",
     "output_type": "stream",
     "text": [
      "[11 12 13 14 15 16 17 18 19 20]\n",
      "*************************\n",
      "[ 0  2  3  4  5  6  7 12 13 14]\n",
      "*************************\n",
      "[3 2 2 2 1 1 1 1 1 1]\n",
      "*************************\n",
      "[ 1  2  3  4  5  6  7  8  9 10 11 12]\n",
      "*************************\n",
      "[[ 1  2  3  4]\n",
      " [ 5  6  7  8]\n",
      " [ 9 10 11 12]]\n"
     ]
    }
   ],
   "source": [
    "a = np.array([11, 11, 12, 13, 14, 15, 16, 17, 12, 13, 11, 14, 18, 19, 20])\n",
    "unique_values = np.unique(a)\n",
    "print(unique_values)\n",
    "print(\"*\"*25)\n",
    "unique_values, indices_list = np.unique(a, return_index=True)\n",
    "print(indices_list)\n",
    "print(\"*\"*25)\n",
    "unique_values, occurrence_count = np.unique(a, return_counts=True)\n",
    "print(occurrence_count)\n",
    "print(\"*\"*25)\n",
    "a_2d = np.array([[1, 2, 3, 4], [5, 6, 7, 8], [9, 10, 11, 12], [1, 2, 3, 4]])\n",
    "unique_values = np.unique(a_2d)\n",
    "print(unique_values)\n",
    "print(\"*\"*25)\n",
    "unique_values = np.unique(a_2d, axis=0)  # unique rows\n",
    "print(unique_values)"
   ]
  },
  {
   "cell_type": "markdown",
   "id": "05ccb19a",
   "metadata": {},
   "source": [
    "### Transposing and reshaping matrix and flipping area"
   ]
  },
  {
   "cell_type": "code",
   "execution_count": 57,
   "id": "031e462d",
   "metadata": {},
   "outputs": [
    {
     "name": "stdout",
     "output_type": "stream",
     "text": [
      "[[0 1 2]\n",
      " [3 4 5]]\n",
      "[[0 3]\n",
      " [1 4]\n",
      " [2 5]]\n",
      "[[0 3]\n",
      " [1 4]\n",
      " [2 5]]\n",
      "*************************\n",
      "[8 7 6 5 4 3 2 1]\n",
      "[[ 1  2  3  4]\n",
      " [ 5  6  7  8]\n",
      " [ 9 10 11 12]]\n",
      "[[ 4  3  2  1]\n",
      " [ 8  7  6  5]\n",
      " [12 11 10  9]]\n",
      "[[ 9 10 11 12]\n",
      " [ 5  6  7  8]\n",
      " [ 1  2  3  4]]\n"
     ]
    }
   ],
   "source": [
    "## Transpose of the array\n",
    "arr = np.arange(6).reshape((2, 3))\n",
    "print(arr)\n",
    "print(arr.transpose())\n",
    "print(arr.T)          # it will create transpose of the array\n",
    "\n",
    "print(\"*\"*25)\n",
    "# reversing\n",
    "arr = np.array([1, 2, 3, 4, 5, 6, 7, 8])\n",
    "print(np.flip(arr))\n",
    "\n",
    "# reversing 2D array\n",
    "arr_2d = np.array([[1, 2, 3, 4], [5, 6, 7, 8], [9, 10, 11, 12]])\n",
    "print(arr_2d)\n",
    "print(np.flip(arr_2d, axis=1))  # reverse rows\n",
    "print(np.flip(arr_2d, axis=0))  # reverse columns"
   ]
  },
  {
   "cell_type": "markdown",
   "id": "5bb45e3e",
   "metadata": {},
   "source": [
    "### Linear Algebra "
   ]
  },
  {
   "cell_type": "markdown",
   "id": "aba62d56",
   "metadata": {},
   "source": [
    "#### dot produt"
   ]
  },
  {
   "cell_type": "code",
   "execution_count": 4,
   "id": "3db1cc58",
   "metadata": {},
   "outputs": [
    {
     "name": "stdout",
     "output_type": "stream",
     "text": [
      "70\n"
     ]
    }
   ],
   "source": [
    "x = np.array([1,2,3,4])\n",
    "y = np.array([5,6,7,8])\n",
    "dot_product = np.dot(x, y)  # Dot product of x and y\n",
    "print(dot_product)\n",
    "\n",
    "# will throw an error because dimension mismatch, so it is must that dimension should be same\n",
    "# xy = np.array([1,2,3])\n",
    "# yz = np.array([4,5,6,7])\n",
    "# dot_product = np.dot(xy, yz)  # Dot product of xy and yz"
   ]
  },
  {
   "cell_type": "markdown",
   "id": "78d1c1cb",
   "metadata": {},
   "source": [
    "#### cross product"
   ]
  },
  {
   "cell_type": "code",
   "execution_count": 14,
   "id": "52ccfe65",
   "metadata": {},
   "outputs": [
    {
     "name": "stdout",
     "output_type": "stream",
     "text": [
      "[[1 2]\n",
      " [3 4]]\n",
      "[[5 6]\n",
      " [7 8]]\n",
      "[[19 22]\n",
      " [43 50]]\n",
      "[[23 34]\n",
      " [31 46]]\n"
     ]
    }
   ],
   "source": [
    "x = np.array([[1, 2], [3, 4]])\n",
    "print(x)\n",
    "y = np.array([[5, 6], [7, 8]])\n",
    "print(y)\n",
    "\n",
    "cross_product = np.matmul(x, y)  # Cross product of x and y\n",
    "print(cross_product)\n",
    "\n",
    "\n",
    "cross_product_ = np.matmul(y,x)  # Cross product of x and y\n",
    "print(cross_product_)"
   ]
  },
  {
   "cell_type": "code",
   "execution_count": 22,
   "id": "8d341ad1",
   "metadata": {},
   "outputs": [
    {
     "name": "stdout",
     "output_type": "stream",
     "text": [
      "[[1 2 1]\n",
      " [3 4 5]\n",
      " [6 7 8]]\n",
      "(3, 3)\n",
      "2\n",
      "9\n",
      "4\n",
      "6.000000000000001\n"
     ]
    }
   ],
   "source": [
    "# determinant\n",
    "x = np.array([[1, 2,1], [3, 4,5],[6,7,8]])\n",
    "print(x)\n",
    "print(x.shape)\n",
    "print(x.ndim)       # it will return the dimension of the array# 3D array hai\n",
    "print(x.size)       # it will return the size of the array\n",
    "print(x.itemsize)   # it will return the item size of the array\n",
    "\n",
    "det = np.linalg.det(x)  # Determinant of x\n",
    "print(det)"
   ]
  },
  {
   "cell_type": "code",
   "execution_count": 4,
   "id": "1a97109a",
   "metadata": {},
   "outputs": [
    {
     "name": "stdout",
     "output_type": "stream",
     "text": [
      "[[1 2 3]\n",
      " [4 5 6]]\n",
      "[[1 4]\n",
      " [2 5]\n",
      " [3 6]]\n"
     ]
    }
   ],
   "source": [
    "# transpose\n",
    "import numpy as np\n",
    "x = np.array([[1, 2, 3], [4, 5, 6]])\n",
    "print(x)\n",
    "# transpose of matrix\n",
    "x_transpose = np.transpose(x)  # Transpose of x\n",
    "print(x_transpose)"
   ]
  },
  {
   "cell_type": "code",
   "execution_count": 1,
   "id": "0fe072aa",
   "metadata": {},
   "outputs": [
    {
     "name": "stdout",
     "output_type": "stream",
     "text": [
      "[[1 2 3]\n",
      " [3 4 5]\n",
      " [5 6 7]]\n",
      "[[ 4.50359963e+15 -9.00719925e+15  4.50359963e+15]\n",
      " [-9.00719925e+15  1.80143985e+16 -9.00719925e+15]\n",
      " [ 4.50359963e+15 -9.00719925e+15  4.50359963e+15]]\n",
      "*************************\n"
     ]
    }
   ],
   "source": [
    "import numpy as np\n",
    "# inverse of matrix:- possible only for square matrix and whose determinant != 0\n",
    "matrix = np.array([[1, 2,3], [3, 4,5],[5,6,7]])\n",
    "print(matrix)\n",
    "inverse = np.linalg.inv(matrix) # Inverse of matrix\n",
    "print(inverse)\n",
    "\n",
    "print(\"*\"*25)\n",
    "# # will throw an error because the matrix is not square matrix\n",
    "# x = np.array([[1, 2, 3], [4, 5, 6]])\n",
    "# print(np.linalg.inv(x))"
   ]
  },
  {
   "cell_type": "code",
   "execution_count": 8,
   "id": "5ac96700",
   "metadata": {},
   "outputs": [
    {
     "name": "stdout",
     "output_type": "stream",
     "text": [
      "[[ 1  2  3]\n",
      " [ 4  5  6]\n",
      " [ 7  8 10]]\n",
      "[[10]\n",
      " [11]\n",
      " [12]]\n",
      "[[-9.33333333e+00]\n",
      " [ 9.66666667e+00]\n",
      " [ 3.55271368e-15]]\n"
     ]
    }
   ],
   "source": [
    "import numpy as np\n",
    "# solving linear algebra\n",
    "eq = np.array ([[1,2,3],[4,5,6],[7,8,10]])\n",
    "print(eq)\n",
    "\n",
    "sol = np.array([[10],[11],[12]])\n",
    "print(sol)\n",
    "\n",
    "solution = np.linalg.solve(eq,sol)\n",
    "print(solution)"
   ]
  },
  {
   "cell_type": "code",
   "execution_count": 10,
   "id": "d920d040",
   "metadata": {},
   "outputs": [
    {
     "name": "stdout",
     "output_type": "stream",
     "text": [
      "[6. 1.] [[ 0.9701425  -0.70710678]\n",
      " [ 0.24253563  0.70710678]]\n"
     ]
    }
   ],
   "source": [
    "# eigen values and eigen vectors\n",
    "import numpy as np\n",
    "A = np.array([[5,4],[1,2]])\n",
    "eigenvalues, eigenvectors = np.linalg.eig(A)\n",
    "print(eigenvalues,eigenvectors)"
   ]
  },
  {
   "cell_type": "markdown",
   "id": "6a59a730",
   "metadata": {},
   "source": [
    "### Saving the numpy file"
   ]
  },
  {
   "cell_type": "code",
   "execution_count": null,
   "id": "8bbca161",
   "metadata": {},
   "outputs": [
    {
     "name": "stdout",
     "output_type": "stream",
     "text": [
      "[[1 2 3]\n",
      " [4 5 6]\n",
      " [7 8 9]]\n"
     ]
    }
   ],
   "source": [
    "# textfile\n",
    "import numpy as np\n",
    "arr = np.array([[1,2,3],[4,5,6],[7,8,9]])\n",
    "print(arr)\n",
    "np.savetxt('data.txt',arr)"
   ]
  },
  {
   "cell_type": "code",
   "execution_count": 13,
   "id": "31a34670",
   "metadata": {},
   "outputs": [],
   "source": [
    "# numpy file \n",
    "import numpy as np\n",
    "arr = np.array([[1,2,3],[4,5,6],[7,8,9]])\n",
    "np.save('data.npy',arr)"
   ]
  },
  {
   "cell_type": "code",
   "execution_count": 18,
   "id": "797a28d7",
   "metadata": {},
   "outputs": [
    {
     "name": "stdout",
     "output_type": "stream",
     "text": [
      "[[1 2 3]\n",
      " [4 5 6]\n",
      " [7 8 9]]\n"
     ]
    }
   ],
   "source": [
    "# csv file\n",
    "import numpy as np\n",
    "arr = np.array([[1,2,3],[4,5,6],[7,8,9]])\n",
    "print(arr)\n",
    "np.savetxt(\"data1.csv\", arr, delimiter = \",\" , header = \"a,b,c\")       # it will create csv file with comma separated values"
   ]
  },
  {
   "cell_type": "code",
   "execution_count": 21,
   "id": "ceed281a",
   "metadata": {},
   "outputs": [
    {
     "name": "stdout",
     "output_type": "stream",
     "text": [
      "[[1 2 3]\n",
      " [4 5 6]\n",
      " [7 8 9]]\n"
     ]
    }
   ],
   "source": [
    "# json format\n",
    "arr = np.array([[1,2,3],[4,5,6],[7,8,9]])\n",
    "print(arr)\n",
    "np.savetxt(\"data.json\",arr,delimiter =  \",\")       # it will create json file with comma separated values"
   ]
  },
  {
   "cell_type": "code",
   "execution_count": null,
   "id": "4b20d18f",
   "metadata": {},
   "outputs": [],
   "source": [
    "# yaml\n",
    "arr = np.array([[1,2,3],[4,5,6],[7,8,9]])\n",
    "np.savetxt(\"data.yaml\",arr,delimiter =  \",\")       # it will create yaml file with comma separated values"
   ]
  },
  {
   "cell_type": "markdown",
   "id": "faca2254",
   "metadata": {},
   "source": [
    "### Reading the files"
   ]
  },
  {
   "cell_type": "code",
   "execution_count": 34,
   "id": "a9a3f647",
   "metadata": {},
   "outputs": [
    {
     "name": "stdout",
     "output_type": "stream",
     "text": [
      "[[1. 2. 3.]\n",
      " [4. 5. 6.]\n",
      " [7. 8. 9.]]\n",
      "<class 'numpy.ndarray'>\n",
      "(3, 3)\n",
      "*************************\n",
      "[[1 2 3]\n",
      " [4 5 6]\n",
      " [7 8 9]]\n"
     ]
    }
   ],
   "source": [
    "# text file\n",
    "data = np.loadtxt(\"data.txt\")       # it will load the text file\n",
    "print(data)\n",
    "print(type(data))       # it will return the type of the data\n",
    "print(data.shape)       # it will return the shape of the data\n",
    "print(\"*\"*25)\n",
    "data1 = np.load(\"D:/PYTHON/ipynb/advance python/data.npy\")\n",
    "print(data1)       # it will load the numpy file"
   ]
  },
  {
   "cell_type": "markdown",
   "id": "d14bc6c1",
   "metadata": {},
   "source": [
    "Writing the data into the file"
   ]
  },
  {
   "cell_type": "code",
   "execution_count": 40,
   "id": "5ab0e59e",
   "metadata": {},
   "outputs": [
    {
     "data": {
      "text/plain": [
       "array([1., 2., 3., 4.])"
      ]
     },
     "execution_count": 40,
     "metadata": {},
     "output_type": "execute_result"
    }
   ],
   "source": [
    "# replacing the exisiting the file\n",
    "text = np.array([1,2,3,4])\n",
    "np.savetxt(\"data.txt\",text,delimiter = \",\")       # it will create text file with comma separated values\n",
    "np.loadtxt(\"data.txt\")       # it will load the text file"
   ]
  },
  {
   "cell_type": "code",
   "execution_count": 43,
   "id": "e9f20882",
   "metadata": {},
   "outputs": [
    {
     "data": {
      "text/plain": [
       "array([[1, 2, 3],\n",
       "       [4, 5, 6],\n",
       "       [7, 8, 9]])"
      ]
     },
     "execution_count": 43,
     "metadata": {},
     "output_type": "execute_result"
    }
   ],
   "source": [
    "# appending the data to the exisiting file\n",
    "import numpy as np\n",
    "np.load(\"D:/PYTHON/ipynb/advance python/data.npy\")"
   ]
  }
 ],
 "metadata": {
  "kernelspec": {
   "display_name": "base",
   "language": "python",
   "name": "python3"
  },
  "language_info": {
   "codemirror_mode": {
    "name": "ipython",
    "version": 3
   },
   "file_extension": ".py",
   "mimetype": "text/x-python",
   "name": "python",
   "nbconvert_exporter": "python",
   "pygments_lexer": "ipython3",
   "version": "3.12.7"
  }
 },
 "nbformat": 4,
 "nbformat_minor": 5
}
