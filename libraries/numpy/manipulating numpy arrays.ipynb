{
 "cells": [
  {
   "cell_type": "markdown",
   "id": "549b2ffe",
   "metadata": {},
   "source": [
    "## Data Cleaning and analysis with NUMPY"
   ]
  },
  {
   "cell_type": "markdown",
   "id": "6e22a150",
   "metadata": {},
   "source": [
    "### Dealing with Null Values"
   ]
  },
  {
   "cell_type": "code",
   "execution_count": 18,
   "id": "6815810b",
   "metadata": {},
   "outputs": [
    {
     "name": "stdout",
     "output_type": "stream",
     "text": [
      "[1 2 3 None 4 5 6 None]\n",
      "object\n",
      "[False False False  True False False False  True]\n",
      "[None None]\n",
      "[1 2 3 4 5 6]\n"
     ]
    }
   ],
   "source": [
    "import numpy as np\n",
    "# converting null into \n",
    "arr = np.array([1, 2, 3, None,4,5,6,None])\n",
    "print(arr)\n",
    "print(arr.dtype)\n",
    "\n",
    "result = np.array([x is None for x in arr])\n",
    "print(result)\n",
    "\n",
    "\n",
    "\n",
    "print(arr[result])\n",
    "print(arr[~result])"
   ]
  },
  {
   "cell_type": "code",
   "execution_count": null,
   "id": "8cdd1e3a",
   "metadata": {},
   "outputs": [
    {
     "name": "stdout",
     "output_type": "stream",
     "text": [
      "[ 1.  2.  3. nan  4.  5.  6. nan]\n",
      "[1. 2. 3. 0. 4. 5. 6. 0.]\n"
     ]
    }
   ],
   "source": [
    "# replacing null with 0\n",
    "import numpy as np\n",
    "arr = np.array([1, 2, 3, np.nan,4,5,6,np.nan])\n",
    "print(arr)\n",
    "arr[np.isnan(arr)] = 0\n",
    "print(arr)"
   ]
  },
  {
   "cell_type": "code",
   "execution_count": 24,
   "id": "042c2d3d",
   "metadata": {},
   "outputs": [
    {
     "name": "stdout",
     "output_type": "stream",
     "text": [
      "[1.  2.  3.  3.5 4.  5.  6.  3.5]\n"
     ]
    }
   ],
   "source": [
    "arr = np.array([1, 2, 3, np.nan,4,5,6,np.nan])\n",
    "\n",
    "arr[np.isnan(arr)] = np.nanmean(arr)      # np.nan is used to represent missing values in numpy arrays\n",
    "print(arr)"
   ]
  }
 ],
 "metadata": {
  "kernelspec": {
   "display_name": "base",
   "language": "python",
   "name": "python3"
  },
  "language_info": {
   "codemirror_mode": {
    "name": "ipython",
    "version": 3
   },
   "file_extension": ".py",
   "mimetype": "text/x-python",
   "name": "python",
   "nbconvert_exporter": "python",
   "pygments_lexer": "ipython3",
   "version": "3.12.7"
  }
 },
 "nbformat": 4,
 "nbformat_minor": 5
}
